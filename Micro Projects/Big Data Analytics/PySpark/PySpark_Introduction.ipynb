{
  "nbformat": 4,
  "nbformat_minor": 0,
  "metadata": {
    "kernelspec": {
      "display_name": "Python 3",
      "language": "python",
      "name": "python3"
    },
    "language_info": {
      "codemirror_mode": {
        "name": "ipython",
        "version": 3
      },
      "file_extension": ".py",
      "mimetype": "text/x-python",
      "name": "python",
      "nbconvert_exporter": "python",
      "pygments_lexer": "ipython3",
      "version": "3.8.2"
    },
    "colab": {
      "provenance": []
    }
  },
  "cells": [
    {
      "cell_type": "markdown",
      "metadata": {
        "id": "FqfUz-Q1fZJK"
      },
      "source": [
        "### **PySpark**\n",
        "\n",
        "**Por: José María Manzano Ortega**."
      ]
    },
    {
      "cell_type": "markdown",
      "metadata": {
        "id": "phaga9kDY6AF"
      },
      "source": [
        "## **ÍNDICE**\n"
      ]
    },
    {
      "cell_type": "markdown",
      "metadata": {
        "id": "Ny9tgvVapCqc"
      },
      "source": [
        "En este *notebook*:\n",
        "1. Se aprende a trabajar con Apache Spark mediante Python.\n",
        "2. Se ven las opciones que tenemos para trabajar con los datos en Spark.\n",
        "3. Se cargarán los datos desde un fichero y se trabajará con estos conjuntos de datos de Big Data.\n",
        "\n",
        "\n",
        "Contenidos:\n",
        "1. Spark con Python (PySpark): Instalación y primer programa.    \n",
        "2. Sesión en PySpark.\n",
        "3. Lectura de datos de un fichero.\n",
        "4. Trabajar con DataFrames.  \n",
        "5. Aplicar consultas SQL sobre DataFrames."
      ]
    },
    {
      "cell_type": "markdown",
      "metadata": {
        "id": "vGeuySu9X9xU"
      },
      "source": [
        "##**1. SPARK CON PYTHON (PYSPARK): Instalación y primer programa.**"
      ]
    },
    {
      "cell_type": "markdown",
      "metadata": {
        "id": "lXi-UTXoaaDy"
      },
      "source": [
        "###**1.1. Instalar Java, Apache Spark, PySpark y Findspark.**"
      ]
    },
    {
      "cell_type": "markdown",
      "metadata": {
        "id": "BdHFo3QakQUh"
      },
      "source": [
        "Los programas de python que vamos a ver necesitarán tener instalado **Java** y **Apache Spark**. Java es necesario para poder ejecutar Spark.\n",
        "Con el siguiente código, le indicamos a Google Colaboratory que instale Apache Spark (Java ya está instalado)."
      ]
    },
    {
      "cell_type": "code",
      "metadata": {
        "id": "5Wf76hHtnAgS",
        "colab": {
          "base_uri": "https://localhost:8080/"
        },
        "outputId": "e14b710e-d920-4344-b42b-966b2f32e8b1"
      },
      "source": [
        "#Nos descargamos Apache Spark con Hadoop\n",
        "!wget -q --show-progress https://downloads.apache.org/spark/spark-3.5.3/spark-3.5.3-bin-hadoop3.tgz\n",
        "\n",
        "#Instalamos Apache Spark\n",
        "!tar xf spark-3.5.3-bin-hadoop3.tgz"
      ],
      "execution_count": 1,
      "outputs": [
        {
          "output_type": "stream",
          "name": "stdout",
          "text": [
            "spark-3.5.3-bin-had 100%[===================>] 382.29M  22.4MB/s    in 19s     \n"
          ]
        }
      ]
    },
    {
      "cell_type": "markdown",
      "metadata": {
        "id": "DNzkQIA8nf6t"
      },
      "source": [
        "Python ya está instalado. Ahora instalamos [`PySpark`](https://spark.apache.org/docs/latest/api/python/index.html) que, como hemos dicho, nos permite usar Spark desde Python.\n",
        "También vamos a tener que instalar [`Findspark`](https://github.com/minrk/findspark), que es\n",
        " una biblioteca de Python que nos ayuda a usar Spark en un cuaderno (*notebook*)."
      ]
    },
    {
      "cell_type": "code",
      "metadata": {
        "id": "fcVP8dZ1nu0V",
        "colab": {
          "base_uri": "https://localhost:8080/"
        },
        "outputId": "65cb9e1c-1761-4987-f40e-dc4784054bbd"
      },
      "source": [
        "!pip install pyspark   #Instalamos Spark para Python\n",
        "!pip install findspark #Instalamos FindSpark"
      ],
      "execution_count": 2,
      "outputs": [
        {
          "output_type": "stream",
          "name": "stdout",
          "text": [
            "Requirement already satisfied: pyspark in /usr/local/lib/python3.10/dist-packages (3.5.3)\n",
            "Requirement already satisfied: py4j==0.10.9.7 in /usr/local/lib/python3.10/dist-packages (from pyspark) (0.10.9.7)\n",
            "Requirement already satisfied: findspark in /usr/local/lib/python3.10/dist-packages (2.0.1)\n"
          ]
        }
      ]
    },
    {
      "cell_type": "markdown",
      "metadata": {
        "id": "KQTj6-lxhbOo"
      },
      "source": [
        "Una vez que están todos los programas y bibliotecas están instaladas, lo siguiente que debemos hacer es darle valores a las variables de entorno, para indicar dónde están instalados Java y Spark. Estas variables de entorno, las podemos modificar cuando instalemos Spark y Java y, la forma de darles valores, depende de nuestro sistema operativo (Windows, Mac, Linux). No obstante, en estos ejemplos, nosotros lo haremos desde Python.\n",
        "\n",
        "También hay que tener en cuenta que hay que especificar la ruta completa de dónde están instalados ambos programas."
      ]
    },
    {
      "cell_type": "code",
      "metadata": {
        "id": "8BDI1bmHjBYO"
      },
      "source": [
        "#Declaramos las variables de entorno\n",
        "import os\n",
        "#os.environ[\"JAVA_HOME\"] = \"/usr/lib/jvm/default-java\"\n",
        "os.environ[\"JAVA_HOME\"] = \"/usr/lib/jvm/java-11-openjdk-amd64\"\n",
        "os.environ[\"SPARK_HOME\"] = \"/content/spark-3.5.3-bin-hadoop3\""
      ],
      "execution_count": 3,
      "outputs": []
    },
    {
      "cell_type": "markdown",
      "metadata": {
        "id": "YI41KXbVotWD"
      },
      "source": [
        "Ya sólo queda decirle a `findspark` la carpeta en la que está Spark, para enlazarlo con Python."
      ]
    },
    {
      "cell_type": "code",
      "metadata": {
        "id": "ST9VHOPipyzH"
      },
      "source": [
        "#Indicamos donde está Spark\n",
        "import findspark\n",
        "findspark.init(\"spark-3.5.3-bin-hadoop3\")#SPARK_HOME"
      ],
      "execution_count": 4,
      "outputs": []
    },
    {
      "cell_type": "markdown",
      "metadata": {
        "id": "fqn844yBa1vQ"
      },
      "source": [
        "###**1.2. Primer programa en Spark**"
      ]
    },
    {
      "cell_type": "markdown",
      "metadata": {
        "id": "Va_oVO_7p_Gp"
      },
      "source": [
        "\n",
        "Una vez que en nuestro entorno de trabajo tenemos todo instalado y configurado, ya podemos empezar a trabajar con Spark desde Python. En el inicio de todo programa en PySpark, tendremos que crear una sesión."
      ]
    },
    {
      "cell_type": "code",
      "metadata": {
        "id": "Lvy8Hb11qRyn"
      },
      "source": [
        "#Creamos una sesión de Spark para poder trabajar\n",
        "from pyspark.sql import SparkSession\n",
        "spark = SparkSession.builder.master(\"local[2]\").getOrCreate()"
      ],
      "execution_count": 5,
      "outputs": []
    },
    {
      "cell_type": "markdown",
      "metadata": {
        "id": "ZQjNhvdFsfVm"
      },
      "source": [
        "Ya está todo preparado para probar Spark. Para ello, vamos a crear una variable binaria de forma aleatoria con un DataFrame de Pandas.\n",
        "\n",
        "Lo convertiremos a un DataFrame de Spark para comprobar que todo funciona y lo mostraremos por pantalla."
      ]
    },
    {
      "cell_type": "code",
      "metadata": {
        "id": "yS3Ui1xxFdoC",
        "colab": {
          "base_uri": "https://localhost:8080/"
        },
        "outputId": "8a9f5d0f-5c92-43f0-a1a6-09d901b0dad5"
      },
      "source": [
        "import random\n",
        "import pandas as pd\n",
        "\n",
        "#Creamos una variable aleatoria de valores binarios\n",
        "varBinaria=[{\"Binaria\": random.choice(\"01\")} for x in range(100)]\n",
        "\n",
        "#Convertimos la variable en un DataFrame de Pandas\n",
        "df = pd.DataFrame(varBinaria)\n",
        "\n",
        "#Convertimos el DataFrame de Pandas a Spark, y lo mostramos\n",
        "ddf = spark.createDataFrame(df)\n",
        "ddf.show(10)"
      ],
      "execution_count": 6,
      "outputs": [
        {
          "output_type": "stream",
          "name": "stdout",
          "text": [
            "+-------+\n",
            "|Binaria|\n",
            "+-------+\n",
            "|      1|\n",
            "|      1|\n",
            "|      0|\n",
            "|      1|\n",
            "|      0|\n",
            "|      1|\n",
            "|      0|\n",
            "|      1|\n",
            "|      1|\n",
            "|      0|\n",
            "+-------+\n",
            "only showing top 10 rows\n",
            "\n"
          ]
        }
      ]
    },
    {
      "cell_type": "markdown",
      "metadata": {
        "id": "v_xiNPFhpCqh"
      },
      "source": [
        "Los DataFrames de Sparks son muy similares a los DataFrame de Pandas. Aunque hay una diferencia notable, y es que los DataFrame de Spark pueden estar repartidos por varios ordenadores y los de Pandas sólo pueden estar en un solo ordenador. No obstante, se puede pasar de uno al otro sin mucho problema e incluso de forma eficiente con [Apache Arrow](https://spark.apache.org/docs/latest/sql-pyspark-pandas-with-arrow.html), siempre que los datos quepan en la memoria de sólo un ordenador.\n",
        "\n",
        "\n",
        "\n",
        "Veamos cómo:"
      ]
    },
    {
      "cell_type": "code",
      "metadata": {
        "id": "ox04GuFQpCqi",
        "colab": {
          "base_uri": "https://localhost:8080/",
          "height": 206
        },
        "outputId": "bffa3566-2a10-4720-e45a-3427b8e3f340"
      },
      "source": [
        "# Como antes, guardamos la variableBinaria en un DataFrame de Pandas\n",
        "pdf = pd.DataFrame(varBinaria)\n",
        "\n",
        "# Convertimos el DataFrame de Pandas a Spark\n",
        "sdf = spark.createDataFrame(pdf)\n",
        "\n",
        "# Convertimos el DataFrame de Spark DataFrame a uno de Pandas y lo mostramos\n",
        "psdf = sdf.select(\"*\").toPandas()\n",
        "psdf.head()\n"
      ],
      "execution_count": 7,
      "outputs": [
        {
          "output_type": "execute_result",
          "data": {
            "text/plain": [
              "  Binaria\n",
              "0       1\n",
              "1       1\n",
              "2       0\n",
              "3       1\n",
              "4       0"
            ],
            "text/html": [
              "\n",
              "  <div id=\"df-239c9135-37c2-4a5e-a4db-9a3cbb03bb8c\" class=\"colab-df-container\">\n",
              "    <div>\n",
              "<style scoped>\n",
              "    .dataframe tbody tr th:only-of-type {\n",
              "        vertical-align: middle;\n",
              "    }\n",
              "\n",
              "    .dataframe tbody tr th {\n",
              "        vertical-align: top;\n",
              "    }\n",
              "\n",
              "    .dataframe thead th {\n",
              "        text-align: right;\n",
              "    }\n",
              "</style>\n",
              "<table border=\"1\" class=\"dataframe\">\n",
              "  <thead>\n",
              "    <tr style=\"text-align: right;\">\n",
              "      <th></th>\n",
              "      <th>Binaria</th>\n",
              "    </tr>\n",
              "  </thead>\n",
              "  <tbody>\n",
              "    <tr>\n",
              "      <th>0</th>\n",
              "      <td>1</td>\n",
              "    </tr>\n",
              "    <tr>\n",
              "      <th>1</th>\n",
              "      <td>1</td>\n",
              "    </tr>\n",
              "    <tr>\n",
              "      <th>2</th>\n",
              "      <td>0</td>\n",
              "    </tr>\n",
              "    <tr>\n",
              "      <th>3</th>\n",
              "      <td>1</td>\n",
              "    </tr>\n",
              "    <tr>\n",
              "      <th>4</th>\n",
              "      <td>0</td>\n",
              "    </tr>\n",
              "  </tbody>\n",
              "</table>\n",
              "</div>\n",
              "    <div class=\"colab-df-buttons\">\n",
              "\n",
              "  <div class=\"colab-df-container\">\n",
              "    <button class=\"colab-df-convert\" onclick=\"convertToInteractive('df-239c9135-37c2-4a5e-a4db-9a3cbb03bb8c')\"\n",
              "            title=\"Convert this dataframe to an interactive table.\"\n",
              "            style=\"display:none;\">\n",
              "\n",
              "  <svg xmlns=\"http://www.w3.org/2000/svg\" height=\"24px\" viewBox=\"0 -960 960 960\">\n",
              "    <path d=\"M120-120v-720h720v720H120Zm60-500h600v-160H180v160Zm220 220h160v-160H400v160Zm0 220h160v-160H400v160ZM180-400h160v-160H180v160Zm440 0h160v-160H620v160ZM180-180h160v-160H180v160Zm440 0h160v-160H620v160Z\"/>\n",
              "  </svg>\n",
              "    </button>\n",
              "\n",
              "  <style>\n",
              "    .colab-df-container {\n",
              "      display:flex;\n",
              "      gap: 12px;\n",
              "    }\n",
              "\n",
              "    .colab-df-convert {\n",
              "      background-color: #E8F0FE;\n",
              "      border: none;\n",
              "      border-radius: 50%;\n",
              "      cursor: pointer;\n",
              "      display: none;\n",
              "      fill: #1967D2;\n",
              "      height: 32px;\n",
              "      padding: 0 0 0 0;\n",
              "      width: 32px;\n",
              "    }\n",
              "\n",
              "    .colab-df-convert:hover {\n",
              "      background-color: #E2EBFA;\n",
              "      box-shadow: 0px 1px 2px rgba(60, 64, 67, 0.3), 0px 1px 3px 1px rgba(60, 64, 67, 0.15);\n",
              "      fill: #174EA6;\n",
              "    }\n",
              "\n",
              "    .colab-df-buttons div {\n",
              "      margin-bottom: 4px;\n",
              "    }\n",
              "\n",
              "    [theme=dark] .colab-df-convert {\n",
              "      background-color: #3B4455;\n",
              "      fill: #D2E3FC;\n",
              "    }\n",
              "\n",
              "    [theme=dark] .colab-df-convert:hover {\n",
              "      background-color: #434B5C;\n",
              "      box-shadow: 0px 1px 3px 1px rgba(0, 0, 0, 0.15);\n",
              "      filter: drop-shadow(0px 1px 2px rgba(0, 0, 0, 0.3));\n",
              "      fill: #FFFFFF;\n",
              "    }\n",
              "  </style>\n",
              "\n",
              "    <script>\n",
              "      const buttonEl =\n",
              "        document.querySelector('#df-239c9135-37c2-4a5e-a4db-9a3cbb03bb8c button.colab-df-convert');\n",
              "      buttonEl.style.display =\n",
              "        google.colab.kernel.accessAllowed ? 'block' : 'none';\n",
              "\n",
              "      async function convertToInteractive(key) {\n",
              "        const element = document.querySelector('#df-239c9135-37c2-4a5e-a4db-9a3cbb03bb8c');\n",
              "        const dataTable =\n",
              "          await google.colab.kernel.invokeFunction('convertToInteractive',\n",
              "                                                    [key], {});\n",
              "        if (!dataTable) return;\n",
              "\n",
              "        const docLinkHtml = 'Like what you see? Visit the ' +\n",
              "          '<a target=\"_blank\" href=https://colab.research.google.com/notebooks/data_table.ipynb>data table notebook</a>'\n",
              "          + ' to learn more about interactive tables.';\n",
              "        element.innerHTML = '';\n",
              "        dataTable['output_type'] = 'display_data';\n",
              "        await google.colab.output.renderOutput(dataTable, element);\n",
              "        const docLink = document.createElement('div');\n",
              "        docLink.innerHTML = docLinkHtml;\n",
              "        element.appendChild(docLink);\n",
              "      }\n",
              "    </script>\n",
              "  </div>\n",
              "\n",
              "\n",
              "<div id=\"df-00cd2bf3-5660-406e-a305-ffcd03d1c06e\">\n",
              "  <button class=\"colab-df-quickchart\" onclick=\"quickchart('df-00cd2bf3-5660-406e-a305-ffcd03d1c06e')\"\n",
              "            title=\"Suggest charts\"\n",
              "            style=\"display:none;\">\n",
              "\n",
              "<svg xmlns=\"http://www.w3.org/2000/svg\" height=\"24px\"viewBox=\"0 0 24 24\"\n",
              "     width=\"24px\">\n",
              "    <g>\n",
              "        <path d=\"M19 3H5c-1.1 0-2 .9-2 2v14c0 1.1.9 2 2 2h14c1.1 0 2-.9 2-2V5c0-1.1-.9-2-2-2zM9 17H7v-7h2v7zm4 0h-2V7h2v10zm4 0h-2v-4h2v4z\"/>\n",
              "    </g>\n",
              "</svg>\n",
              "  </button>\n",
              "\n",
              "<style>\n",
              "  .colab-df-quickchart {\n",
              "      --bg-color: #E8F0FE;\n",
              "      --fill-color: #1967D2;\n",
              "      --hover-bg-color: #E2EBFA;\n",
              "      --hover-fill-color: #174EA6;\n",
              "      --disabled-fill-color: #AAA;\n",
              "      --disabled-bg-color: #DDD;\n",
              "  }\n",
              "\n",
              "  [theme=dark] .colab-df-quickchart {\n",
              "      --bg-color: #3B4455;\n",
              "      --fill-color: #D2E3FC;\n",
              "      --hover-bg-color: #434B5C;\n",
              "      --hover-fill-color: #FFFFFF;\n",
              "      --disabled-bg-color: #3B4455;\n",
              "      --disabled-fill-color: #666;\n",
              "  }\n",
              "\n",
              "  .colab-df-quickchart {\n",
              "    background-color: var(--bg-color);\n",
              "    border: none;\n",
              "    border-radius: 50%;\n",
              "    cursor: pointer;\n",
              "    display: none;\n",
              "    fill: var(--fill-color);\n",
              "    height: 32px;\n",
              "    padding: 0;\n",
              "    width: 32px;\n",
              "  }\n",
              "\n",
              "  .colab-df-quickchart:hover {\n",
              "    background-color: var(--hover-bg-color);\n",
              "    box-shadow: 0 1px 2px rgba(60, 64, 67, 0.3), 0 1px 3px 1px rgba(60, 64, 67, 0.15);\n",
              "    fill: var(--button-hover-fill-color);\n",
              "  }\n",
              "\n",
              "  .colab-df-quickchart-complete:disabled,\n",
              "  .colab-df-quickchart-complete:disabled:hover {\n",
              "    background-color: var(--disabled-bg-color);\n",
              "    fill: var(--disabled-fill-color);\n",
              "    box-shadow: none;\n",
              "  }\n",
              "\n",
              "  .colab-df-spinner {\n",
              "    border: 2px solid var(--fill-color);\n",
              "    border-color: transparent;\n",
              "    border-bottom-color: var(--fill-color);\n",
              "    animation:\n",
              "      spin 1s steps(1) infinite;\n",
              "  }\n",
              "\n",
              "  @keyframes spin {\n",
              "    0% {\n",
              "      border-color: transparent;\n",
              "      border-bottom-color: var(--fill-color);\n",
              "      border-left-color: var(--fill-color);\n",
              "    }\n",
              "    20% {\n",
              "      border-color: transparent;\n",
              "      border-left-color: var(--fill-color);\n",
              "      border-top-color: var(--fill-color);\n",
              "    }\n",
              "    30% {\n",
              "      border-color: transparent;\n",
              "      border-left-color: var(--fill-color);\n",
              "      border-top-color: var(--fill-color);\n",
              "      border-right-color: var(--fill-color);\n",
              "    }\n",
              "    40% {\n",
              "      border-color: transparent;\n",
              "      border-right-color: var(--fill-color);\n",
              "      border-top-color: var(--fill-color);\n",
              "    }\n",
              "    60% {\n",
              "      border-color: transparent;\n",
              "      border-right-color: var(--fill-color);\n",
              "    }\n",
              "    80% {\n",
              "      border-color: transparent;\n",
              "      border-right-color: var(--fill-color);\n",
              "      border-bottom-color: var(--fill-color);\n",
              "    }\n",
              "    90% {\n",
              "      border-color: transparent;\n",
              "      border-bottom-color: var(--fill-color);\n",
              "    }\n",
              "  }\n",
              "</style>\n",
              "\n",
              "  <script>\n",
              "    async function quickchart(key) {\n",
              "      const quickchartButtonEl =\n",
              "        document.querySelector('#' + key + ' button');\n",
              "      quickchartButtonEl.disabled = true;  // To prevent multiple clicks.\n",
              "      quickchartButtonEl.classList.add('colab-df-spinner');\n",
              "      try {\n",
              "        const charts = await google.colab.kernel.invokeFunction(\n",
              "            'suggestCharts', [key], {});\n",
              "      } catch (error) {\n",
              "        console.error('Error during call to suggestCharts:', error);\n",
              "      }\n",
              "      quickchartButtonEl.classList.remove('colab-df-spinner');\n",
              "      quickchartButtonEl.classList.add('colab-df-quickchart-complete');\n",
              "    }\n",
              "    (() => {\n",
              "      let quickchartButtonEl =\n",
              "        document.querySelector('#df-00cd2bf3-5660-406e-a305-ffcd03d1c06e button');\n",
              "      quickchartButtonEl.style.display =\n",
              "        google.colab.kernel.accessAllowed ? 'block' : 'none';\n",
              "    })();\n",
              "  </script>\n",
              "</div>\n",
              "\n",
              "    </div>\n",
              "  </div>\n"
            ],
            "application/vnd.google.colaboratory.intrinsic+json": {
              "type": "dataframe",
              "variable_name": "psdf",
              "summary": "{\n  \"name\": \"psdf\",\n  \"rows\": 100,\n  \"fields\": [\n    {\n      \"column\": \"Binaria\",\n      \"properties\": {\n        \"dtype\": \"category\",\n        \"num_unique_values\": 2,\n        \"samples\": [\n          \"0\",\n          \"1\"\n        ],\n        \"semantic_type\": \"\",\n        \"description\": \"\"\n      }\n    }\n  ]\n}"
            }
          },
          "metadata": {},
          "execution_count": 7
        }
      ]
    },
    {
      "cell_type": "markdown",
      "metadata": {
        "id": "q1MUot5AdEII"
      },
      "source": [
        "##**2. SESIÓN EN PYSPARK.**\n"
      ]
    },
    {
      "cell_type": "markdown",
      "metadata": {
        "id": "jZp4x101r72b"
      },
      "source": [
        "La puerta de entrada a toda la funcionalidad de Spark es la clase `SparkSession`. Para crear una sesión en Spark, usamos `SparkSession.builder`. En informática, una sesión es un intercambio de información interactiva semipermanente entre dos o más entidades, en nuestro caso entre Spark y Python.  Los atributos más comunes usados con [`SparkSession.builder`](https://spark.apache.org/docs/latest/api/python/pyspark.sql.html#pyspark.sql.SparkSession.Builder) son:\n",
        "\n",
        "*   `appName(nombre)` − Para darle un nombre a la aplicación.\n",
        "\n",
        "*   `config(clave, valor)` − Para darle un valor a una propiedad de la configuración.\n",
        "\n",
        "*   `master(valor)` − Para indicar la dirección en Internet (URL) del nodo maestro del clúster de ordenadores. Para ejecutarlo en nuestro ordenador personal se hace con `local` para ejecutarlo de forma local con una sola hebra de ejecución. Con `local[n]` se ejecuta localmente con `n` hebras. Si usamos `local[*]` ejecuta Spark en nuestro ordenador personal con tantas hebras como permita nuestra máquina.\n",
        "\n",
        "*   `getOrCreate()` - Este método obtiene una sesión de Spark existente o, si no hay ninguna, la crea."
      ]
    },
    {
      "cell_type": "code",
      "metadata": {
        "id": "cN_ZZy0NlQEr"
      },
      "source": [
        "#Creamos una sesión de Spark para poder trabajar\n",
        "from pyspark.sql import SparkSession\n",
        "\n",
        "spark = SparkSession.builder \\\n",
        "    .master(\"local[*]\") \\\n",
        "    .appName(\"Ejemplo básico PySpark\") \\\n",
        "    .config(\"spark.some.config.option\", \"some-value\") \\\n",
        "    .getOrCreate()\n"
      ],
      "execution_count": 8,
      "outputs": []
    },
    {
      "cell_type": "markdown",
      "metadata": {
        "id": "5dQ8yiU4dPZo"
      },
      "source": [
        "##**3. LECTURA DE DATOS DE UN FICHERO.**"
      ]
    },
    {
      "cell_type": "markdown",
      "metadata": {
        "id": "yhbV_xKD_9e1"
      },
      "source": [
        "Vamos a aprender cómo cargar un fichero en un DataFrame de Spark. Para ello vamos a trabajar con una versión del problema **SUSY**.\n",
        "\n",
        "El conjunto de datos **SUSY**, compuesto por 5,000,000 de instancias y 18 atributos. El objetivo es distinguir entre una señal que produce partículas supersimétricas (SUSY), valor de la variable clase igual a 1, y una que no, valor de la clase igual a cero.\n",
        "\n",
        "No obstante, para aprender, vamos a usar sólo 10,0000 instancias para entrenamiento y otro tanto para test.\n",
        "\n",
        "Antes que nada, vamos a cargar los datos en Google Colab.\n",
        "\n",
        "\n"
      ]
    },
    {
      "cell_type": "code",
      "metadata": {
        "id": "KNELCN_QAqSh",
        "colab": {
          "base_uri": "https://localhost:8080/"
        },
        "outputId": "cf341de0-290c-4250-bf39-dcae1a865415"
      },
      "source": [
        "#Nos descargamos los ficheros de datos en Google Colab\n",
        "!wget -nv --no-check-certificate 'https://docs.google.com/uc?export=download&id=1HOrM49tCLA_NqHyD_ps_cv483FPN7aWo' -O susy-10k-tra.csv\n",
        "!wget -nv --no-check-certificate 'https://docs.google.com/uc?export=download&id=1HT80d5cwU7HMi2XK8CNgxgHvxRZEZB_d' -O susy-10k-tst.csv\n",
        "#Vamos a mostrar la cabecera de los ficheros y dos filas, para comprobar\n",
        "#que se han bajado correctamente.\n",
        "!head -3 susy-10k-tra.csv\n",
        "!head -3 susy-10k-tst.csv"
      ],
      "execution_count": 9,
      "outputs": [
        {
          "output_type": "stream",
          "name": "stdout",
          "text": [
            "2024-09-26 14:45:16 URL:https://drive.usercontent.google.com/download?id=1HOrM49tCLA_NqHyD_ps_cv483FPN7aWo&export=download [3463157/3463157] -> \"susy-10k-tra.csv\" [1]\n",
            "2024-09-26 14:45:19 URL:https://drive.usercontent.google.com/download?id=1HT80d5cwU7HMi2XK8CNgxgHvxRZEZB_d&export=download [3469204/3469204] -> \"susy-10k-tst.csv\" [1]\n",
            "uno,dos,tres,cuatro,cinco,seis,siete,ocho,nueve,diez,once,doce,trece,catorce,quince,dieciseis,diecisiete,dieciocho,clase\n",
            "0.6433419585227966,1.3615427017211914,0.6828370690345764,0.48453789949417114,-0.32587578892707825,-0.8524075746536255,1.145269513130188,0.8196632862091064,0.40248867869377136,1.325475811958313,0.7232717275619507,0.6548330783843994,0.8034266233444214,0.37070924043655396,0.7308408617973328,0.5756281018257141,1.4113106727600098,0.19226300716400146,1.0\n",
            "1.2374616861343384,-0.4839438199996948,1.3800559043884277,1.6685774326324463,0.4818389117717743,-0.6302737593650818,0.6783822178840637,-0.43130290508270264,0.34755226969718933,-0.014657160267233849,1.3650861978530884,1.040429711341858,0.6763473749160767,0.6026328206062317,1.36842942237854,0.7144116759300232,0.9274933934211731,0.16320399940013885,1.0\n",
            "uno,dos,tres,cuatro,cinco,seis,siete,ocho,nueve,diez,once,doce,trece,catorce,quince,dieciseis,diecisiete,dieciocho,clase\n",
            "1.6795326471328735,-1.3285973072052002,1.721287727355957,0.8961411714553833,0.7851014137268066,-0.300307035446167,2.4243409633636475,0.24690665304660797,3.021253824234009,-2.0464718341827393,1.9866414070129395,2.2912914752960205,1.0234774351119995,2.0351436138153076,2.139514207839966,2.923895835876465,1.4491009712219238,0.2602680027484894,1.0\n",
            "0.8576836585998535,0.10346849262714386,-0.15959890186786652,0.49158814549446106,-0.46780043840408325,1.6336811780929565,1.2118911743164062,1.1086699962615967,1.492547631263733,-0.5306073427200317,0.6292113065719604,1.0887541770935059,1.5354979038238525,0.5368104577064514,0.7166863679885864,0.8678085207939148,1.2548242807388306,0.5520399808883667,1.0\n"
          ]
        }
      ]
    },
    {
      "cell_type": "markdown",
      "metadata": {
        "id": "rj4TJX6TGnon"
      },
      "source": [
        "Una vez que lo tenemos en disco vamos a usar el método `read` de la sesión (variable `spark`) para leer ambos ficheros.\n",
        "\n",
        "Si nos fijamos, para leer el primer fichero, se usan métodos con distintas opciones, por ejemplo, con `load()` indicamos el nombre del fichero. Con `format()` se indica que es un fichero CSV. Con `option()` le indicamos que obtenga el esquema de los datos (`inferSchema`) y que el fichero tiene una primera fila de cabecera con el nombre  las columnas (`header`). Se pueden indicar muchas más opciones, como la codificación, los separadores, comentarios, etc.\n",
        "\n",
        "También podemos abrir distintos tipos de formatos de ficheros (`json, parquet, orc, libsvm, csv, text`) en local, o desde una base de datos (usando `JDBC`) o usando HDFS.\n",
        "\n",
        "En la lectura del segundo fichero, hemos usado directamente el método `csv()` para leerlo. Al final de leerlos mostramos las 3 primeras líneas con el método `show()`.\n",
        "\n",
        "\n"
      ]
    },
    {
      "cell_type": "code",
      "metadata": {
        "id": "JIehfG5KGmzg",
        "colab": {
          "base_uri": "https://localhost:8080/"
        },
        "outputId": "7fea20d1-3c98-4a0b-f534-3eabd855a46c"
      },
      "source": [
        "#Leemos el conjunto de entrenamiento\n",
        "dfTra = spark.read \\\n",
        "    .format(\"csv\") \\\n",
        "    .option(\"inferSchema\",True) \\\n",
        "    .option(\"header\", True) \\\n",
        "    .load(\"susy-10k-tra.csv\")\n",
        "dfTra.show(3)\n",
        "\n",
        "#Leemos el conjunto de test\n",
        "dfTst = spark.read.csv('susy-10k-tst.csv',\n",
        "                     inferSchema=True,\n",
        "                     header=True)\n",
        "dfTst.show(3)"
      ],
      "execution_count": 10,
      "outputs": [
        {
          "output_type": "stream",
          "name": "stdout",
          "text": [
            "+------------------+-------------------+-------------------+-------------------+--------------------+-------------------+------------------+--------------------+-------------------+--------------------+------------------+------------------+------------------+-------------------+------------------+------------------+------------------+-------------------+-----+\n",
            "|               uno|                dos|               tres|             cuatro|               cinco|               seis|             siete|                ocho|              nueve|                diez|              once|              doce|             trece|            catorce|            quince|         dieciseis|        diecisiete|          dieciocho|clase|\n",
            "+------------------+-------------------+-------------------+-------------------+--------------------+-------------------+------------------+--------------------+-------------------+--------------------+------------------+------------------+------------------+-------------------+------------------+------------------+------------------+-------------------+-----+\n",
            "|0.6433419585227966| 1.3615427017211914| 0.6828370690345764|0.48453789949417114|-0.32587578892707825|-0.8524075746536255| 1.145269513130188|  0.8196632862091064|0.40248867869377136|   1.325475811958313|0.7232717275619507|0.6548330783843994|0.8034266233444214|0.37070924043655396|0.7308408617973328|0.5756281018257141|1.4113106727600098|0.19226300716400146|  1.0|\n",
            "|1.2374616861343384|-0.4839438199996948| 1.3800559043884277| 1.6685774326324463|  0.4818389117717743|-0.6302737593650818|0.6783822178840637|-0.43130290508270264|0.34755226969718933|-0.01465716026723...|1.3650861978530884| 1.040429711341858|0.6763473749160767| 0.6026328206062317|  1.36842942237854|0.7144116759300232|0.9274933934211731|0.16320399940013885|  1.0|\n",
            "|1.3433129787445068|  0.783230721950531|-0.7952934503555298|  1.475182294845581|  0.6200259327888489|0.43646135926246643|0.8689783811569214|   1.131447672843933| 0.3842912018299103|-0.49663621187210083|1.1656821966171265|1.3288121223449707|1.0115764141082764| 1.8998759984970093|1.1543011665344238| 1.430264949798584|0.6719890236854553|0.28056100010871887|  0.0|\n",
            "+------------------+-------------------+-------------------+-------------------+--------------------+-------------------+------------------+--------------------+-------------------+--------------------+------------------+------------------+------------------+-------------------+------------------+------------------+------------------+-------------------+-----+\n",
            "only showing top 3 rows\n",
            "\n",
            "+------------------+-------------------+--------------------+-------------------+--------------------+------------------+------------------+-------------------+------------------+-------------------+------------------+------------------+------------------+------------------+------------------+------------------+------------------+-------------------+-----+\n",
            "|               uno|                dos|                tres|             cuatro|               cinco|              seis|             siete|               ocho|             nueve|               diez|              once|              doce|             trece|           catorce|            quince|         dieciseis|        diecisiete|          dieciocho|clase|\n",
            "+------------------+-------------------+--------------------+-------------------+--------------------+------------------+------------------+-------------------+------------------+-------------------+------------------+------------------+------------------+------------------+------------------+------------------+------------------+-------------------+-----+\n",
            "|1.6795326471328735|-1.3285973072052002|   1.721287727355957| 0.8961411714553833|  0.7851014137268066|-0.300307035446167|2.4243409633636475|0.24690665304660797| 3.021253824234009|-2.0464718341827393|1.9866414070129395|2.2912914752960205|1.0234774351119995|2.0351436138153076| 2.139514207839966| 2.923895835876465|1.4491009712219238| 0.2602680027484894|  1.0|\n",
            "|0.8576836585998535|0.10346849262714386|-0.15959890186786652|0.49158814549446106|-0.46780043840408325|1.6336811780929565|1.2118911743164062| 1.1086699962615967| 1.492547631263733|-0.5306073427200317|0.6292113065719604|1.0887541770935059|1.5354979038238525|0.5368104577064514|0.7166863679885864|0.8678085207939148|1.2548242807388306| 0.5520399808883667|  1.0|\n",
            "| 0.679413378238678| 0.6467429399490356| -0.7623209953308105| 1.0956929922103882| 0.04633910581469536|1.1650936603546143|1.0221043825149536| -1.074870228767395|0.8398934602737427| 1.1044260263442993|0.7407406568527222|0.8633846044540405|1.0343234539031982|               0.0| 0.770002007484436|0.4708144962787628|1.4442930221557617|0.24737399816513062|  1.0|\n",
            "+------------------+-------------------+--------------------+-------------------+--------------------+------------------+------------------+-------------------+------------------+-------------------+------------------+------------------+------------------+------------------+------------------+------------------+------------------+-------------------+-----+\n",
            "only showing top 3 rows\n",
            "\n"
          ]
        }
      ]
    },
    {
      "cell_type": "markdown",
      "metadata": {
        "id": "c6G4aG35dYTD"
      },
      "source": [
        "##**4. TRABAJAR CON DATAFRAMES.**"
      ]
    },
    {
      "cell_type": "markdown",
      "metadata": {
        "id": "LHQrAPCwVunj"
      },
      "source": [
        "Ya que tenemos nuestros datos en DataFrames de Spark, vamos a aprender a trabajar con ellos.\n"
      ]
    },
    {
      "cell_type": "markdown",
      "metadata": {
        "id": "FQ7xl4j8dkYy"
      },
      "source": [
        "###**4.1. Navegando por los DataFrames.**"
      ]
    },
    {
      "cell_type": "markdown",
      "metadata": {
        "id": "iFpW7znO4k_j"
      },
      "source": [
        "Para ver el número de filas que tenemos, podemos usar el método `.count()` y para ver el número de columnas (variables) podemos usar la propiedad `.columns` y ver su tamaño. Para ver nombre y el tipo de dato de cada columna, esto es, el esquema, podemos usar el método `.printSchema()`.\n",
        "\n",
        "Para mostrar el DataFrame podemos usar el método `.show()` como hemos hecho anteriormente. También lo podemos usar en combinación del método `.describe()` que nos calcula un resumen estadístico del DataFrame.\n",
        "\n"
      ]
    },
    {
      "cell_type": "code",
      "metadata": {
        "id": "e5i-eQm7MI8Q",
        "colab": {
          "base_uri": "https://localhost:8080/"
        },
        "outputId": "f8913568-1f40-41e7-9102-eef902322a0e"
      },
      "source": [
        "#Mostramos el tamaño del fichero de entrenamiento\n",
        "print (\"TRAIN: \", len(dfTra.columns), \"variables y\" , dfTra.count(), \"instancias.\")\n",
        "#Mostramos el esquema y un resumen estadístico del fichero de entrenamiento\n",
        "print (\"Esquema de dfTra:\")\n",
        "dfTra.printSchema()\n",
        "print (\"Resumen estadístico dfTra:\")\n",
        "dfTra.describe().show()\n",
        "\n",
        "#Mostramos el tamaño del fichero de test\n",
        "print (\"\\nTEST: \", len(dfTst.columns), \"variables y\" , dfTst.count(), \"instancias.\")\n",
        "#Mostramos el esquema y un resumen estadístico del fichero de test\n",
        "print (\"Esquema de dfTst:\")\n",
        "dfTst.printSchema()\n",
        "print (\"Resumen estadístico dfTst:\")\n",
        "dfTst.describe().show()"
      ],
      "execution_count": 11,
      "outputs": [
        {
          "output_type": "stream",
          "name": "stdout",
          "text": [
            "TRAIN:  19 variables y 10000 instancias.\n",
            "Esquema de dfTra:\n",
            "root\n",
            " |-- uno: double (nullable = true)\n",
            " |-- dos: double (nullable = true)\n",
            " |-- tres: double (nullable = true)\n",
            " |-- cuatro: double (nullable = true)\n",
            " |-- cinco: double (nullable = true)\n",
            " |-- seis: double (nullable = true)\n",
            " |-- siete: double (nullable = true)\n",
            " |-- ocho: double (nullable = true)\n",
            " |-- nueve: double (nullable = true)\n",
            " |-- diez: double (nullable = true)\n",
            " |-- once: double (nullable = true)\n",
            " |-- doce: double (nullable = true)\n",
            " |-- trece: double (nullable = true)\n",
            " |-- catorce: double (nullable = true)\n",
            " |-- quince: double (nullable = true)\n",
            " |-- dieciseis: double (nullable = true)\n",
            " |-- diecisiete: double (nullable = true)\n",
            " |-- dieciocho: double (nullable = true)\n",
            " |-- clase: double (nullable = true)\n",
            "\n",
            "Resumen estadístico dfTra:\n",
            "+-------+-------------------+--------------------+-------------------+-------------------+--------------------+--------------------+--------------------+-------------------+--------------------+-------------------+-------------------+--------------------+--------------------+------------------+-------------------+--------------------+--------------------+--------------------+------------------+\n",
            "|summary|                uno|                 dos|               tres|             cuatro|               cinco|                seis|               siete|               ocho|               nueve|               diez|               once|                doce|               trece|           catorce|             quince|           dieciseis|          diecisiete|           dieciocho|             clase|\n",
            "+-------+-------------------+--------------------+-------------------+-------------------+--------------------+--------------------+--------------------+-------------------+--------------------+-------------------+-------------------+--------------------+--------------------+------------------+-------------------+--------------------+--------------------+--------------------+------------------+\n",
            "|  count|              10000|               10000|              10000|              10000|               10000|               10000|               10000|              10000|               10000|              10000|              10000|               10000|               10000|             10000|              10000|               10000|               10000|               10000|             10000|\n",
            "|   mean| 1.0105844479709865|0.002135145083703901|0.03153180114199349| 0.9986909561932087|-0.00378352357285...|-0.01162124044939...|   1.022859420047514|0.00328762106849681|  1.0164317971547725|0.01666437698438058| 1.0035032935500146|   1.007670896884054|  1.0027721071474254|0.9951626548908301| 1.0018501489117742|  1.0043849515310954|  0.9994148597975465|  0.2284110277385793|            0.4907|\n",
            "| stddev| 0.6885877649554591|   0.999561730431337|  1.001129772632101| 0.6465074491186091|    0.99966560096368|  0.9912936162083033|  0.8863104987757311| 0.9950585657130735|  0.9210862697361398| 1.0343269741843268|   0.63322994049121|  0.5895704842618016|  0.4734273635040888|0.8612098724907649| 0.6261232019932594|  0.6262698270290564| 0.43809601590470876| 0.19856168883032754|0.4999385000681437|\n",
            "|    min|0.26404643058776855| -2.0972509384155273|-1.7344238758087158|0.42862239480018616|  -2.055574417114258|  -1.733445644378662|0.015159129165112972|-1.7269458770751953|1.702003146419883...| -6.555927276611328|0.28486454486846924|0.017965905368328094|0.025821596384048462|               0.0|0.09629503637552261|0.005537927616387606|3.952852275688201E-4|2.907410089392215E-5|               0.0|\n",
            "|    max|   9.08115291595459|  2.0947682857513428| 1.7348058223724365|  8.538097381591797|   2.056532621383667|  1.7344598770141602|  10.350308418273926| 1.7404515743255615|   9.669214248657227| 10.429891586303711| 11.454028129577637|   8.885257720947266|    4.20127534866333| 4.705632209777832| 11.496587753295898|   4.833719253540039|  1.5916192531585693|  0.9693599939346313|               1.0|\n",
            "+-------+-------------------+--------------------+-------------------+-------------------+--------------------+--------------------+--------------------+-------------------+--------------------+-------------------+-------------------+--------------------+--------------------+------------------+-------------------+--------------------+--------------------+--------------------+------------------+\n",
            "\n",
            "\n",
            "TEST:  19 variables y 10000 instancias.\n",
            "Esquema de dfTst:\n",
            "root\n",
            " |-- uno: double (nullable = true)\n",
            " |-- dos: double (nullable = true)\n",
            " |-- tres: double (nullable = true)\n",
            " |-- cuatro: double (nullable = true)\n",
            " |-- cinco: double (nullable = true)\n",
            " |-- seis: double (nullable = true)\n",
            " |-- siete: double (nullable = true)\n",
            " |-- ocho: double (nullable = true)\n",
            " |-- nueve: double (nullable = true)\n",
            " |-- diez: double (nullable = true)\n",
            " |-- once: double (nullable = true)\n",
            " |-- doce: double (nullable = true)\n",
            " |-- trece: double (nullable = true)\n",
            " |-- catorce: double (nullable = true)\n",
            " |-- quince: double (nullable = true)\n",
            " |-- dieciseis: double (nullable = true)\n",
            " |-- diecisiete: double (nullable = true)\n",
            " |-- dieciocho: double (nullable = true)\n",
            " |-- clase: double (nullable = true)\n",
            "\n",
            "Resumen estadístico dfTst:\n",
            "+-------+-------------------+--------------------+--------------------+------------------+--------------------+--------------------+--------------------+--------------------+--------------------+--------------------+------------------+--------------------+--------------------+------------------+-------------------+--------------------+--------------------+--------------------+-------------------+\n",
            "|summary|                uno|                 dos|                tres|            cuatro|               cinco|                seis|               siete|                ocho|               nueve|                diez|              once|                doce|               trece|           catorce|             quince|           dieciseis|          diecisiete|           dieciocho|              clase|\n",
            "+-------+-------------------+--------------------+--------------------+------------------+--------------------+--------------------+--------------------+--------------------+--------------------+--------------------+------------------+--------------------+--------------------+------------------+-------------------+--------------------+--------------------+--------------------+-------------------+\n",
            "|  count|              10000|               10000|               10000|             10000|               10000|               10000|               10000|               10000|               10000|               10000|             10000|               10000|               10000|             10000|              10000|               10000|               10000|               10000|              10000|\n",
            "|   mean| 0.9320106867372989|-0.02446008473849...|-0.00279733429351...|0.9651433235794306|-0.01755370002964...|0.007794956488370645|  0.9053521824650467|0.012732784124973114|  0.9413687320105568|-0.02950434751152...|0.9538334141403436|  0.9406001203053631|  0.9894138016706333|0.9910862069570343| 0.9567301012784243|  0.9629238672500942|  0.9966045047627675| 0.21292803585089978|             0.3366|\n",
            "| stddev| 0.6323399577059364|  1.0293410081058787|  1.0097811572280877|0.6130319740234437|  1.0201197010694754|   0.996034878472626|  0.7760915875328087|  0.9965130963178218|  0.8217557519245278|  0.8774311101865347|0.5863620599864524|  0.5442741216204154|  0.4688657496274363|0.8436720346812803| 0.5805364606975197|   0.601121881584943| 0.43850248017629967| 0.18837965954220104|0.47257038870122536|\n",
            "|    min|0.25550660490989685| -2.0952916145324707| -1.7346282005310059|0.4286716878414154| -2.0578811168670654| -1.7339812517166138|0.003046659752726555|  -1.726658821105957|2.805099211400374...|  -9.301900863647461|0.2673070430755615|0.012789000757038593|0.025026028975844383|               0.0|0.12312130630016327|0.004476308822631836|3.633885935414582...|4.527159944700543E-6|                0.0|\n",
            "|    max|     7.672607421875|  2.0981152057647705|  1.7348334789276123|12.304210662841797|    2.05745530128479|  1.7342500686645508|  11.078539848327637|  1.7406558990478516|   8.842642784118652|   9.253178596496582| 7.947257995605469|   7.718428134918213|    3.88989520072937|11.134321212768555| 7.9750871658325195|    8.59022331237793|  1.5914267301559448|  0.9614160060882568|                1.0|\n",
            "+-------+-------------------+--------------------+--------------------+------------------+--------------------+--------------------+--------------------+--------------------+--------------------+--------------------+------------------+--------------------+--------------------+------------------+-------------------+--------------------+--------------------+--------------------+-------------------+\n",
            "\n"
          ]
        }
      ]
    },
    {
      "cell_type": "markdown",
      "metadata": {
        "id": "6eTSNOP5h_9D"
      },
      "source": [
        "\n",
        "Para trabajar con los Dataframes podemos quedarnos con una o varias columnas usando el método `select()`. Para identificar a las columnas podemos usar una cadena con el nombre de la columna, o usando el nombre de la columna como una propiedad del DataFrame, usando el DataFrame como un diccionario e indicando como clave el nombre de la columna, o bien, usando el DataFrame e indicando el número de columna, teniendo en cuenta que empezamos a contar desde cero."
      ]
    },
    {
      "cell_type": "code",
      "metadata": {
        "id": "_2xVjigijb62",
        "colab": {
          "base_uri": "https://localhost:8080/"
        },
        "outputId": "6d6bf0ec-4cf0-49c1-d06f-f0a4eccfd8dd"
      },
      "source": [
        "#Veamos distintas formas de quedarnos con las variables de entrada segunda,\n",
        "#cuarta y sexta.\n",
        "dfTra.select('dos','cuatro','seis').show(5)\n",
        "dfTra.select(dfTra.dos,dfTra.cuatro,dfTra.seis).show(5)\n",
        "dfTra.select(dfTra['dos'],dfTra['cuatro'],dfTra['seis']).show(5)\n",
        "dfTra.select(dfTra[1],dfTra[3],dfTra[5]).show(5)\n"
      ],
      "execution_count": 12,
      "outputs": [
        {
          "output_type": "stream",
          "name": "stdout",
          "text": [
            "+-------------------+-------------------+-------------------+\n",
            "|                dos|             cuatro|               seis|\n",
            "+-------------------+-------------------+-------------------+\n",
            "| 1.3615427017211914|0.48453789949417114|-0.8524075746536255|\n",
            "|-0.4839438199996948| 1.6685774326324463|-0.6302737593650818|\n",
            "|  0.783230721950531|  1.475182294845581|0.43646135926246643|\n",
            "| 0.9232335686683655|  0.519090473651886|-1.6212221384048462|\n",
            "|-0.4539290964603424|  2.352872848510742|0.03150284290313721|\n",
            "+-------------------+-------------------+-------------------+\n",
            "only showing top 5 rows\n",
            "\n",
            "+-------------------+-------------------+-------------------+\n",
            "|                dos|             cuatro|               seis|\n",
            "+-------------------+-------------------+-------------------+\n",
            "| 1.3615427017211914|0.48453789949417114|-0.8524075746536255|\n",
            "|-0.4839438199996948| 1.6685774326324463|-0.6302737593650818|\n",
            "|  0.783230721950531|  1.475182294845581|0.43646135926246643|\n",
            "| 0.9232335686683655|  0.519090473651886|-1.6212221384048462|\n",
            "|-0.4539290964603424|  2.352872848510742|0.03150284290313721|\n",
            "+-------------------+-------------------+-------------------+\n",
            "only showing top 5 rows\n",
            "\n",
            "+-------------------+-------------------+-------------------+\n",
            "|                dos|             cuatro|               seis|\n",
            "+-------------------+-------------------+-------------------+\n",
            "| 1.3615427017211914|0.48453789949417114|-0.8524075746536255|\n",
            "|-0.4839438199996948| 1.6685774326324463|-0.6302737593650818|\n",
            "|  0.783230721950531|  1.475182294845581|0.43646135926246643|\n",
            "| 0.9232335686683655|  0.519090473651886|-1.6212221384048462|\n",
            "|-0.4539290964603424|  2.352872848510742|0.03150284290313721|\n",
            "+-------------------+-------------------+-------------------+\n",
            "only showing top 5 rows\n",
            "\n",
            "+-------------------+-------------------+-------------------+\n",
            "|                dos|             cuatro|               seis|\n",
            "+-------------------+-------------------+-------------------+\n",
            "| 1.3615427017211914|0.48453789949417114|-0.8524075746536255|\n",
            "|-0.4839438199996948| 1.6685774326324463|-0.6302737593650818|\n",
            "|  0.783230721950531|  1.475182294845581|0.43646135926246643|\n",
            "| 0.9232335686683655|  0.519090473651886|-1.6212221384048462|\n",
            "|-0.4539290964603424|  2.352872848510742|0.03150284290313721|\n",
            "+-------------------+-------------------+-------------------+\n",
            "only showing top 5 rows\n",
            "\n"
          ]
        }
      ]
    },
    {
      "cell_type": "markdown",
      "metadata": {
        "id": "IiiuCBdipJws"
      },
      "source": [
        "\n",
        "También podemos filtrar los datos que queremos mostrar con el método `filter()`, agrupar valores comunes con el método `groupby()`, u ordenar los datos con el método `sort()`."
      ]
    },
    {
      "cell_type": "code",
      "metadata": {
        "id": "gItFJqpYpLH4",
        "colab": {
          "base_uri": "https://localhost:8080/"
        },
        "outputId": "6be62bfc-99c4-4096-90fb-6e76570dedaa"
      },
      "source": [
        "#Nos quedamos con aquellas filas donde el valor del atributo \"dos\" es positivo.\n",
        "dfTra.filter(dfTra.dos>0).show(5)\n",
        "\n",
        "#Agrupamos los distintos valores de la variable de salida.\n",
        "dfTra.groupby(dfTra['clase']).count().show()\n",
        "\n",
        "#Ordenamos los valores del atributo \"dos\".\n",
        "dfTra.select(dfTra[0], 'dos').sort('dos').show(5)\n"
      ],
      "execution_count": 13,
      "outputs": [
        {
          "output_type": "stream",
          "name": "stdout",
          "text": [
            "+------------------+-------------------+--------------------+-------------------+--------------------+--------------------+-------------------+-------------------+-------------------+--------------------+------------------+------------------+------------------+-------------------+------------------+------------------+-------------------+-------------------+-----+\n",
            "|               uno|                dos|                tres|             cuatro|               cinco|                seis|              siete|               ocho|              nueve|                diez|              once|              doce|             trece|            catorce|            quince|         dieciseis|         diecisiete|          dieciocho|clase|\n",
            "+------------------+-------------------+--------------------+-------------------+--------------------+--------------------+-------------------+-------------------+-------------------+--------------------+------------------+------------------+------------------+-------------------+------------------+------------------+-------------------+-------------------+-----+\n",
            "|0.6433419585227966| 1.3615427017211914|  0.6828370690345764|0.48453789949417114|-0.32587578892707825| -0.8524075746536255|  1.145269513130188| 0.8196632862091064|0.40248867869377136|   1.325475811958313|0.7232717275619507|0.6548330783843994|0.8034266233444214|0.37070924043655396|0.7308408617973328|0.5756281018257141| 1.4113106727600098|0.19226300716400146|  1.0|\n",
            "|1.3433129787445068|  0.783230721950531| -0.7952934503555298|  1.475182294845581|  0.6200259327888489| 0.43646135926246643| 0.8689783811569214|  1.131447672843933| 0.3842912018299103|-0.49663621187210083|1.1656821966171265|1.3288121223449707|1.0115764141082764| 1.8998759984970093|1.1543011665344238| 1.430264949798584| 0.6719890236854553|0.28056100010871887|  0.0|\n",
            "|0.6531051993370056| 0.9232335686683655|-0.31942081451416016|  0.519090473651886|-0.06831558048725128| -1.6212221384048462|0.38024044036865234| 0.8473420143127441|0.30507954955101013|-0.00403195200487...|0.5825600624084473|0.5741020441055298|0.8745092153549194| 0.8703949451446533| 0.573835015296936|0.6802302598953247| 0.6731339693069458|0.19332100450992584|  0.0|\n",
            "|1.4473743438720703|0.29060447216033936|  1.6244856119155884| 1.3687429428100586|  0.2262430042028427|-0.40477538108825684|  2.022763967514038|-1.0599849224090576| 2.8292150497436523|  1.5750445127487183|1.1832642555236816|1.4891462326049805|1.1167975664138794|                0.0|1.1833586692810059| 1.207862377166748| 1.2432576417922974|  0.216279998421669|  1.0|\n",
            "|0.5680980086326599| 1.0594782829284668| -0.8490674495697021| 0.9032514095306396|  1.9275730848312378| -1.6048691272735596|0.38126319646835327| 0.2678464651107788|0.43256959319114685|-0.02526632882654667|0.6639859676361084|0.6715020537376404|0.8974404335021973| 1.3705472946166992|0.5882234573364258| 1.070039987564087|0.27877238392829895|0.04317919909954071|  0.0|\n",
            "+------------------+-------------------+--------------------+-------------------+--------------------+--------------------+-------------------+-------------------+-------------------+--------------------+------------------+------------------+------------------+-------------------+------------------+------------------+-------------------+-------------------+-----+\n",
            "only showing top 5 rows\n",
            "\n",
            "+-----+-----+\n",
            "|clase|count|\n",
            "+-----+-----+\n",
            "|  0.0| 5093|\n",
            "|  1.0| 4907|\n",
            "+-----+-----+\n",
            "\n",
            "+-------------------+-------------------+\n",
            "|                uno|                dos|\n",
            "+-------------------+-------------------+\n",
            "|0.46628621220588684|-2.0972509384155273|\n",
            "| 0.4295693635940552| -2.097175121307373|\n",
            "| 0.5944685339927673| -2.095888614654541|\n",
            "| 0.6632121205329895|-2.0936601161956787|\n",
            "| 0.9641727805137634|-2.0893547534942627|\n",
            "+-------------------+-------------------+\n",
            "only showing top 5 rows\n",
            "\n"
          ]
        }
      ]
    },
    {
      "cell_type": "markdown",
      "metadata": {
        "id": "OOaehlaRdvsW"
      },
      "source": [
        "###**4.2 Modificando los DataFrames.**"
      ]
    },
    {
      "cell_type": "markdown",
      "metadata": {
        "id": "52oECOGuqAaM"
      },
      "source": [
        "Con el método `withColumn()` se puede cambiar el tipo de una columna, cambiar sus valores  y también puede utilizarse para crear una nueva columna. Para cambiar el nombre de una columna lo haremos con el método  `withColumnRenamed()`.\n",
        "\n",
        "Para eliminar una o varias columnas podemos usar el método `drop()` y con `dropDuplicates()` podemos eliminar aquellas filas que sean iguales, dejando sólo una de ellas.\n",
        "\n",
        "Con el método `join()` podremos unir tablas."
      ]
    },
    {
      "cell_type": "code",
      "metadata": {
        "id": "sX2Hi8-jqQaC",
        "colab": {
          "base_uri": "https://localhost:8080/"
        },
        "outputId": "9c91eb9e-835a-433f-ef2f-4a4b96387ad9"
      },
      "source": [
        "#Vamos cambiar la variable clase de dfTra de Real a Entero\n",
        "dfTra.withColumn(\"clase\",dfTra.clase.cast(\"Integer\")).show(5)\n",
        "\n",
        "#Vamos a multiplicar por dos los valores de la primera columna de dfTra\n",
        "dfTra.withColumn(\"uno\",dfTra.uno*2).show(5)\n",
        "\n",
        "#Vamos a añadir una columna con los valores de la primera columa de dfTra por 3\n",
        "dfTra.withColumn(\"porTres\",dfTra.tres*3).show(5)\n",
        "\n",
        "#Vamos a cambiar el nombre de la variable clase label\n",
        "dfTra.withColumnRenamed(\"clase\",\"label\").show(5)\n",
        "\n",
        "#Voy a eliminar la primera columna de dfTra\n",
        "dfTra.drop('uno').show(5)\n",
        "\n",
        "#Voy a eliminar la primera columna de dfTra y luego eliminar filas repetidas\n",
        "dfTra.drop('uno').dropDuplicates().show(5)\n",
        "\n",
        "#Nota: para que el cambio fuera permanente tendría que guardarse (son inmutables)\n",
        "#dfTra=dfTra.drop('uno').dropDuplicates()\n",
        "#dfTra.show(5)\n"
      ],
      "execution_count": 14,
      "outputs": [
        {
          "output_type": "stream",
          "name": "stdout",
          "text": [
            "+------------------+-------------------+--------------------+-------------------+--------------------+-------------------+-------------------+--------------------+-------------------+--------------------+------------------+------------------+------------------+-------------------+------------------+------------------+------------------+-------------------+-----+\n",
            "|               uno|                dos|                tres|             cuatro|               cinco|               seis|              siete|                ocho|              nueve|                diez|              once|              doce|             trece|            catorce|            quince|         dieciseis|        diecisiete|          dieciocho|clase|\n",
            "+------------------+-------------------+--------------------+-------------------+--------------------+-------------------+-------------------+--------------------+-------------------+--------------------+------------------+------------------+------------------+-------------------+------------------+------------------+------------------+-------------------+-----+\n",
            "|0.6433419585227966| 1.3615427017211914|  0.6828370690345764|0.48453789949417114|-0.32587578892707825|-0.8524075746536255|  1.145269513130188|  0.8196632862091064|0.40248867869377136|   1.325475811958313|0.7232717275619507|0.6548330783843994|0.8034266233444214|0.37070924043655396|0.7308408617973328|0.5756281018257141|1.4113106727600098|0.19226300716400146|    1|\n",
            "|1.2374616861343384|-0.4839438199996948|  1.3800559043884277| 1.6685774326324463|  0.4818389117717743|-0.6302737593650818| 0.6783822178840637|-0.43130290508270264|0.34755226969718933|-0.01465716026723...|1.3650861978530884| 1.040429711341858|0.6763473749160767| 0.6026328206062317|  1.36842942237854|0.7144116759300232|0.9274933934211731|0.16320399940013885|    1|\n",
            "|1.3433129787445068|  0.783230721950531| -0.7952934503555298|  1.475182294845581|  0.6200259327888489|0.43646135926246643| 0.8689783811569214|   1.131447672843933| 0.3842912018299103|-0.49663621187210083|1.1656821966171265|1.3288121223449707|1.0115764141082764| 1.8998759984970093|1.1543011665344238| 1.430264949798584|0.6719890236854553|0.28056100010871887|    0|\n",
            "|0.6531051993370056| 0.9232335686683655|-0.31942081451416016|  0.519090473651886|-0.06831558048725128|-1.6212221384048462|0.38024044036865234|  0.8473420143127441|0.30507954955101013|-0.00403195200487...|0.5825600624084473|0.5741020441055298|0.8745092153549194| 0.8703949451446533| 0.573835015296936|0.6802302598953247|0.6731339693069458|0.19332100450992584|    0|\n",
            "|1.5516648292541504|-0.4539290964603424|  1.4226588010787964|  2.352872848510742|  0.7626277804374695|0.03150284290313721| 1.0506685972213745| -0.7840972542762756|  1.571985125541687| -0.7112254500389099|1.9744004011154175|1.5981488227844238|0.7182844281196594| 2.3227782249450684|1.9981735944747925|1.7646944522857666|   1.2172771692276|0.06346789747476578|    1|\n",
            "+------------------+-------------------+--------------------+-------------------+--------------------+-------------------+-------------------+--------------------+-------------------+--------------------+------------------+------------------+------------------+-------------------+------------------+------------------+------------------+-------------------+-----+\n",
            "only showing top 5 rows\n",
            "\n",
            "+------------------+-------------------+--------------------+-------------------+--------------------+-------------------+-------------------+--------------------+-------------------+--------------------+------------------+------------------+------------------+-------------------+------------------+------------------+------------------+-------------------+-----+\n",
            "|               uno|                dos|                tres|             cuatro|               cinco|               seis|              siete|                ocho|              nueve|                diez|              once|              doce|             trece|            catorce|            quince|         dieciseis|        diecisiete|          dieciocho|clase|\n",
            "+------------------+-------------------+--------------------+-------------------+--------------------+-------------------+-------------------+--------------------+-------------------+--------------------+------------------+------------------+------------------+-------------------+------------------+------------------+------------------+-------------------+-----+\n",
            "|1.2866839170455933| 1.3615427017211914|  0.6828370690345764|0.48453789949417114|-0.32587578892707825|-0.8524075746536255|  1.145269513130188|  0.8196632862091064|0.40248867869377136|   1.325475811958313|0.7232717275619507|0.6548330783843994|0.8034266233444214|0.37070924043655396|0.7308408617973328|0.5756281018257141|1.4113106727600098|0.19226300716400146|  1.0|\n",
            "|2.4749233722686768|-0.4839438199996948|  1.3800559043884277| 1.6685774326324463|  0.4818389117717743|-0.6302737593650818| 0.6783822178840637|-0.43130290508270264|0.34755226969718933|-0.01465716026723...|1.3650861978530884| 1.040429711341858|0.6763473749160767| 0.6026328206062317|  1.36842942237854|0.7144116759300232|0.9274933934211731|0.16320399940013885|  1.0|\n",
            "|2.6866259574890137|  0.783230721950531| -0.7952934503555298|  1.475182294845581|  0.6200259327888489|0.43646135926246643| 0.8689783811569214|   1.131447672843933| 0.3842912018299103|-0.49663621187210083|1.1656821966171265|1.3288121223449707|1.0115764141082764| 1.8998759984970093|1.1543011665344238| 1.430264949798584|0.6719890236854553|0.28056100010871887|  0.0|\n",
            "|1.3062103986740112| 0.9232335686683655|-0.31942081451416016|  0.519090473651886|-0.06831558048725128|-1.6212221384048462|0.38024044036865234|  0.8473420143127441|0.30507954955101013|-0.00403195200487...|0.5825600624084473|0.5741020441055298|0.8745092153549194| 0.8703949451446533| 0.573835015296936|0.6802302598953247|0.6731339693069458|0.19332100450992584|  0.0|\n",
            "| 3.103329658508301|-0.4539290964603424|  1.4226588010787964|  2.352872848510742|  0.7626277804374695|0.03150284290313721| 1.0506685972213745| -0.7840972542762756|  1.571985125541687| -0.7112254500389099|1.9744004011154175|1.5981488227844238|0.7182844281196594| 2.3227782249450684|1.9981735944747925|1.7646944522857666|   1.2172771692276|0.06346789747476578|  1.0|\n",
            "+------------------+-------------------+--------------------+-------------------+--------------------+-------------------+-------------------+--------------------+-------------------+--------------------+------------------+------------------+------------------+-------------------+------------------+------------------+------------------+-------------------+-----+\n",
            "only showing top 5 rows\n",
            "\n",
            "+------------------+-------------------+--------------------+-------------------+--------------------+-------------------+-------------------+--------------------+-------------------+--------------------+------------------+------------------+------------------+-------------------+------------------+------------------+------------------+-------------------+-----+-------------------+\n",
            "|               uno|                dos|                tres|             cuatro|               cinco|               seis|              siete|                ocho|              nueve|                diez|              once|              doce|             trece|            catorce|            quince|         dieciseis|        diecisiete|          dieciocho|clase|            porTres|\n",
            "+------------------+-------------------+--------------------+-------------------+--------------------+-------------------+-------------------+--------------------+-------------------+--------------------+------------------+------------------+------------------+-------------------+------------------+------------------+------------------+-------------------+-----+-------------------+\n",
            "|0.6433419585227966| 1.3615427017211914|  0.6828370690345764|0.48453789949417114|-0.32587578892707825|-0.8524075746536255|  1.145269513130188|  0.8196632862091064|0.40248867869377136|   1.325475811958313|0.7232717275619507|0.6548330783843994|0.8034266233444214|0.37070924043655396|0.7308408617973328|0.5756281018257141|1.4113106727600098|0.19226300716400146|  1.0| 2.0485112071037292|\n",
            "|1.2374616861343384|-0.4839438199996948|  1.3800559043884277| 1.6685774326324463|  0.4818389117717743|-0.6302737593650818| 0.6783822178840637|-0.43130290508270264|0.34755226969718933|-0.01465716026723...|1.3650861978530884| 1.040429711341858|0.6763473749160767| 0.6026328206062317|  1.36842942237854|0.7144116759300232|0.9274933934211731|0.16320399940013885|  1.0|  4.140167713165283|\n",
            "|1.3433129787445068|  0.783230721950531| -0.7952934503555298|  1.475182294845581|  0.6200259327888489|0.43646135926246643| 0.8689783811569214|   1.131447672843933| 0.3842912018299103|-0.49663621187210083|1.1656821966171265|1.3288121223449707|1.0115764141082764| 1.8998759984970093|1.1543011665344238| 1.430264949798584|0.6719890236854553|0.28056100010871887|  0.0|-2.3858803510665894|\n",
            "|0.6531051993370056| 0.9232335686683655|-0.31942081451416016|  0.519090473651886|-0.06831558048725128|-1.6212221384048462|0.38024044036865234|  0.8473420143127441|0.30507954955101013|-0.00403195200487...|0.5825600624084473|0.5741020441055298|0.8745092153549194| 0.8703949451446533| 0.573835015296936|0.6802302598953247|0.6731339693069458|0.19332100450992584|  0.0|-0.9582624435424805|\n",
            "|1.5516648292541504|-0.4539290964603424|  1.4226588010787964|  2.352872848510742|  0.7626277804374695|0.03150284290313721| 1.0506685972213745| -0.7840972542762756|  1.571985125541687| -0.7112254500389099|1.9744004011154175|1.5981488227844238|0.7182844281196594| 2.3227782249450684|1.9981735944747925|1.7646944522857666|   1.2172771692276|0.06346789747476578|  1.0|  4.267976403236389|\n",
            "+------------------+-------------------+--------------------+-------------------+--------------------+-------------------+-------------------+--------------------+-------------------+--------------------+------------------+------------------+------------------+-------------------+------------------+------------------+------------------+-------------------+-----+-------------------+\n",
            "only showing top 5 rows\n",
            "\n",
            "+------------------+-------------------+--------------------+-------------------+--------------------+-------------------+-------------------+--------------------+-------------------+--------------------+------------------+------------------+------------------+-------------------+------------------+------------------+------------------+-------------------+-----+\n",
            "|               uno|                dos|                tres|             cuatro|               cinco|               seis|              siete|                ocho|              nueve|                diez|              once|              doce|             trece|            catorce|            quince|         dieciseis|        diecisiete|          dieciocho|label|\n",
            "+------------------+-------------------+--------------------+-------------------+--------------------+-------------------+-------------------+--------------------+-------------------+--------------------+------------------+------------------+------------------+-------------------+------------------+------------------+------------------+-------------------+-----+\n",
            "|0.6433419585227966| 1.3615427017211914|  0.6828370690345764|0.48453789949417114|-0.32587578892707825|-0.8524075746536255|  1.145269513130188|  0.8196632862091064|0.40248867869377136|   1.325475811958313|0.7232717275619507|0.6548330783843994|0.8034266233444214|0.37070924043655396|0.7308408617973328|0.5756281018257141|1.4113106727600098|0.19226300716400146|  1.0|\n",
            "|1.2374616861343384|-0.4839438199996948|  1.3800559043884277| 1.6685774326324463|  0.4818389117717743|-0.6302737593650818| 0.6783822178840637|-0.43130290508270264|0.34755226969718933|-0.01465716026723...|1.3650861978530884| 1.040429711341858|0.6763473749160767| 0.6026328206062317|  1.36842942237854|0.7144116759300232|0.9274933934211731|0.16320399940013885|  1.0|\n",
            "|1.3433129787445068|  0.783230721950531| -0.7952934503555298|  1.475182294845581|  0.6200259327888489|0.43646135926246643| 0.8689783811569214|   1.131447672843933| 0.3842912018299103|-0.49663621187210083|1.1656821966171265|1.3288121223449707|1.0115764141082764| 1.8998759984970093|1.1543011665344238| 1.430264949798584|0.6719890236854553|0.28056100010871887|  0.0|\n",
            "|0.6531051993370056| 0.9232335686683655|-0.31942081451416016|  0.519090473651886|-0.06831558048725128|-1.6212221384048462|0.38024044036865234|  0.8473420143127441|0.30507954955101013|-0.00403195200487...|0.5825600624084473|0.5741020441055298|0.8745092153549194| 0.8703949451446533| 0.573835015296936|0.6802302598953247|0.6731339693069458|0.19332100450992584|  0.0|\n",
            "|1.5516648292541504|-0.4539290964603424|  1.4226588010787964|  2.352872848510742|  0.7626277804374695|0.03150284290313721| 1.0506685972213745| -0.7840972542762756|  1.571985125541687| -0.7112254500389099|1.9744004011154175|1.5981488227844238|0.7182844281196594| 2.3227782249450684|1.9981735944747925|1.7646944522857666|   1.2172771692276|0.06346789747476578|  1.0|\n",
            "+------------------+-------------------+--------------------+-------------------+--------------------+-------------------+-------------------+--------------------+-------------------+--------------------+------------------+------------------+------------------+-------------------+------------------+------------------+------------------+-------------------+-----+\n",
            "only showing top 5 rows\n",
            "\n",
            "+-------------------+--------------------+-------------------+--------------------+-------------------+-------------------+--------------------+-------------------+--------------------+------------------+------------------+------------------+-------------------+------------------+------------------+------------------+-------------------+-----+\n",
            "|                dos|                tres|             cuatro|               cinco|               seis|              siete|                ocho|              nueve|                diez|              once|              doce|             trece|            catorce|            quince|         dieciseis|        diecisiete|          dieciocho|clase|\n",
            "+-------------------+--------------------+-------------------+--------------------+-------------------+-------------------+--------------------+-------------------+--------------------+------------------+------------------+------------------+-------------------+------------------+------------------+------------------+-------------------+-----+\n",
            "| 1.3615427017211914|  0.6828370690345764|0.48453789949417114|-0.32587578892707825|-0.8524075746536255|  1.145269513130188|  0.8196632862091064|0.40248867869377136|   1.325475811958313|0.7232717275619507|0.6548330783843994|0.8034266233444214|0.37070924043655396|0.7308408617973328|0.5756281018257141|1.4113106727600098|0.19226300716400146|  1.0|\n",
            "|-0.4839438199996948|  1.3800559043884277| 1.6685774326324463|  0.4818389117717743|-0.6302737593650818| 0.6783822178840637|-0.43130290508270264|0.34755226969718933|-0.01465716026723...|1.3650861978530884| 1.040429711341858|0.6763473749160767| 0.6026328206062317|  1.36842942237854|0.7144116759300232|0.9274933934211731|0.16320399940013885|  1.0|\n",
            "|  0.783230721950531| -0.7952934503555298|  1.475182294845581|  0.6200259327888489|0.43646135926246643| 0.8689783811569214|   1.131447672843933| 0.3842912018299103|-0.49663621187210083|1.1656821966171265|1.3288121223449707|1.0115764141082764| 1.8998759984970093|1.1543011665344238| 1.430264949798584|0.6719890236854553|0.28056100010871887|  0.0|\n",
            "| 0.9232335686683655|-0.31942081451416016|  0.519090473651886|-0.06831558048725128|-1.6212221384048462|0.38024044036865234|  0.8473420143127441|0.30507954955101013|-0.00403195200487...|0.5825600624084473|0.5741020441055298|0.8745092153549194| 0.8703949451446533| 0.573835015296936|0.6802302598953247|0.6731339693069458|0.19332100450992584|  0.0|\n",
            "|-0.4539290964603424|  1.4226588010787964|  2.352872848510742|  0.7626277804374695|0.03150284290313721| 1.0506685972213745| -0.7840972542762756|  1.571985125541687| -0.7112254500389099|1.9744004011154175|1.5981488227844238|0.7182844281196594| 2.3227782249450684|1.9981735944747925|1.7646944522857666|   1.2172771692276|0.06346789747476578|  1.0|\n",
            "+-------------------+--------------------+-------------------+--------------------+-------------------+-------------------+--------------------+-------------------+--------------------+------------------+------------------+------------------+-------------------+------------------+------------------+------------------+-------------------+-----+\n",
            "only showing top 5 rows\n",
            "\n",
            "+--------------------+--------------------+------------------+-------------------+-------------------+------------------+--------------------+--------------------+-------------------+------------------+------------------+------------------+------------------+-------------------+-------------------+------------------+-------------------+-----+\n",
            "|                 dos|                tres|            cuatro|              cinco|               seis|             siete|                ocho|               nueve|               diez|              once|              doce|             trece|           catorce|             quince|          dieciseis|        diecisiete|          dieciocho|clase|\n",
            "+--------------------+--------------------+------------------+-------------------+-------------------+------------------+--------------------+--------------------+-------------------+------------------+------------------+------------------+------------------+-------------------+-------------------+------------------+-------------------+-----+\n",
            "|-0.02066096663475...|-0.35148099064826965|3.6056082248687744|-0.5600031614303589| 1.2318525314331055| 1.174253225326538|-0.33921247720718384|0.017000263556838036| 0.7123373746871948|2.4291250705718994|1.7667367458343506|0.6454152464866638|               0.0|  2.438508987426758|0.49580252170562744|1.1592260599136353|0.11882399767637253|  1.0|\n",
            "| 0.06321011483669281| 0.42071348428726196|0.8139340877532959|  1.333505630493164|-0.1498633176088333| 4.630528450012207|   0.653083086013794|    2.76544189453125|  3.159876823425293|0.6791099309921265|1.1658343076705933|1.5234037637710571| 1.399927020072937| 0.8349520564079285| 1.9075227975845337|1.3335816860198975|  0.541329026222229|  1.0|\n",
            "|  1.5953669548034668|   1.607389211654663|0.5569067597389221|  1.242787480354309| 1.4929640293121338|0.9677935242652893| 0.07558218389749527|    1.45277738571167|-0.5613475441932678|0.4073367714881897| 0.942797839641571|2.0539135932922363| 2.051363468170166|0.47274187207221985| 1.5272313356399536|1.1381853818893433| 0.6326349973678589|  0.0|\n",
            "|  1.0783820152282715| -0.9710724949836731|0.7282233238220215| 0.6760023236274719|0.27052927017211914|0.7647109627723694|  0.5430238842964172|  0.5321421027183533|0.23676897585391998|0.4806082844734192|0.6727602481842041|1.2421841621398926|0.5911304950714111| 0.5014485120773315|  0.478081077337265|1.1363917589187622|0.41373899579048157|  0.0|\n",
            "| 0.08728343993425369|  -1.397156834602356|1.6386557817459106| 0.9572954177856445|0.07612748444080353|1.2580804824829102|  0.9992135763168335|  1.8885339498519897|-0.9370012283325195|  1.24954354763031|1.4382648468017578|1.0214216709136963|1.9363576173782349| 1.3211030960083008| 1.6207401752471924|1.5357874631881714|0.06869559735059738|  1.0|\n",
            "+--------------------+--------------------+------------------+-------------------+-------------------+------------------+--------------------+--------------------+-------------------+------------------+------------------+------------------+------------------+-------------------+-------------------+------------------+-------------------+-----+\n",
            "only showing top 5 rows\n",
            "\n"
          ]
        }
      ]
    },
    {
      "cell_type": "markdown",
      "source": [
        "Veamos ahora un ejemplo de un `join` o unión cartesiana de DataFrames."
      ],
      "metadata": {
        "id": "oe4-7jS5qJGj"
      }
    },
    {
      "cell_type": "code",
      "source": [
        "#Voy a añadir una nueva columna con el número de instancia\n",
        "from pyspark.sql import functions\n",
        "dftmp=dfTra.withColumn(\"id\", functions.monotonically_increasing_id())\n",
        "dftmp.show(5)\n",
        "\n",
        "#En df1 me voy a quedar con todas las columnas menos la clase\n",
        "lista=dftmp.columns[:-2]\n",
        "lista.insert(0,\"id\")\n",
        "df1=dftmp.select(lista)\n",
        "df1.show(5)\n",
        "\n",
        "#En df1 me voy a quedar con el id y la clase\n",
        "df2=dftmp.select(\"id\",\"clase\")\n",
        "df2.show(5)\n",
        "\n",
        "#Voy a añadir la clase a la tabla de atributos usando el atributo \"id\"\n",
        "df1.join(df2, df1.id == df2.id).show(5)"
      ],
      "metadata": {
        "id": "vvLupwrKqS1b",
        "colab": {
          "base_uri": "https://localhost:8080/"
        },
        "outputId": "05442f33-0808-486d-ef03-a6470eff9ada"
      },
      "execution_count": 15,
      "outputs": [
        {
          "output_type": "stream",
          "name": "stdout",
          "text": [
            "+------------------+-------------------+--------------------+-------------------+--------------------+-------------------+-------------------+--------------------+-------------------+--------------------+------------------+------------------+------------------+-------------------+------------------+------------------+------------------+-------------------+-----+---+\n",
            "|               uno|                dos|                tres|             cuatro|               cinco|               seis|              siete|                ocho|              nueve|                diez|              once|              doce|             trece|            catorce|            quince|         dieciseis|        diecisiete|          dieciocho|clase| id|\n",
            "+------------------+-------------------+--------------------+-------------------+--------------------+-------------------+-------------------+--------------------+-------------------+--------------------+------------------+------------------+------------------+-------------------+------------------+------------------+------------------+-------------------+-----+---+\n",
            "|0.6433419585227966| 1.3615427017211914|  0.6828370690345764|0.48453789949417114|-0.32587578892707825|-0.8524075746536255|  1.145269513130188|  0.8196632862091064|0.40248867869377136|   1.325475811958313|0.7232717275619507|0.6548330783843994|0.8034266233444214|0.37070924043655396|0.7308408617973328|0.5756281018257141|1.4113106727600098|0.19226300716400146|  1.0|  0|\n",
            "|1.2374616861343384|-0.4839438199996948|  1.3800559043884277| 1.6685774326324463|  0.4818389117717743|-0.6302737593650818| 0.6783822178840637|-0.43130290508270264|0.34755226969718933|-0.01465716026723...|1.3650861978530884| 1.040429711341858|0.6763473749160767| 0.6026328206062317|  1.36842942237854|0.7144116759300232|0.9274933934211731|0.16320399940013885|  1.0|  1|\n",
            "|1.3433129787445068|  0.783230721950531| -0.7952934503555298|  1.475182294845581|  0.6200259327888489|0.43646135926246643| 0.8689783811569214|   1.131447672843933| 0.3842912018299103|-0.49663621187210083|1.1656821966171265|1.3288121223449707|1.0115764141082764| 1.8998759984970093|1.1543011665344238| 1.430264949798584|0.6719890236854553|0.28056100010871887|  0.0|  2|\n",
            "|0.6531051993370056| 0.9232335686683655|-0.31942081451416016|  0.519090473651886|-0.06831558048725128|-1.6212221384048462|0.38024044036865234|  0.8473420143127441|0.30507954955101013|-0.00403195200487...|0.5825600624084473|0.5741020441055298|0.8745092153549194| 0.8703949451446533| 0.573835015296936|0.6802302598953247|0.6731339693069458|0.19332100450992584|  0.0|  3|\n",
            "|1.5516648292541504|-0.4539290964603424|  1.4226588010787964|  2.352872848510742|  0.7626277804374695|0.03150284290313721| 1.0506685972213745| -0.7840972542762756|  1.571985125541687| -0.7112254500389099|1.9744004011154175|1.5981488227844238|0.7182844281196594| 2.3227782249450684|1.9981735944747925|1.7646944522857666|   1.2172771692276|0.06346789747476578|  1.0|  4|\n",
            "+------------------+-------------------+--------------------+-------------------+--------------------+-------------------+-------------------+--------------------+-------------------+--------------------+------------------+------------------+------------------+-------------------+------------------+------------------+------------------+-------------------+-----+---+\n",
            "only showing top 5 rows\n",
            "\n",
            "+---+------------------+-------------------+--------------------+-------------------+--------------------+-------------------+-------------------+--------------------+-------------------+--------------------+------------------+------------------+------------------+-------------------+------------------+------------------+------------------+-------------------+\n",
            "| id|               uno|                dos|                tres|             cuatro|               cinco|               seis|              siete|                ocho|              nueve|                diez|              once|              doce|             trece|            catorce|            quince|         dieciseis|        diecisiete|          dieciocho|\n",
            "+---+------------------+-------------------+--------------------+-------------------+--------------------+-------------------+-------------------+--------------------+-------------------+--------------------+------------------+------------------+------------------+-------------------+------------------+------------------+------------------+-------------------+\n",
            "|  0|0.6433419585227966| 1.3615427017211914|  0.6828370690345764|0.48453789949417114|-0.32587578892707825|-0.8524075746536255|  1.145269513130188|  0.8196632862091064|0.40248867869377136|   1.325475811958313|0.7232717275619507|0.6548330783843994|0.8034266233444214|0.37070924043655396|0.7308408617973328|0.5756281018257141|1.4113106727600098|0.19226300716400146|\n",
            "|  1|1.2374616861343384|-0.4839438199996948|  1.3800559043884277| 1.6685774326324463|  0.4818389117717743|-0.6302737593650818| 0.6783822178840637|-0.43130290508270264|0.34755226969718933|-0.01465716026723...|1.3650861978530884| 1.040429711341858|0.6763473749160767| 0.6026328206062317|  1.36842942237854|0.7144116759300232|0.9274933934211731|0.16320399940013885|\n",
            "|  2|1.3433129787445068|  0.783230721950531| -0.7952934503555298|  1.475182294845581|  0.6200259327888489|0.43646135926246643| 0.8689783811569214|   1.131447672843933| 0.3842912018299103|-0.49663621187210083|1.1656821966171265|1.3288121223449707|1.0115764141082764| 1.8998759984970093|1.1543011665344238| 1.430264949798584|0.6719890236854553|0.28056100010871887|\n",
            "|  3|0.6531051993370056| 0.9232335686683655|-0.31942081451416016|  0.519090473651886|-0.06831558048725128|-1.6212221384048462|0.38024044036865234|  0.8473420143127441|0.30507954955101013|-0.00403195200487...|0.5825600624084473|0.5741020441055298|0.8745092153549194| 0.8703949451446533| 0.573835015296936|0.6802302598953247|0.6731339693069458|0.19332100450992584|\n",
            "|  4|1.5516648292541504|-0.4539290964603424|  1.4226588010787964|  2.352872848510742|  0.7626277804374695|0.03150284290313721| 1.0506685972213745| -0.7840972542762756|  1.571985125541687| -0.7112254500389099|1.9744004011154175|1.5981488227844238|0.7182844281196594| 2.3227782249450684|1.9981735944747925|1.7646944522857666|   1.2172771692276|0.06346789747476578|\n",
            "+---+------------------+-------------------+--------------------+-------------------+--------------------+-------------------+-------------------+--------------------+-------------------+--------------------+------------------+------------------+------------------+-------------------+------------------+------------------+------------------+-------------------+\n",
            "only showing top 5 rows\n",
            "\n",
            "+---+-----+\n",
            "| id|clase|\n",
            "+---+-----+\n",
            "|  0|  1.0|\n",
            "|  1|  1.0|\n",
            "|  2|  0.0|\n",
            "|  3|  0.0|\n",
            "|  4|  1.0|\n",
            "+---+-----+\n",
            "only showing top 5 rows\n",
            "\n",
            "+---+------------------+-------------------+--------------------+-------------------+--------------------+-------------------+-------------------+--------------------+-------------------+--------------------+------------------+------------------+------------------+-------------------+------------------+------------------+------------------+-------------------+---+-----+\n",
            "| id|               uno|                dos|                tres|             cuatro|               cinco|               seis|              siete|                ocho|              nueve|                diez|              once|              doce|             trece|            catorce|            quince|         dieciseis|        diecisiete|          dieciocho| id|clase|\n",
            "+---+------------------+-------------------+--------------------+-------------------+--------------------+-------------------+-------------------+--------------------+-------------------+--------------------+------------------+------------------+------------------+-------------------+------------------+------------------+------------------+-------------------+---+-----+\n",
            "|  0|0.6433419585227966| 1.3615427017211914|  0.6828370690345764|0.48453789949417114|-0.32587578892707825|-0.8524075746536255|  1.145269513130188|  0.8196632862091064|0.40248867869377136|   1.325475811958313|0.7232717275619507|0.6548330783843994|0.8034266233444214|0.37070924043655396|0.7308408617973328|0.5756281018257141|1.4113106727600098|0.19226300716400146|  0|  1.0|\n",
            "|  1|1.2374616861343384|-0.4839438199996948|  1.3800559043884277| 1.6685774326324463|  0.4818389117717743|-0.6302737593650818| 0.6783822178840637|-0.43130290508270264|0.34755226969718933|-0.01465716026723...|1.3650861978530884| 1.040429711341858|0.6763473749160767| 0.6026328206062317|  1.36842942237854|0.7144116759300232|0.9274933934211731|0.16320399940013885|  1|  1.0|\n",
            "|  2|1.3433129787445068|  0.783230721950531| -0.7952934503555298|  1.475182294845581|  0.6200259327888489|0.43646135926246643| 0.8689783811569214|   1.131447672843933| 0.3842912018299103|-0.49663621187210083|1.1656821966171265|1.3288121223449707|1.0115764141082764| 1.8998759984970093|1.1543011665344238| 1.430264949798584|0.6719890236854553|0.28056100010871887|  2|  0.0|\n",
            "|  3|0.6531051993370056| 0.9232335686683655|-0.31942081451416016|  0.519090473651886|-0.06831558048725128|-1.6212221384048462|0.38024044036865234|  0.8473420143127441|0.30507954955101013|-0.00403195200487...|0.5825600624084473|0.5741020441055298|0.8745092153549194| 0.8703949451446533| 0.573835015296936|0.6802302598953247|0.6731339693069458|0.19332100450992584|  3|  0.0|\n",
            "|  4|1.5516648292541504|-0.4539290964603424|  1.4226588010787964|  2.352872848510742|  0.7626277804374695|0.03150284290313721| 1.0506685972213745| -0.7840972542762756|  1.571985125541687| -0.7112254500389099|1.9744004011154175|1.5981488227844238|0.7182844281196594| 2.3227782249450684|1.9981735944747925|1.7646944522857666|   1.2172771692276|0.06346789747476578|  4|  1.0|\n",
            "+---+------------------+-------------------+--------------------+-------------------+--------------------+-------------------+-------------------+--------------------+-------------------+--------------------+------------------+------------------+------------------+-------------------+------------------+------------------+------------------+-------------------+---+-----+\n",
            "only showing top 5 rows\n",
            "\n"
          ]
        }
      ]
    },
    {
      "cell_type": "markdown",
      "metadata": {
        "id": "fy8D5En2eBaE"
      },
      "source": [
        "##**5. APLICAR CONSULTAS SQL SOBRE DATAFRAMES.**"
      ]
    },
    {
      "cell_type": "markdown",
      "metadata": {
        "id": "JJkUleKsbiDR"
      },
      "source": [
        "De forma análoga a como hemos trabajado con los DataFrames en el apartado anterior podemos hacerlo usando consultas SQL. Si el alumno tiene experiencia con SQL, usar SQL puede ser la mejor opción.\n",
        "\n",
        "Para poder trabajar con los DataFrames como tablas tendremos que definir vistas con el método `createOrReplaceTempView()`. Una vez que hayamos definido una vista y usando el método `sql()` de la sesión, podremos trabajar cómodamente usando SQL."
      ]
    },
    {
      "cell_type": "code",
      "metadata": {
        "id": "GEBayW9zRb3Z",
        "colab": {
          "base_uri": "https://localhost:8080/"
        },
        "outputId": "d1fe2c37-e7b5-49d0-b987-4992d87c040c"
      },
      "source": [
        "#Creamos vistas SQL para los DataFrame\n",
        "dfTra.createOrReplaceTempView(\"tablaTrain\")\n",
        "dfTst.createOrReplaceTempView(\"tablaTest\")\n",
        "\n",
        "#Mostramos las tablas que hay\n",
        "spark.sql(\"SHOW TABLES\").show()\n",
        "\n",
        "#Equivalente a dfTra.select('dos','cuatro','seis').show(5)\n",
        "sqlDF = spark.sql(\"SELECT dos,cuatro,seis FROM tablaTrain\")\n",
        "sqlDF.show(5)\n",
        "\n",
        "#Equivalente a dfTra.groupby(dfTra['clase']).count().show(5)\n",
        "spark.sql(\"SELECT clase, count(clase) FROM tablaTrain GROUP BY clase\").show(5)\n",
        "\n",
        "#Equivalente dfTra.select('uno', 'dos').sort('dos').show(5)\n",
        "spark.sql(\"SELECT uno,dos FROM tablaTrain ORDER BY dos\").show(5)\n",
        "\n",
        "#Ejemplo join ci\n",
        "df1.createOrReplaceTempView(\"tabla1\")\n",
        "df2.createOrReplaceTempView(\"tabla2\")\n",
        "#Equivalente a df1.join(df2, df1.id == df2.id).show(5)\n",
        "spark.sql(\"SELECT * FROM tabla1,tabla2 WHERE tabla1.id == tabla2.id\").show(5)"
      ],
      "execution_count": 16,
      "outputs": [
        {
          "output_type": "stream",
          "name": "stdout",
          "text": [
            "+---------+----------+-----------+\n",
            "|namespace| tableName|isTemporary|\n",
            "+---------+----------+-----------+\n",
            "|         | tablatest|       true|\n",
            "|         |tablatrain|       true|\n",
            "+---------+----------+-----------+\n",
            "\n",
            "+-------------------+-------------------+-------------------+\n",
            "|                dos|             cuatro|               seis|\n",
            "+-------------------+-------------------+-------------------+\n",
            "| 1.3615427017211914|0.48453789949417114|-0.8524075746536255|\n",
            "|-0.4839438199996948| 1.6685774326324463|-0.6302737593650818|\n",
            "|  0.783230721950531|  1.475182294845581|0.43646135926246643|\n",
            "| 0.9232335686683655|  0.519090473651886|-1.6212221384048462|\n",
            "|-0.4539290964603424|  2.352872848510742|0.03150284290313721|\n",
            "+-------------------+-------------------+-------------------+\n",
            "only showing top 5 rows\n",
            "\n",
            "+-----+------------+\n",
            "|clase|count(clase)|\n",
            "+-----+------------+\n",
            "|  0.0|        5093|\n",
            "|  1.0|        4907|\n",
            "+-----+------------+\n",
            "\n",
            "+-------------------+-------------------+\n",
            "|                uno|                dos|\n",
            "+-------------------+-------------------+\n",
            "|0.46628621220588684|-2.0972509384155273|\n",
            "| 0.4295693635940552| -2.097175121307373|\n",
            "| 0.5944685339927673| -2.095888614654541|\n",
            "| 0.6632121205329895|-2.0936601161956787|\n",
            "| 0.9641727805137634|-2.0893547534942627|\n",
            "+-------------------+-------------------+\n",
            "only showing top 5 rows\n",
            "\n",
            "+---+------------------+-------------------+--------------------+-------------------+--------------------+-------------------+-------------------+--------------------+-------------------+--------------------+------------------+------------------+------------------+-------------------+------------------+------------------+------------------+-------------------+---+-----+\n",
            "| id|               uno|                dos|                tres|             cuatro|               cinco|               seis|              siete|                ocho|              nueve|                diez|              once|              doce|             trece|            catorce|            quince|         dieciseis|        diecisiete|          dieciocho| id|clase|\n",
            "+---+------------------+-------------------+--------------------+-------------------+--------------------+-------------------+-------------------+--------------------+-------------------+--------------------+------------------+------------------+------------------+-------------------+------------------+------------------+------------------+-------------------+---+-----+\n",
            "|  0|0.6433419585227966| 1.3615427017211914|  0.6828370690345764|0.48453789949417114|-0.32587578892707825|-0.8524075746536255|  1.145269513130188|  0.8196632862091064|0.40248867869377136|   1.325475811958313|0.7232717275619507|0.6548330783843994|0.8034266233444214|0.37070924043655396|0.7308408617973328|0.5756281018257141|1.4113106727600098|0.19226300716400146|  0|  1.0|\n",
            "|  1|1.2374616861343384|-0.4839438199996948|  1.3800559043884277| 1.6685774326324463|  0.4818389117717743|-0.6302737593650818| 0.6783822178840637|-0.43130290508270264|0.34755226969718933|-0.01465716026723...|1.3650861978530884| 1.040429711341858|0.6763473749160767| 0.6026328206062317|  1.36842942237854|0.7144116759300232|0.9274933934211731|0.16320399940013885|  1|  1.0|\n",
            "|  2|1.3433129787445068|  0.783230721950531| -0.7952934503555298|  1.475182294845581|  0.6200259327888489|0.43646135926246643| 0.8689783811569214|   1.131447672843933| 0.3842912018299103|-0.49663621187210083|1.1656821966171265|1.3288121223449707|1.0115764141082764| 1.8998759984970093|1.1543011665344238| 1.430264949798584|0.6719890236854553|0.28056100010871887|  2|  0.0|\n",
            "|  3|0.6531051993370056| 0.9232335686683655|-0.31942081451416016|  0.519090473651886|-0.06831558048725128|-1.6212221384048462|0.38024044036865234|  0.8473420143127441|0.30507954955101013|-0.00403195200487...|0.5825600624084473|0.5741020441055298|0.8745092153549194| 0.8703949451446533| 0.573835015296936|0.6802302598953247|0.6731339693069458|0.19332100450992584|  3|  0.0|\n",
            "|  4|1.5516648292541504|-0.4539290964603424|  1.4226588010787964|  2.352872848510742|  0.7626277804374695|0.03150284290313721| 1.0506685972213745| -0.7840972542762756|  1.571985125541687| -0.7112254500389099|1.9744004011154175|1.5981488227844238|0.7182844281196594| 2.3227782249450684|1.9981735944747925|1.7646944522857666|   1.2172771692276|0.06346789747476578|  4|  1.0|\n",
            "+---+------------------+-------------------+--------------------+-------------------+--------------------+-------------------+-------------------+--------------------+-------------------+--------------------+------------------+------------------+------------------+-------------------+------------------+------------------+------------------+-------------------+---+-----+\n",
            "only showing top 5 rows\n",
            "\n"
          ]
        }
      ]
    }
  ]
}