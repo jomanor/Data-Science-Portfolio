{
 "cells": [
  {
   "cell_type": "markdown",
   "id": "d9015d9d",
   "metadata": {},
   "source": [
    "### Challenge Test 1"
   ]
  },
  {
   "cell_type": "markdown",
   "id": "3f56c4fc",
   "metadata": {},
   "source": [
    "##### 1.Escribe una función contar_letras(palabra, letra) que devuelva el número de veces que aparece letra en la cadena palabra. Ten cuenta que hay que considerar casos como:\n",
    "\n",
    "    contar_letras(\"\", \"\") devuelve 0\n",
    "    contar_letras(\"gferfrw\", \"\") devuelve 0\n",
    "    contar_letras(\"aaaaaaa\", \"a\") devuelve 7"
   ]
  },
  {
   "cell_type": "code",
   "execution_count": 1,
   "id": "b7b1390e",
   "metadata": {
    "scrolled": true
   },
   "outputs": [
    {
     "data": {
      "text/plain": [
       "1"
      ]
     },
     "execution_count": 1,
     "metadata": {},
     "output_type": "execute_result"
    }
   ],
   "source": [
    "def contar_letras(palabra, letra):\n",
    "    # Caso cuando palabra o letra están vacíos\n",
    "    if palabra == \"\" or letra == \"\":\n",
    "        return 0\n",
    "    \n",
    "    # Inicializar contador de ocurrencias\n",
    "    contador = 0\n",
    "    \n",
    "    # Iterar sobre cada carácter en la palabra\n",
    "    for char in palabra:\n",
    "        if char == letra:\n",
    "            contador += 1\n",
    "    \n",
    "    return contador\n",
    "\n",
    "contar_letras(\"hola\", \"h\")"
   ]
  },
  {
   "cell_type": "markdown",
   "id": "0193749e",
   "metadata": {},
   "source": [
    "##### 2.Escribe una función eliminar_letras(palabra, letra) que devuelva una versión de palabra que no contenga el carácter letra. Nota: Ten en cuenta que debe funcionar en casos como:\n",
    "\n",
    "    eliminar_letras(\"paabra\", \"\") devuelve \"paabra\"\n",
    "    eliminar_letras(\"paabra\", \"a\") devuelve \"pbr\"\n",
    "    eliminar_letras(\"\", \"a\") devuelve \"\""
   ]
  },
  {
   "cell_type": "code",
   "execution_count": 2,
   "id": "59388904",
   "metadata": {},
   "outputs": [
    {
     "data": {
      "text/plain": [
       "'plbr'"
      ]
     },
     "execution_count": 2,
     "metadata": {},
     "output_type": "execute_result"
    }
   ],
   "source": [
    "def eliminar_letras(palabra, letra):\n",
    "    if letra == \"\":\n",
    "        return palabra\n",
    "    \n",
    "    nueva_palabra = []\n",
    "    \n",
    "    for char in palabra:\n",
    "        if char != letra:\n",
    "            nueva_palabra.append(char)\n",
    "    \n",
    "    return \"\".join(nueva_palabra)\n",
    "\n",
    "eliminar_letras(\"palabra\", \"a\")"
   ]
  },
  {
   "cell_type": "markdown",
   "id": "9b9ee4ae",
   "metadata": {},
   "source": [
    "##### Apuntes:\n",
    "\n",
    "El método join se utiliza para concatenar elementos de una lista (u otra estructura iterable) en una sola cadena. Su sintaxis es la siguiente:\n",
    "\n",
    "cadena_resultante = separador.join(cadena)\n",
    "\n",
    "\n",
    "El método append en Python se utiliza para agregar un elemento al final de una lista. Su sintaxis es simple:\n",
    "\n",
    "cadena.append(elemento)\n"
   ]
  },
  {
   "cell_type": "markdown",
   "id": "e770beec",
   "metadata": {},
   "source": [
    "##### 3.Escribe una función vocales(palabra) que devuelva las vocales que aparecen en la palabra."
   ]
  },
  {
   "cell_type": "code",
   "execution_count": 3,
   "id": "0db745e1",
   "metadata": {},
   "outputs": [
    {
     "name": "stdout",
     "output_type": "stream",
     "text": [
      "['o', 'u', 'o']\n"
     ]
    }
   ],
   "source": [
    "def vocales(palabra):\n",
    "    # Lista de vocales en minúsculas y mayúsculas\n",
    "    vocales_lista = \"aeiouAEIOU\"\n",
    "    \n",
    "    # Lista para almacenar las vocales encontradas\n",
    "    vocales_encontradas = []\n",
    "    \n",
    "    # Iterar sobre cada caracter de la palabra\n",
    "    for char in palabra:\n",
    "        if char in vocales_lista:\n",
    "            vocales_encontradas.append(char)\n",
    "    \n",
    "    return vocales_encontradas\n",
    "\n",
    "print(vocales(\"monstruo\"))"
   ]
  },
  {
   "cell_type": "markdown",
   "id": "20a9d204",
   "metadata": {},
   "source": [
    "##### 4. Escribe una función es_inversa(palabra1, palabra2) que determine si una palabra es la misma que la otra pero con los caracteres en orden inverso. Por ejemplo 'absd' y 'dsba'"
   ]
  },
  {
   "cell_type": "code",
   "execution_count": 4,
   "id": "71478f23",
   "metadata": {},
   "outputs": [
    {
     "name": "stdout",
     "output_type": "stream",
     "text": [
      "True\n",
      "True\n"
     ]
    }
   ],
   "source": [
    "#Opción 1\n",
    "def es_inversa1(palabra1, palabra2):\n",
    "    for i in range(len(palabra1)):\n",
    "        if palabra1[i] != palabra2[-(i+1)]:\n",
    "            return False\n",
    "    \n",
    "    return True\n",
    "\n",
    "#Opción 2\n",
    "def es_inversa2(palabra1, palabra2):\n",
    "    # Obtener la palabra1 invertida\n",
    "    palabra1_invertida = palabra1[::-1]\n",
    "    \n",
    "    # Comparar con palabra2\n",
    "    if palabra1_invertida == palabra2:\n",
    "        return True\n",
    "    else:\n",
    "        return False\n",
    "\n",
    "print(es_inversa1(\"hola\", \"aloh\"))\n",
    "print(es_inversa2(\"hola\", \"aloh\"))"
   ]
  },
  {
   "cell_type": "markdown",
   "id": "90702314",
   "metadata": {},
   "source": [
    "##### 5.Escribe una función comunes(palabra1, palabra2) que devuelva una cadena formada por los caracteres comunes a las dos palabras"
   ]
  },
  {
   "cell_type": "code",
   "execution_count": 5,
   "id": "19b33e3e",
   "metadata": {},
   "outputs": [
    {
     "data": {
      "text/plain": [
       "'ola'"
      ]
     },
     "execution_count": 5,
     "metadata": {},
     "output_type": "execute_result"
    }
   ],
   "source": [
    "def comunes(palabra1, palabra2):\n",
    "    if palabra1 == \"\" or palabra2 == \"\":\n",
    "        return \"\"\n",
    "    \n",
    "    nueva_cadena = []\n",
    "    \n",
    "    for char1 in palabra1:\n",
    "        if char1 in palabra2:\n",
    "            nueva_cadena.append(char1)\n",
    "    \n",
    "    return \"\".join(nueva_cadena)\n",
    "\n",
    "    \n",
    "comunes(\"hola\", \"cola\")"
   ]
  },
  {
   "cell_type": "markdown",
   "id": "4c1b997e",
   "metadata": {},
   "source": [
    "##### 6. Escribe una función palindromo(frase) que determine si frase es un palíndromo. Es decir, que se lea igual de izquierda a derecha que de derecha a izquierda (sin considerar espacios). Nota: Ten en cuenta que debe funcionar en casos como:\n",
    "\n",
    "palindromo(\"hola loH\") devuelve True"
   ]
  },
  {
   "cell_type": "code",
   "execution_count": 6,
   "id": "468a51da",
   "metadata": {},
   "outputs": [
    {
     "data": {
      "text/plain": [
       "True"
      ]
     },
     "execution_count": 6,
     "metadata": {},
     "output_type": "execute_result"
    }
   ],
   "source": [
    "def palindromo(frase):\n",
    "    # Eliminar espacios y convertir a minúsculas\n",
    "    frase_sin_espacios = frase.replace(\" \", \"\").lower()\n",
    "    \n",
    "    # Verificar si la frase es igual a su reverso\n",
    "    return frase_sin_espacios == frase_sin_espacios[::-1]\n",
    "\n",
    "palindromo(\"hola loH\")"
   ]
  },
  {
   "cell_type": "markdown",
   "id": "163cf001",
   "metadata": {},
   "source": [
    "##### Apuntes:\n",
    "\n",
    "La función replace() se utiliza para reemplazar ocurrencias de una subcadena específica dentro de una cadena más grande con otra subcadena. Su sintaxis es:\n",
    "\n",
    "cadena.replace(subcadena_vieja, subcadena_nueva)\n",
    "\n",
    "La función lower() se utiliza para convertir todos los caracteres de una cadena a minúsculas. Su sintaxis es simple:\n",
    "\n",
    "cadena.lower()"
   ]
  },
  {
   "cell_type": "markdown",
   "id": "73d6c768",
   "metadata": {},
   "source": [
    "##### 7.Escribe una función orden_alfabetico(palabra) que determine si las letras que forman palabra aparecen en orden alfabético. Por ejemplo: 'abejo'"
   ]
  },
  {
   "cell_type": "code",
   "execution_count": 7,
   "id": "ef5d92d7",
   "metadata": {},
   "outputs": [
    {
     "name": "stdout",
     "output_type": "stream",
     "text": [
      "True\n"
     ]
    }
   ],
   "source": [
    "def orden_alfabetico(palabra):\n",
    "    # Convertir la palabra a minúsculas para comparaciones insensibles a mayúsculas\n",
    "    palabra = palabra.lower()\n",
    "    \n",
    "    # Iterar sobre los caracteres de la palabra (excepto el último)\n",
    "    for i in range(len(palabra) - 1):\n",
    "        # Comparar el carácter actual con el siguiente en orden alfabético\n",
    "        if palabra[i] > palabra[i + 1]:\n",
    "            return False\n",
    "    \n",
    "    return True\n",
    "\n",
    "print(orden_alfabetico(\"abejo\"))"
   ]
  },
  {
   "cell_type": "markdown",
   "id": "94b69a4a",
   "metadata": {},
   "source": [
    "La tabla ASCII (American Standard Code for Information Interchange) asigna un número único a cada caracter. Los caracteres alfabéticos en minúsculas ('a' a 'z') tienen valores numéricos consecutivos en ASCII, de modo que 'a' es el más bajo y 'z' es el más alto. Lo mismo ocurre con los caracteres alfabéticos en mayúsculas ('A' a 'Z').\n",
    "\n",
    "Comparación de caracteres:\n",
    "\n",
    "Cuando utilizas el operador >, estás comparando si un carácter tiene un valor numérico mayor que otro carácter. Por ejemplo, 'b' > 'a' es True porque el valor numérico de 'b' es mayor que el de 'a'.\n",
    "De manera similar, el operador < verifica si un carácter tiene un valor numérico menor que otro carácter. Por ejemplo, 'a' < 'b' es True."
   ]
  },
  {
   "cell_type": "markdown",
   "id": "4bd1c7f6",
   "metadata": {},
   "source": [
    "##### 8.Escribe una función todas_las_letras(palabra, letras) que determine si se han usado todos los caracteres de letras en palabra."
   ]
  },
  {
   "cell_type": "code",
   "execution_count": 8,
   "id": "b4d2e50e",
   "metadata": {},
   "outputs": [
    {
     "name": "stdout",
     "output_type": "stream",
     "text": [
      "True\n",
      "True\n"
     ]
    }
   ],
   "source": [
    "#Opción 1\n",
    "def todas_las_letras(palabra, letras):\n",
    "    palabra = palabra.lower()\n",
    "    letras = letras.lower()\n",
    "    for letra in letras:\n",
    "        if palabra.count(letra) == 0:\n",
    "            return False\n",
    "    return True\n",
    "\n",
    "\n",
    "#Opción 2\n",
    "def todas_las_letras2(palabra, letras):\n",
    "    palabra = palabra.lower()\n",
    "    letras = letras.lower()\n",
    "    for char in letras:\n",
    "        # Verificar si la letra está presente al menos una vez en la palabra\n",
    "        if char not in palabra:\n",
    "            return False\n",
    "    return True\n",
    "\n",
    "print(todas_las_letras(\"capybara\", \"capybr\"))\n",
    "print(todas_las_letras2(\"capybara\", \"capybr\"))"
   ]
  },
  {
   "cell_type": "markdown",
   "id": "fc97935d",
   "metadata": {},
   "source": [
    "###### Apuntes:\n",
    "\n",
    "El operador in en Python se utiliza para verificar la pertenencia de un elemento en una secuencia (como una lista, cadena, tupla, conjunto o diccionario). Devuelve True si el elemento está presente en la secuencia y False en caso contrario.\n",
    "\n",
    "    elemento in secuencia\n",
    "\n",
    "Se puede combinar con otros operadores lógicos, como \"not\", para indicar la no pertenencia."
   ]
  },
  {
   "cell_type": "markdown",
   "id": "88efd0d2",
   "metadata": {},
   "source": [
    "##### 9.Un anagrama de una palabra pal1 es una palabra formada con las mismas letras que pal1 pero en orden distinto. Escribe una función anagrama(palabra1, palabra2) que determine si es una anagrama. Ejemplo: marta – trama"
   ]
  },
  {
   "cell_type": "code",
   "execution_count": 9,
   "id": "b81396f3",
   "metadata": {},
   "outputs": [
    {
     "data": {
      "text/plain": [
       "True"
      ]
     },
     "execution_count": 9,
     "metadata": {},
     "output_type": "execute_result"
    }
   ],
   "source": [
    "def anagrama(palabra1, palabra2):\n",
    "    palabra1 = palabra1.lower()\n",
    "    palabra2 = palabra2.lower()\n",
    "    if len(palabra1) != len(palabra2):\n",
    "        return False\n",
    "    for char1, char2 in zip(palabra1, palabra2):\n",
    "        if char1 not in palabra2 or char2 not in palabra1:\n",
    "            return False\n",
    "        if palabra1.count(char1) != palabra2.count(char1):\n",
    "            return False\n",
    "    return True\n",
    "\n",
    "anagrama(\"Martata\", \"tamarta\")"
   ]
  },
  {
   "cell_type": "markdown",
   "id": "d94e9dfd",
   "metadata": {},
   "source": [
    "##### Apuntes: \n",
    "La función count() en Python se utiliza para contar cuántas veces aparece un elemento específico en una secuencia, como una cadena (string), lista, tupla o cualquier objeto iterable. Su uso es simple:\n",
    "\n",
    "    cadena.count(char) #o array.count(elemento)"
   ]
  },
  {
   "cell_type": "markdown",
   "id": "6e0bf1bf",
   "metadata": {},
   "source": [
    "##### 10.Escribe una función suma_digitos(cad) que haga la suma de los dígitos de un número que está en cad. Modificar ahora la función para que también funcione si cad es un int."
   ]
  },
  {
   "cell_type": "code",
   "execution_count": 10,
   "id": "c0deee32",
   "metadata": {},
   "outputs": [
    {
     "data": {
      "text/plain": [
       "12"
      ]
     },
     "execution_count": 10,
     "metadata": {},
     "output_type": "execute_result"
    }
   ],
   "source": [
    "def suma_digitos_mod(cad):\n",
    "    if type(cad) != str:\n",
    "        cad = str(cad)\n",
    "    suma = 0\n",
    "    for char in cad:\n",
    "        if char.isdigit():\n",
    "            suma += int(char)\n",
    "    return(suma)\n",
    "\n",
    "suma_digitos_mod(\"156\")"
   ]
  },
  {
   "cell_type": "markdown",
   "id": "023e5cdf",
   "metadata": {},
   "source": [
    "La función isdigit() en Python es un método de cadena que se utiliza para verificar si todos los caracteres de la cadena son dígitos numéricos. Devuelve True si los elementos de la cadena o character son numeros y False en caso contrario. Su uso es simple:\n",
    "\n",
    "    cadena.isdigit()\n",
    "    \n",
    "Existen otras funciones para los caracteres alfabeticos, alfanumericos y numericos (no solo numeros, como por ejemplo ½), que son respectivamente:\n",
    "\n",
    "    isalpha(), isalnum(), isnumeric()"
   ]
  },
  {
   "cell_type": "code",
   "execution_count": 19,
   "id": "28c9fa2a",
   "metadata": {},
   "outputs": [
    {
     "data": {
      "text/plain": [
       "array([0.25672902, 0.33029382, 0.58273706, 0.91118794, 0.2771866 ,\n",
       "       0.02488377, 0.35147126, 0.66481896, 0.12152173])"
      ]
     },
     "execution_count": 19,
     "metadata": {},
     "output_type": "execute_result"
    }
   ],
   "source": [
    "import numpy as np\n",
    "\n",
    "a = np.zeros((5,9))\n",
    "a[:, range(2, 6, 3)] = 1\n",
    "np.random.random(9)"
   ]
  }
 ],
 "metadata": {
  "kernelspec": {
   "display_name": "Python 3 (ipykernel)",
   "language": "python",
   "name": "python3"
  },
  "language_info": {
   "codemirror_mode": {
    "name": "ipython",
    "version": 3
   },
   "file_extension": ".py",
   "mimetype": "text/x-python",
   "name": "python",
   "nbconvert_exporter": "python",
   "pygments_lexer": "ipython3",
   "version": "3.9.12"
  }
 },
 "nbformat": 4,
 "nbformat_minor": 5
}
