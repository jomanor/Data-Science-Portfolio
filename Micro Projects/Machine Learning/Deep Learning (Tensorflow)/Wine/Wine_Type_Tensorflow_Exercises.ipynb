{
  "cells": [
    {
      "cell_type": "code",
      "execution_count": null,
      "metadata": {
        "id": "jwlP4P-k_t9B"
      },
      "outputs": [],
      "source": [
        "# Import pandas\n",
        "import pandas as pd\n",
        "\n",
        "# Read in white wine data\n",
        "white = pd.read_csv('C:/Users/Usuario/Downloads\\winequality-white.csv', sep=';')\n",
        "\n",
        "# Read in red wine data\n",
        "red = pd.read_csv('C:/Users/Usuario/Downloads\\winequality-red.csv', sep=';')\n"
      ]
    },
    {
      "cell_type": "code",
      "execution_count": null,
      "metadata": {
        "id": "j_vFGDLR_t9G",
        "outputId": "da5599fd-366a-47f7-ed76-1521cbafd575"
      },
      "outputs": [
        {
          "name": "stdout",
          "output_type": "stream",
          "text": [
            "<class 'pandas.core.frame.DataFrame'>\n",
            "RangeIndex: 4898 entries, 0 to 4897\n",
            "Data columns (total 12 columns):\n",
            " #   Column                Non-Null Count  Dtype  \n",
            "---  ------                --------------  -----  \n",
            " 0   fixed acidity         4898 non-null   float64\n",
            " 1   volatile acidity      4898 non-null   float64\n",
            " 2   citric acid           4898 non-null   float64\n",
            " 3   residual sugar        4898 non-null   float64\n",
            " 4   chlorides             4898 non-null   float64\n",
            " 5   free sulfur dioxide   4898 non-null   float64\n",
            " 6   total sulfur dioxide  4898 non-null   float64\n",
            " 7   density               4898 non-null   float64\n",
            " 8   pH                    4898 non-null   float64\n",
            " 9   sulphates             4898 non-null   float64\n",
            " 10  alcohol               4898 non-null   float64\n",
            " 11  quality               4898 non-null   int64  \n",
            "dtypes: float64(11), int64(1)\n",
            "memory usage: 459.3 KB\n",
            "None\n"
          ]
        }
      ],
      "source": [
        "# Print info on white wine\n",
        "print(white.info())"
      ]
    },
    {
      "cell_type": "code",
      "execution_count": null,
      "metadata": {
        "id": "XbpppFdY_t9J",
        "outputId": "5384a876-141f-4414-e502-f154a5e9c29e"
      },
      "outputs": [
        {
          "name": "stdout",
          "output_type": "stream",
          "text": [
            "<class 'pandas.core.frame.DataFrame'>\n",
            "RangeIndex: 1599 entries, 0 to 1598\n",
            "Data columns (total 12 columns):\n",
            " #   Column                Non-Null Count  Dtype  \n",
            "---  ------                --------------  -----  \n",
            " 0   fixed acidity         1599 non-null   float64\n",
            " 1   volatile acidity      1599 non-null   float64\n",
            " 2   citric acid           1599 non-null   float64\n",
            " 3   residual sugar        1599 non-null   float64\n",
            " 4   chlorides             1599 non-null   float64\n",
            " 5   free sulfur dioxide   1599 non-null   float64\n",
            " 6   total sulfur dioxide  1599 non-null   float64\n",
            " 7   density               1599 non-null   float64\n",
            " 8   pH                    1599 non-null   float64\n",
            " 9   sulphates             1599 non-null   float64\n",
            " 10  alcohol               1599 non-null   float64\n",
            " 11  quality               1599 non-null   int64  \n",
            "dtypes: float64(11), int64(1)\n",
            "memory usage: 150.0 KB\n",
            "None\n"
          ]
        }
      ],
      "source": [
        "# Print info on red wine\n",
        "print(red.info())\n"
      ]
    },
    {
      "cell_type": "code",
      "execution_count": null,
      "metadata": {
        "id": "tjvK_wXv_t9K",
        "outputId": "42df68ef-01bb-4461-a150-9db4d0b5bab7"
      },
      "outputs": [
        {
          "data": {
            "text/html": [
              "<div>\n",
              "<style scoped>\n",
              "    .dataframe tbody tr th:only-of-type {\n",
              "        vertical-align: middle;\n",
              "    }\n",
              "\n",
              "    .dataframe tbody tr th {\n",
              "        vertical-align: top;\n",
              "    }\n",
              "\n",
              "    .dataframe thead th {\n",
              "        text-align: right;\n",
              "    }\n",
              "</style>\n",
              "<table border=\"1\" class=\"dataframe\">\n",
              "  <thead>\n",
              "    <tr style=\"text-align: right;\">\n",
              "      <th></th>\n",
              "      <th>fixed acidity</th>\n",
              "      <th>volatile acidity</th>\n",
              "      <th>citric acid</th>\n",
              "      <th>residual sugar</th>\n",
              "      <th>chlorides</th>\n",
              "      <th>free sulfur dioxide</th>\n",
              "      <th>total sulfur dioxide</th>\n",
              "      <th>density</th>\n",
              "      <th>pH</th>\n",
              "      <th>sulphates</th>\n",
              "      <th>alcohol</th>\n",
              "      <th>quality</th>\n",
              "    </tr>\n",
              "  </thead>\n",
              "  <tbody>\n",
              "    <tr>\n",
              "      <th>0</th>\n",
              "      <td>7.4</td>\n",
              "      <td>0.70</td>\n",
              "      <td>0.00</td>\n",
              "      <td>1.9</td>\n",
              "      <td>0.076</td>\n",
              "      <td>11.0</td>\n",
              "      <td>34.0</td>\n",
              "      <td>0.9978</td>\n",
              "      <td>3.51</td>\n",
              "      <td>0.56</td>\n",
              "      <td>9.4</td>\n",
              "      <td>5</td>\n",
              "    </tr>\n",
              "    <tr>\n",
              "      <th>1</th>\n",
              "      <td>7.8</td>\n",
              "      <td>0.88</td>\n",
              "      <td>0.00</td>\n",
              "      <td>2.6</td>\n",
              "      <td>0.098</td>\n",
              "      <td>25.0</td>\n",
              "      <td>67.0</td>\n",
              "      <td>0.9968</td>\n",
              "      <td>3.20</td>\n",
              "      <td>0.68</td>\n",
              "      <td>9.8</td>\n",
              "      <td>5</td>\n",
              "    </tr>\n",
              "    <tr>\n",
              "      <th>2</th>\n",
              "      <td>7.8</td>\n",
              "      <td>0.76</td>\n",
              "      <td>0.04</td>\n",
              "      <td>2.3</td>\n",
              "      <td>0.092</td>\n",
              "      <td>15.0</td>\n",
              "      <td>54.0</td>\n",
              "      <td>0.9970</td>\n",
              "      <td>3.26</td>\n",
              "      <td>0.65</td>\n",
              "      <td>9.8</td>\n",
              "      <td>5</td>\n",
              "    </tr>\n",
              "    <tr>\n",
              "      <th>3</th>\n",
              "      <td>11.2</td>\n",
              "      <td>0.28</td>\n",
              "      <td>0.56</td>\n",
              "      <td>1.9</td>\n",
              "      <td>0.075</td>\n",
              "      <td>17.0</td>\n",
              "      <td>60.0</td>\n",
              "      <td>0.9980</td>\n",
              "      <td>3.16</td>\n",
              "      <td>0.58</td>\n",
              "      <td>9.8</td>\n",
              "      <td>6</td>\n",
              "    </tr>\n",
              "    <tr>\n",
              "      <th>4</th>\n",
              "      <td>7.4</td>\n",
              "      <td>0.70</td>\n",
              "      <td>0.00</td>\n",
              "      <td>1.9</td>\n",
              "      <td>0.076</td>\n",
              "      <td>11.0</td>\n",
              "      <td>34.0</td>\n",
              "      <td>0.9978</td>\n",
              "      <td>3.51</td>\n",
              "      <td>0.56</td>\n",
              "      <td>9.4</td>\n",
              "      <td>5</td>\n",
              "    </tr>\n",
              "  </tbody>\n",
              "</table>\n",
              "</div>"
            ],
            "text/plain": [
              "   fixed acidity  volatile acidity  citric acid  residual sugar  chlorides  \\\n",
              "0            7.4              0.70         0.00             1.9      0.076   \n",
              "1            7.8              0.88         0.00             2.6      0.098   \n",
              "2            7.8              0.76         0.04             2.3      0.092   \n",
              "3           11.2              0.28         0.56             1.9      0.075   \n",
              "4            7.4              0.70         0.00             1.9      0.076   \n",
              "\n",
              "   free sulfur dioxide  total sulfur dioxide  density    pH  sulphates  \\\n",
              "0                 11.0                  34.0   0.9978  3.51       0.56   \n",
              "1                 25.0                  67.0   0.9968  3.20       0.68   \n",
              "2                 15.0                  54.0   0.9970  3.26       0.65   \n",
              "3                 17.0                  60.0   0.9980  3.16       0.58   \n",
              "4                 11.0                  34.0   0.9978  3.51       0.56   \n",
              "\n",
              "   alcohol  quality  \n",
              "0      9.4        5  \n",
              "1      9.8        5  \n",
              "2      9.8        5  \n",
              "3      9.8        6  \n",
              "4      9.4        5  "
            ]
          },
          "execution_count": 4,
          "metadata": {},
          "output_type": "execute_result"
        }
      ],
      "source": [
        "# First rows of `red`\n",
        "red.head()"
      ]
    },
    {
      "cell_type": "code",
      "execution_count": null,
      "metadata": {
        "id": "tpOGQxJ5_t9L",
        "outputId": "e3899d82-aebd-48f6-d7e5-ed22fe89010c",
        "scrolled": true
      },
      "outputs": [
        {
          "data": {
            "text/html": [
              "<div>\n",
              "<style scoped>\n",
              "    .dataframe tbody tr th:only-of-type {\n",
              "        vertical-align: middle;\n",
              "    }\n",
              "\n",
              "    .dataframe tbody tr th {\n",
              "        vertical-align: top;\n",
              "    }\n",
              "\n",
              "    .dataframe thead th {\n",
              "        text-align: right;\n",
              "    }\n",
              "</style>\n",
              "<table border=\"1\" class=\"dataframe\">\n",
              "  <thead>\n",
              "    <tr style=\"text-align: right;\">\n",
              "      <th></th>\n",
              "      <th>fixed acidity</th>\n",
              "      <th>volatile acidity</th>\n",
              "      <th>citric acid</th>\n",
              "      <th>residual sugar</th>\n",
              "      <th>chlorides</th>\n",
              "      <th>free sulfur dioxide</th>\n",
              "      <th>total sulfur dioxide</th>\n",
              "      <th>density</th>\n",
              "      <th>pH</th>\n",
              "      <th>sulphates</th>\n",
              "      <th>alcohol</th>\n",
              "      <th>quality</th>\n",
              "    </tr>\n",
              "  </thead>\n",
              "  <tbody>\n",
              "    <tr>\n",
              "      <th>4893</th>\n",
              "      <td>6.2</td>\n",
              "      <td>0.21</td>\n",
              "      <td>0.29</td>\n",
              "      <td>1.6</td>\n",
              "      <td>0.039</td>\n",
              "      <td>24.0</td>\n",
              "      <td>92.0</td>\n",
              "      <td>0.99114</td>\n",
              "      <td>3.27</td>\n",
              "      <td>0.50</td>\n",
              "      <td>11.2</td>\n",
              "      <td>6</td>\n",
              "    </tr>\n",
              "    <tr>\n",
              "      <th>4894</th>\n",
              "      <td>6.6</td>\n",
              "      <td>0.32</td>\n",
              "      <td>0.36</td>\n",
              "      <td>8.0</td>\n",
              "      <td>0.047</td>\n",
              "      <td>57.0</td>\n",
              "      <td>168.0</td>\n",
              "      <td>0.99490</td>\n",
              "      <td>3.15</td>\n",
              "      <td>0.46</td>\n",
              "      <td>9.6</td>\n",
              "      <td>5</td>\n",
              "    </tr>\n",
              "    <tr>\n",
              "      <th>4895</th>\n",
              "      <td>6.5</td>\n",
              "      <td>0.24</td>\n",
              "      <td>0.19</td>\n",
              "      <td>1.2</td>\n",
              "      <td>0.041</td>\n",
              "      <td>30.0</td>\n",
              "      <td>111.0</td>\n",
              "      <td>0.99254</td>\n",
              "      <td>2.99</td>\n",
              "      <td>0.46</td>\n",
              "      <td>9.4</td>\n",
              "      <td>6</td>\n",
              "    </tr>\n",
              "    <tr>\n",
              "      <th>4896</th>\n",
              "      <td>5.5</td>\n",
              "      <td>0.29</td>\n",
              "      <td>0.30</td>\n",
              "      <td>1.1</td>\n",
              "      <td>0.022</td>\n",
              "      <td>20.0</td>\n",
              "      <td>110.0</td>\n",
              "      <td>0.98869</td>\n",
              "      <td>3.34</td>\n",
              "      <td>0.38</td>\n",
              "      <td>12.8</td>\n",
              "      <td>7</td>\n",
              "    </tr>\n",
              "    <tr>\n",
              "      <th>4897</th>\n",
              "      <td>6.0</td>\n",
              "      <td>0.21</td>\n",
              "      <td>0.38</td>\n",
              "      <td>0.8</td>\n",
              "      <td>0.020</td>\n",
              "      <td>22.0</td>\n",
              "      <td>98.0</td>\n",
              "      <td>0.98941</td>\n",
              "      <td>3.26</td>\n",
              "      <td>0.32</td>\n",
              "      <td>11.8</td>\n",
              "      <td>6</td>\n",
              "    </tr>\n",
              "  </tbody>\n",
              "</table>\n",
              "</div>"
            ],
            "text/plain": [
              "      fixed acidity  volatile acidity  citric acid  residual sugar  chlorides  \\\n",
              "4893            6.2              0.21         0.29             1.6      0.039   \n",
              "4894            6.6              0.32         0.36             8.0      0.047   \n",
              "4895            6.5              0.24         0.19             1.2      0.041   \n",
              "4896            5.5              0.29         0.30             1.1      0.022   \n",
              "4897            6.0              0.21         0.38             0.8      0.020   \n",
              "\n",
              "      free sulfur dioxide  total sulfur dioxide  density    pH  sulphates  \\\n",
              "4893                 24.0                  92.0  0.99114  3.27       0.50   \n",
              "4894                 57.0                 168.0  0.99490  3.15       0.46   \n",
              "4895                 30.0                 111.0  0.99254  2.99       0.46   \n",
              "4896                 20.0                 110.0  0.98869  3.34       0.38   \n",
              "4897                 22.0                  98.0  0.98941  3.26       0.32   \n",
              "\n",
              "      alcohol  quality  \n",
              "4893     11.2        6  \n",
              "4894      9.6        5  \n",
              "4895      9.4        6  \n",
              "4896     12.8        7  \n",
              "4897     11.8        6  "
            ]
          },
          "execution_count": 5,
          "metadata": {},
          "output_type": "execute_result"
        }
      ],
      "source": [
        "# Last rows of `white`\n",
        "white.tail()"
      ]
    },
    {
      "cell_type": "code",
      "execution_count": null,
      "metadata": {
        "id": "jo--TWj1_t9M",
        "outputId": "94f20a53-9918-44be-edab-03115eb299b9"
      },
      "outputs": [
        {
          "data": {
            "text/html": [
              "<div>\n",
              "<style scoped>\n",
              "    .dataframe tbody tr th:only-of-type {\n",
              "        vertical-align: middle;\n",
              "    }\n",
              "\n",
              "    .dataframe tbody tr th {\n",
              "        vertical-align: top;\n",
              "    }\n",
              "\n",
              "    .dataframe thead th {\n",
              "        text-align: right;\n",
              "    }\n",
              "</style>\n",
              "<table border=\"1\" class=\"dataframe\">\n",
              "  <thead>\n",
              "    <tr style=\"text-align: right;\">\n",
              "      <th></th>\n",
              "      <th>fixed acidity</th>\n",
              "      <th>volatile acidity</th>\n",
              "      <th>citric acid</th>\n",
              "      <th>residual sugar</th>\n",
              "      <th>chlorides</th>\n",
              "      <th>free sulfur dioxide</th>\n",
              "      <th>total sulfur dioxide</th>\n",
              "      <th>density</th>\n",
              "      <th>pH</th>\n",
              "      <th>sulphates</th>\n",
              "      <th>alcohol</th>\n",
              "      <th>quality</th>\n",
              "    </tr>\n",
              "  </thead>\n",
              "  <tbody>\n",
              "    <tr>\n",
              "      <th>420</th>\n",
              "      <td>9.5</td>\n",
              "      <td>0.560</td>\n",
              "      <td>0.33</td>\n",
              "      <td>2.4</td>\n",
              "      <td>0.089</td>\n",
              "      <td>35.0</td>\n",
              "      <td>67.0</td>\n",
              "      <td>0.99720</td>\n",
              "      <td>3.28</td>\n",
              "      <td>0.73</td>\n",
              "      <td>11.8</td>\n",
              "      <td>7</td>\n",
              "    </tr>\n",
              "    <tr>\n",
              "      <th>747</th>\n",
              "      <td>8.6</td>\n",
              "      <td>0.330</td>\n",
              "      <td>0.40</td>\n",
              "      <td>2.6</td>\n",
              "      <td>0.083</td>\n",
              "      <td>16.0</td>\n",
              "      <td>68.0</td>\n",
              "      <td>0.99782</td>\n",
              "      <td>3.30</td>\n",
              "      <td>0.48</td>\n",
              "      <td>9.4</td>\n",
              "      <td>5</td>\n",
              "    </tr>\n",
              "    <tr>\n",
              "      <th>615</th>\n",
              "      <td>9.6</td>\n",
              "      <td>0.600</td>\n",
              "      <td>0.50</td>\n",
              "      <td>2.3</td>\n",
              "      <td>0.079</td>\n",
              "      <td>28.0</td>\n",
              "      <td>71.0</td>\n",
              "      <td>0.99970</td>\n",
              "      <td>3.50</td>\n",
              "      <td>0.57</td>\n",
              "      <td>9.7</td>\n",
              "      <td>5</td>\n",
              "    </tr>\n",
              "    <tr>\n",
              "      <th>31</th>\n",
              "      <td>6.9</td>\n",
              "      <td>0.685</td>\n",
              "      <td>0.00</td>\n",
              "      <td>2.5</td>\n",
              "      <td>0.105</td>\n",
              "      <td>22.0</td>\n",
              "      <td>37.0</td>\n",
              "      <td>0.99660</td>\n",
              "      <td>3.46</td>\n",
              "      <td>0.57</td>\n",
              "      <td>10.6</td>\n",
              "      <td>6</td>\n",
              "    </tr>\n",
              "    <tr>\n",
              "      <th>1157</th>\n",
              "      <td>5.1</td>\n",
              "      <td>0.510</td>\n",
              "      <td>0.18</td>\n",
              "      <td>2.1</td>\n",
              "      <td>0.042</td>\n",
              "      <td>16.0</td>\n",
              "      <td>101.0</td>\n",
              "      <td>0.99240</td>\n",
              "      <td>3.46</td>\n",
              "      <td>0.87</td>\n",
              "      <td>12.9</td>\n",
              "      <td>7</td>\n",
              "    </tr>\n",
              "  </tbody>\n",
              "</table>\n",
              "</div>"
            ],
            "text/plain": [
              "      fixed acidity  volatile acidity  citric acid  residual sugar  chlorides  \\\n",
              "420             9.5             0.560         0.33             2.4      0.089   \n",
              "747             8.6             0.330         0.40             2.6      0.083   \n",
              "615             9.6             0.600         0.50             2.3      0.079   \n",
              "31              6.9             0.685         0.00             2.5      0.105   \n",
              "1157            5.1             0.510         0.18             2.1      0.042   \n",
              "\n",
              "      free sulfur dioxide  total sulfur dioxide  density    pH  sulphates  \\\n",
              "420                  35.0                  67.0  0.99720  3.28       0.73   \n",
              "747                  16.0                  68.0  0.99782  3.30       0.48   \n",
              "615                  28.0                  71.0  0.99970  3.50       0.57   \n",
              "31                   22.0                  37.0  0.99660  3.46       0.57   \n",
              "1157                 16.0                 101.0  0.99240  3.46       0.87   \n",
              "\n",
              "      alcohol  quality  \n",
              "420      11.8        7  \n",
              "747       9.4        5  \n",
              "615       9.7        5  \n",
              "31       10.6        6  \n",
              "1157     12.9        7  "
            ]
          },
          "execution_count": 6,
          "metadata": {},
          "output_type": "execute_result"
        }
      ],
      "source": [
        "# Take a sample of 5 rows of `red`\n",
        "red.sample(5)"
      ]
    },
    {
      "cell_type": "code",
      "execution_count": null,
      "metadata": {
        "id": "_xaCQuxk_t9N",
        "outputId": "2f214a70-cfb6-41a5-ce31-7458d50c7413"
      },
      "outputs": [
        {
          "data": {
            "text/html": [
              "<div>\n",
              "<style scoped>\n",
              "    .dataframe tbody tr th:only-of-type {\n",
              "        vertical-align: middle;\n",
              "    }\n",
              "\n",
              "    .dataframe tbody tr th {\n",
              "        vertical-align: top;\n",
              "    }\n",
              "\n",
              "    .dataframe thead th {\n",
              "        text-align: right;\n",
              "    }\n",
              "</style>\n",
              "<table border=\"1\" class=\"dataframe\">\n",
              "  <thead>\n",
              "    <tr style=\"text-align: right;\">\n",
              "      <th></th>\n",
              "      <th>fixed acidity</th>\n",
              "      <th>volatile acidity</th>\n",
              "      <th>citric acid</th>\n",
              "      <th>residual sugar</th>\n",
              "      <th>chlorides</th>\n",
              "      <th>free sulfur dioxide</th>\n",
              "      <th>total sulfur dioxide</th>\n",
              "      <th>density</th>\n",
              "      <th>pH</th>\n",
              "      <th>sulphates</th>\n",
              "      <th>alcohol</th>\n",
              "      <th>quality</th>\n",
              "    </tr>\n",
              "  </thead>\n",
              "  <tbody>\n",
              "    <tr>\n",
              "      <th>count</th>\n",
              "      <td>4898.000000</td>\n",
              "      <td>4898.000000</td>\n",
              "      <td>4898.000000</td>\n",
              "      <td>4898.000000</td>\n",
              "      <td>4898.000000</td>\n",
              "      <td>4898.000000</td>\n",
              "      <td>4898.000000</td>\n",
              "      <td>4898.000000</td>\n",
              "      <td>4898.000000</td>\n",
              "      <td>4898.000000</td>\n",
              "      <td>4898.000000</td>\n",
              "      <td>4898.000000</td>\n",
              "    </tr>\n",
              "    <tr>\n",
              "      <th>mean</th>\n",
              "      <td>6.854788</td>\n",
              "      <td>0.278241</td>\n",
              "      <td>0.334192</td>\n",
              "      <td>6.391415</td>\n",
              "      <td>0.045772</td>\n",
              "      <td>35.308085</td>\n",
              "      <td>138.360657</td>\n",
              "      <td>0.994027</td>\n",
              "      <td>3.188267</td>\n",
              "      <td>0.489847</td>\n",
              "      <td>10.514267</td>\n",
              "      <td>5.877909</td>\n",
              "    </tr>\n",
              "    <tr>\n",
              "      <th>std</th>\n",
              "      <td>0.843868</td>\n",
              "      <td>0.100795</td>\n",
              "      <td>0.121020</td>\n",
              "      <td>5.072058</td>\n",
              "      <td>0.021848</td>\n",
              "      <td>17.007137</td>\n",
              "      <td>42.498065</td>\n",
              "      <td>0.002991</td>\n",
              "      <td>0.151001</td>\n",
              "      <td>0.114126</td>\n",
              "      <td>1.230621</td>\n",
              "      <td>0.885639</td>\n",
              "    </tr>\n",
              "    <tr>\n",
              "      <th>min</th>\n",
              "      <td>3.800000</td>\n",
              "      <td>0.080000</td>\n",
              "      <td>0.000000</td>\n",
              "      <td>0.600000</td>\n",
              "      <td>0.009000</td>\n",
              "      <td>2.000000</td>\n",
              "      <td>9.000000</td>\n",
              "      <td>0.987110</td>\n",
              "      <td>2.720000</td>\n",
              "      <td>0.220000</td>\n",
              "      <td>8.000000</td>\n",
              "      <td>3.000000</td>\n",
              "    </tr>\n",
              "    <tr>\n",
              "      <th>25%</th>\n",
              "      <td>6.300000</td>\n",
              "      <td>0.210000</td>\n",
              "      <td>0.270000</td>\n",
              "      <td>1.700000</td>\n",
              "      <td>0.036000</td>\n",
              "      <td>23.000000</td>\n",
              "      <td>108.000000</td>\n",
              "      <td>0.991723</td>\n",
              "      <td>3.090000</td>\n",
              "      <td>0.410000</td>\n",
              "      <td>9.500000</td>\n",
              "      <td>5.000000</td>\n",
              "    </tr>\n",
              "    <tr>\n",
              "      <th>50%</th>\n",
              "      <td>6.800000</td>\n",
              "      <td>0.260000</td>\n",
              "      <td>0.320000</td>\n",
              "      <td>5.200000</td>\n",
              "      <td>0.043000</td>\n",
              "      <td>34.000000</td>\n",
              "      <td>134.000000</td>\n",
              "      <td>0.993740</td>\n",
              "      <td>3.180000</td>\n",
              "      <td>0.470000</td>\n",
              "      <td>10.400000</td>\n",
              "      <td>6.000000</td>\n",
              "    </tr>\n",
              "    <tr>\n",
              "      <th>75%</th>\n",
              "      <td>7.300000</td>\n",
              "      <td>0.320000</td>\n",
              "      <td>0.390000</td>\n",
              "      <td>9.900000</td>\n",
              "      <td>0.050000</td>\n",
              "      <td>46.000000</td>\n",
              "      <td>167.000000</td>\n",
              "      <td>0.996100</td>\n",
              "      <td>3.280000</td>\n",
              "      <td>0.550000</td>\n",
              "      <td>11.400000</td>\n",
              "      <td>6.000000</td>\n",
              "    </tr>\n",
              "    <tr>\n",
              "      <th>max</th>\n",
              "      <td>14.200000</td>\n",
              "      <td>1.100000</td>\n",
              "      <td>1.660000</td>\n",
              "      <td>65.800000</td>\n",
              "      <td>0.346000</td>\n",
              "      <td>289.000000</td>\n",
              "      <td>440.000000</td>\n",
              "      <td>1.038980</td>\n",
              "      <td>3.820000</td>\n",
              "      <td>1.080000</td>\n",
              "      <td>14.200000</td>\n",
              "      <td>9.000000</td>\n",
              "    </tr>\n",
              "  </tbody>\n",
              "</table>\n",
              "</div>"
            ],
            "text/plain": [
              "       fixed acidity  volatile acidity  citric acid  residual sugar  \\\n",
              "count    4898.000000       4898.000000  4898.000000     4898.000000   \n",
              "mean        6.854788          0.278241     0.334192        6.391415   \n",
              "std         0.843868          0.100795     0.121020        5.072058   \n",
              "min         3.800000          0.080000     0.000000        0.600000   \n",
              "25%         6.300000          0.210000     0.270000        1.700000   \n",
              "50%         6.800000          0.260000     0.320000        5.200000   \n",
              "75%         7.300000          0.320000     0.390000        9.900000   \n",
              "max        14.200000          1.100000     1.660000       65.800000   \n",
              "\n",
              "         chlorides  free sulfur dioxide  total sulfur dioxide      density  \\\n",
              "count  4898.000000          4898.000000           4898.000000  4898.000000   \n",
              "mean      0.045772            35.308085            138.360657     0.994027   \n",
              "std       0.021848            17.007137             42.498065     0.002991   \n",
              "min       0.009000             2.000000              9.000000     0.987110   \n",
              "25%       0.036000            23.000000            108.000000     0.991723   \n",
              "50%       0.043000            34.000000            134.000000     0.993740   \n",
              "75%       0.050000            46.000000            167.000000     0.996100   \n",
              "max       0.346000           289.000000            440.000000     1.038980   \n",
              "\n",
              "                pH    sulphates      alcohol      quality  \n",
              "count  4898.000000  4898.000000  4898.000000  4898.000000  \n",
              "mean      3.188267     0.489847    10.514267     5.877909  \n",
              "std       0.151001     0.114126     1.230621     0.885639  \n",
              "min       2.720000     0.220000     8.000000     3.000000  \n",
              "25%       3.090000     0.410000     9.500000     5.000000  \n",
              "50%       3.180000     0.470000    10.400000     6.000000  \n",
              "75%       3.280000     0.550000    11.400000     6.000000  \n",
              "max       3.820000     1.080000    14.200000     9.000000  "
            ]
          },
          "execution_count": 7,
          "metadata": {},
          "output_type": "execute_result"
        }
      ],
      "source": [
        "# Describe `white`\n",
        "white.describe()"
      ]
    },
    {
      "cell_type": "code",
      "execution_count": null,
      "metadata": {
        "id": "PUzq-hBk_t9O",
        "outputId": "f1632fad-dbe1-4b2e-d040-1cd7bbe9cce5"
      },
      "outputs": [
        {
          "data": {
            "text/html": [
              "<div>\n",
              "<style scoped>\n",
              "    .dataframe tbody tr th:only-of-type {\n",
              "        vertical-align: middle;\n",
              "    }\n",
              "\n",
              "    .dataframe tbody tr th {\n",
              "        vertical-align: top;\n",
              "    }\n",
              "\n",
              "    .dataframe thead th {\n",
              "        text-align: right;\n",
              "    }\n",
              "</style>\n",
              "<table border=\"1\" class=\"dataframe\">\n",
              "  <thead>\n",
              "    <tr style=\"text-align: right;\">\n",
              "      <th></th>\n",
              "      <th>fixed acidity</th>\n",
              "      <th>volatile acidity</th>\n",
              "      <th>citric acid</th>\n",
              "      <th>residual sugar</th>\n",
              "      <th>chlorides</th>\n",
              "      <th>free sulfur dioxide</th>\n",
              "      <th>total sulfur dioxide</th>\n",
              "      <th>density</th>\n",
              "      <th>pH</th>\n",
              "      <th>sulphates</th>\n",
              "      <th>alcohol</th>\n",
              "      <th>quality</th>\n",
              "    </tr>\n",
              "  </thead>\n",
              "  <tbody>\n",
              "    <tr>\n",
              "      <th>0</th>\n",
              "      <td>False</td>\n",
              "      <td>False</td>\n",
              "      <td>False</td>\n",
              "      <td>False</td>\n",
              "      <td>False</td>\n",
              "      <td>False</td>\n",
              "      <td>False</td>\n",
              "      <td>False</td>\n",
              "      <td>False</td>\n",
              "      <td>False</td>\n",
              "      <td>False</td>\n",
              "      <td>False</td>\n",
              "    </tr>\n",
              "    <tr>\n",
              "      <th>1</th>\n",
              "      <td>False</td>\n",
              "      <td>False</td>\n",
              "      <td>False</td>\n",
              "      <td>False</td>\n",
              "      <td>False</td>\n",
              "      <td>False</td>\n",
              "      <td>False</td>\n",
              "      <td>False</td>\n",
              "      <td>False</td>\n",
              "      <td>False</td>\n",
              "      <td>False</td>\n",
              "      <td>False</td>\n",
              "    </tr>\n",
              "    <tr>\n",
              "      <th>2</th>\n",
              "      <td>False</td>\n",
              "      <td>False</td>\n",
              "      <td>False</td>\n",
              "      <td>False</td>\n",
              "      <td>False</td>\n",
              "      <td>False</td>\n",
              "      <td>False</td>\n",
              "      <td>False</td>\n",
              "      <td>False</td>\n",
              "      <td>False</td>\n",
              "      <td>False</td>\n",
              "      <td>False</td>\n",
              "    </tr>\n",
              "    <tr>\n",
              "      <th>3</th>\n",
              "      <td>False</td>\n",
              "      <td>False</td>\n",
              "      <td>False</td>\n",
              "      <td>False</td>\n",
              "      <td>False</td>\n",
              "      <td>False</td>\n",
              "      <td>False</td>\n",
              "      <td>False</td>\n",
              "      <td>False</td>\n",
              "      <td>False</td>\n",
              "      <td>False</td>\n",
              "      <td>False</td>\n",
              "    </tr>\n",
              "    <tr>\n",
              "      <th>4</th>\n",
              "      <td>False</td>\n",
              "      <td>False</td>\n",
              "      <td>False</td>\n",
              "      <td>False</td>\n",
              "      <td>False</td>\n",
              "      <td>False</td>\n",
              "      <td>False</td>\n",
              "      <td>False</td>\n",
              "      <td>False</td>\n",
              "      <td>False</td>\n",
              "      <td>False</td>\n",
              "      <td>False</td>\n",
              "    </tr>\n",
              "    <tr>\n",
              "      <th>...</th>\n",
              "      <td>...</td>\n",
              "      <td>...</td>\n",
              "      <td>...</td>\n",
              "      <td>...</td>\n",
              "      <td>...</td>\n",
              "      <td>...</td>\n",
              "      <td>...</td>\n",
              "      <td>...</td>\n",
              "      <td>...</td>\n",
              "      <td>...</td>\n",
              "      <td>...</td>\n",
              "      <td>...</td>\n",
              "    </tr>\n",
              "    <tr>\n",
              "      <th>1594</th>\n",
              "      <td>False</td>\n",
              "      <td>False</td>\n",
              "      <td>False</td>\n",
              "      <td>False</td>\n",
              "      <td>False</td>\n",
              "      <td>False</td>\n",
              "      <td>False</td>\n",
              "      <td>False</td>\n",
              "      <td>False</td>\n",
              "      <td>False</td>\n",
              "      <td>False</td>\n",
              "      <td>False</td>\n",
              "    </tr>\n",
              "    <tr>\n",
              "      <th>1595</th>\n",
              "      <td>False</td>\n",
              "      <td>False</td>\n",
              "      <td>False</td>\n",
              "      <td>False</td>\n",
              "      <td>False</td>\n",
              "      <td>False</td>\n",
              "      <td>False</td>\n",
              "      <td>False</td>\n",
              "      <td>False</td>\n",
              "      <td>False</td>\n",
              "      <td>False</td>\n",
              "      <td>False</td>\n",
              "    </tr>\n",
              "    <tr>\n",
              "      <th>1596</th>\n",
              "      <td>False</td>\n",
              "      <td>False</td>\n",
              "      <td>False</td>\n",
              "      <td>False</td>\n",
              "      <td>False</td>\n",
              "      <td>False</td>\n",
              "      <td>False</td>\n",
              "      <td>False</td>\n",
              "      <td>False</td>\n",
              "      <td>False</td>\n",
              "      <td>False</td>\n",
              "      <td>False</td>\n",
              "    </tr>\n",
              "    <tr>\n",
              "      <th>1597</th>\n",
              "      <td>False</td>\n",
              "      <td>False</td>\n",
              "      <td>False</td>\n",
              "      <td>False</td>\n",
              "      <td>False</td>\n",
              "      <td>False</td>\n",
              "      <td>False</td>\n",
              "      <td>False</td>\n",
              "      <td>False</td>\n",
              "      <td>False</td>\n",
              "      <td>False</td>\n",
              "      <td>False</td>\n",
              "    </tr>\n",
              "    <tr>\n",
              "      <th>1598</th>\n",
              "      <td>False</td>\n",
              "      <td>False</td>\n",
              "      <td>False</td>\n",
              "      <td>False</td>\n",
              "      <td>False</td>\n",
              "      <td>False</td>\n",
              "      <td>False</td>\n",
              "      <td>False</td>\n",
              "      <td>False</td>\n",
              "      <td>False</td>\n",
              "      <td>False</td>\n",
              "      <td>False</td>\n",
              "    </tr>\n",
              "  </tbody>\n",
              "</table>\n",
              "<p>1599 rows × 12 columns</p>\n",
              "</div>"
            ],
            "text/plain": [
              "      fixed acidity  volatile acidity  citric acid  residual sugar  chlorides  \\\n",
              "0             False             False        False           False      False   \n",
              "1             False             False        False           False      False   \n",
              "2             False             False        False           False      False   \n",
              "3             False             False        False           False      False   \n",
              "4             False             False        False           False      False   \n",
              "...             ...               ...          ...             ...        ...   \n",
              "1594          False             False        False           False      False   \n",
              "1595          False             False        False           False      False   \n",
              "1596          False             False        False           False      False   \n",
              "1597          False             False        False           False      False   \n",
              "1598          False             False        False           False      False   \n",
              "\n",
              "      free sulfur dioxide  total sulfur dioxide  density     pH  sulphates  \\\n",
              "0                   False                 False    False  False      False   \n",
              "1                   False                 False    False  False      False   \n",
              "2                   False                 False    False  False      False   \n",
              "3                   False                 False    False  False      False   \n",
              "4                   False                 False    False  False      False   \n",
              "...                   ...                   ...      ...    ...        ...   \n",
              "1594                False                 False    False  False      False   \n",
              "1595                False                 False    False  False      False   \n",
              "1596                False                 False    False  False      False   \n",
              "1597                False                 False    False  False      False   \n",
              "1598                False                 False    False  False      False   \n",
              "\n",
              "      alcohol  quality  \n",
              "0       False    False  \n",
              "1       False    False  \n",
              "2       False    False  \n",
              "3       False    False  \n",
              "4       False    False  \n",
              "...       ...      ...  \n",
              "1594    False    False  \n",
              "1595    False    False  \n",
              "1596    False    False  \n",
              "1597    False    False  \n",
              "1598    False    False  \n",
              "\n",
              "[1599 rows x 12 columns]"
            ]
          },
          "execution_count": 8,
          "metadata": {},
          "output_type": "execute_result"
        }
      ],
      "source": [
        "# Double check for null values in `red`\n",
        "pd.isnull(red)"
      ]
    },
    {
      "cell_type": "code",
      "execution_count": null,
      "metadata": {
        "id": "3MW5KEZF_t9P",
        "outputId": "3f2a4d53-2767-47a5-e431-56116b0ec95f"
      },
      "outputs": [
        {
          "data": {
            "image/png": "[encoded data removed]",
            "text/plain": [
              "<Figure size 432x288 with 2 Axes>"
            ]
          },
          "metadata": {
            "needs_background": "light"
          },
          "output_type": "display_data"
        }
      ],
      "source": [
        "#ALCOHOL\n",
        "import matplotlib.pyplot as plt\n",
        "\n",
        "fig, ax = plt.subplots(1, 2)\n",
        "\n",
        "ax[0].hist(red.alcohol, 10, facecolor='red', alpha=0.5, label=\"Red wine\")\n",
        "ax[1].hist(white.alcohol, 10, facecolor='white', ec=\"black\", lw=0.5, alpha=0.5, label=\"White wine\")\n",
        "\n",
        "fig.subplots_adjust(left=0, right=1, bottom=0, top=0.5, hspace=0.05, wspace=1)\n",
        "ax[0].set_ylim([0, 1000])\n",
        "ax[0].set_xlabel(\"Alcohol in % Vol\")\n",
        "ax[0].set_ylabel(\"Frequency\")\n",
        "ax[1].set_xlabel(\"Alcohol in % Vol\")\n",
        "ax[1].set_ylabel(\"Frequency\")\n",
        "ax[0].legend(loc='best')\n",
        "ax[1].legend(loc='best')\n",
        "fig.suptitle(\"Distribution of Alcohol in % Vol\")\n",
        "\n",
        "plt.show()"
      ]
    },
    {
      "cell_type": "code",
      "execution_count": null,
      "metadata": {
        "id": "QGza5HlW_t9R",
        "outputId": "6318a84c-7eac-4615-f08b-dd32a0bcea90"
      },
      "outputs": [
        {
          "name": "stdout",
          "output_type": "stream",
          "text": [
            "(array([  0,   7, 673, 452, 305, 133,  21,   8], dtype=int64), array([ 7,  8,  9, 10, 11, 12, 13, 14, 15]))\n",
            "(array([   0,  317, 1606, 1256,  906,  675,  131,    7], dtype=int64), array([ 7,  8,  9, 10, 11, 12, 13, 14, 15]))\n"
          ]
        }
      ],
      "source": [
        "import numpy as np\n",
        "print(np.histogram(red.alcohol, bins=[7,8,9,10,11,12,13,14,15]))\n",
        "print(np.histogram(white.alcohol, bins=[7,8,9,10,11,12,13,14,15]))"
      ]
    },
    {
      "cell_type": "code",
      "execution_count": null,
      "metadata": {
        "id": "PmbPm8Uy_t9S",
        "outputId": "f99919e2-2d27-4422-d9d6-f76ad02f8f50"
      },
      "outputs": [
        {
          "data": {
            "image/png": "[encoded data removed]",
            "text/plain": [
              "<Figure size 576x288 with 2 Axes>"
            ]
          },
          "metadata": {
            "needs_background": "light"
          },
          "output_type": "display_data"
        }
      ],
      "source": [
        "#SULFATOS\n",
        "import matplotlib.pyplot as plt\n",
        "\n",
        "fig, ax = plt.subplots(1, 2, figsize=(8, 4))\n",
        "\n",
        "ax[0].scatter(red['quality'], red[\"sulphates\"], color=\"red\")\n",
        "ax[1].scatter(white['quality'], white['sulphates'], color=\"white\", edgecolors=\"black\", lw=0.5)\n",
        "\n",
        "ax[0].set_title(\"Red Wine\")\n",
        "ax[1].set_title(\"White Wine\")\n",
        "ax[0].set_xlabel(\"Quality\")\n",
        "ax[1].set_xlabel(\"Quality\")\n",
        "ax[0].set_ylabel(\"Sulphates\")\n",
        "ax[1].set_ylabel(\"Sulphates\")\n",
        "ax[0].set_xlim([0,10])\n",
        "ax[1].set_xlim([0,10])\n",
        "ax[0].set_ylim([0,2.5])\n",
        "ax[1].set_ylim([0,2.5])\n",
        "fig.subplots_adjust(wspace=0.5)\n",
        "fig.suptitle(\"Wine Quality by Amount of Sulphates\")\n",
        "\n",
        "plt.show()"
      ]
    },
    {
      "cell_type": "code",
      "execution_count": null,
      "metadata": {
        "id": "5XWR3q86_t9T",
        "outputId": "fcb64f28-3cca-41f0-9507-1800c21737fa"
      },
      "outputs": [
        {
          "name": "stderr",
          "output_type": "stream",
          "text": [
            "*c* argument looks like a single numeric RGB or RGBA sequence, which should be avoided as value-mapping will have precedence in case its length matches with *x* & *y*.  Please use the *color* keyword-argument or provide a 2D array with a single row if you intend to specify the same RGB or RGBA value for all points.\n",
            "*c* argument looks like a single numeric RGB or RGBA sequence, which should be avoided as value-mapping will have precedence in case its length matches with *x* & *y*.  Please use the *color* keyword-argument or provide a 2D array with a single row if you intend to specify the same RGB or RGBA value for all points.\n",
            "*c* argument looks like a single numeric RGB or RGBA sequence, which should be avoided as value-mapping will have precedence in case its length matches with *x* & *y*.  Please use the *color* keyword-argument or provide a 2D array with a single row if you intend to specify the same RGB or RGBA value for all points.\n",
            "*c* argument looks like a single numeric RGB or RGBA sequence, which should be avoided as value-mapping will have precedence in case its length matches with *x* & *y*.  Please use the *color* keyword-argument or provide a 2D array with a single row if you intend to specify the same RGB or RGBA value for all points.\n",
            "*c* argument looks like a single numeric RGB or RGBA sequence, which should be avoided as value-mapping will have precedence in case its length matches with *x* & *y*.  Please use the *color* keyword-argument or provide a 2D array with a single row if you intend to specify the same RGB or RGBA value for all points.\n",
            "*c* argument looks like a single numeric RGB or RGBA sequence, which should be avoided as value-mapping will have precedence in case its length matches with *x* & *y*.  Please use the *color* keyword-argument or provide a 2D array with a single row if you intend to specify the same RGB or RGBA value for all points.\n",
            "*c* argument looks like a single numeric RGB or RGBA sequence, which should be avoided as value-mapping will have precedence in case its length matches with *x* & *y*.  Please use the *color* keyword-argument or provide a 2D array with a single row if you intend to specify the same RGB or RGBA value for all points.\n",
            "*c* argument looks like a single numeric RGB or RGBA sequence, which should be avoided as value-mapping will have precedence in case its length matches with *x* & *y*.  Please use the *color* keyword-argument or provide a 2D array with a single row if you intend to specify the same RGB or RGBA value for all points.\n",
            "*c* argument looks like a single numeric RGB or RGBA sequence, which should be avoided as value-mapping will have precedence in case its length matches with *x* & *y*.  Please use the *color* keyword-argument or provide a 2D array with a single row if you intend to specify the same RGB or RGBA value for all points.\n",
            "*c* argument looks like a single numeric RGB or RGBA sequence, which should be avoided as value-mapping will have precedence in case its length matches with *x* & *y*.  Please use the *color* keyword-argument or provide a 2D array with a single row if you intend to specify the same RGB or RGBA value for all points.\n",
            "*c* argument looks like a single numeric RGB or RGBA sequence, which should be avoided as value-mapping will have precedence in case its length matches with *x* & *y*.  Please use the *color* keyword-argument or provide a 2D array with a single row if you intend to specify the same RGB or RGBA value for all points.\n",
            "*c* argument looks like a single numeric RGB or RGBA sequence, which should be avoided as value-mapping will have precedence in case its length matches with *x* & *y*.  Please use the *color* keyword-argument or provide a 2D array with a single row if you intend to specify the same RGB or RGBA value for all points.\n",
            "*c* argument looks like a single numeric RGB or RGBA sequence, which should be avoided as value-mapping will have precedence in case its length matches with *x* & *y*.  Please use the *color* keyword-argument or provide a 2D array with a single row if you intend to specify the same RGB or RGBA value for all points.\n"
          ]
        },
        {
          "data": {
            "image/png": "[encoded data removed]",
            "text/plain": [
              "<Figure size 576x288 with 2 Axes>"
            ]
          },
          "metadata": {
            "needs_background": "light"
          },
          "output_type": "display_data"
        }
      ],
      "source": [
        "#ACIDEZ\n",
        "\n",
        "import matplotlib.pyplot as plt\n",
        "import numpy as np\n",
        "\n",
        "np.random.seed(570)\n",
        "\n",
        "redlabels = np.unique(red['quality'])\n",
        "whitelabels = np.unique(white['quality'])\n",
        "\n",
        "import matplotlib.pyplot as plt\n",
        "fig, ax = plt.subplots(1, 2, figsize=(8, 4))\n",
        "redcolors = np.random.rand(6,4)\n",
        "whitecolors = np.append(redcolors, np.random.rand(1,4), axis=0)\n",
        "\n",
        "for i in range(len(redcolors)):\n",
        "    redy = red['alcohol'][red.quality == redlabels[i]]\n",
        "    redx = red['volatile acidity'][red.quality == redlabels[i]]\n",
        "    ax[0].scatter(redx, redy, c=redcolors[i])\n",
        "for i in range(len(whitecolors)):\n",
        "    whitey = white['alcohol'][white.quality == whitelabels[i]]\n",
        "    whitex = white['volatile acidity'][white.quality == whitelabels[i]]\n",
        "    ax[1].scatter(whitex, whitey, c=whitecolors[i])\n",
        "\n",
        "ax[0].set_title(\"Red Wine\")\n",
        "ax[1].set_title(\"White Wine\")\n",
        "ax[0].set_xlim([0,1.7])\n",
        "ax[1].set_xlim([0,1.7])\n",
        "ax[0].set_ylim([5,15.5])\n",
        "ax[1].set_ylim([5,15.5])\n",
        "ax[0].set_xlabel(\"Volatile Acidity\")\n",
        "ax[0].set_ylabel(\"Alcohol\")\n",
        "ax[1].set_xlabel(\"Volatile Acidity\")\n",
        "ax[1].set_ylabel(\"Alcohol\")\n",
        "ax[0].legend(redlabels, loc='best', bbox_to_anchor=(1.3, 1))\n",
        "ax[1].legend(whitelabels, loc='best', bbox_to_anchor=(1.3, 1))\n",
        "fig.suptitle(\"Alcohol - Volatile Acidity\")\n",
        "fig.subplots_adjust(top=0.85, wspace=0.7)\n",
        "\n",
        "plt.show()"
      ]
    },
    {
      "cell_type": "code",
      "execution_count": null,
      "metadata": {
        "id": "k0oL71IC_t9U",
        "outputId": "d320a779-7160-478a-dc9b-ea9da6081862"
      },
      "outputs": [
        {
          "data": {
            "text/plain": [
              "<AxesSubplot:>"
            ]
          },
          "execution_count": 13,
          "metadata": {},
          "output_type": "execute_result"
        },
        {
          "data": {
            "image/png": "[encoded data removed]",
            "text/plain": [
              "<Figure size 432x288 with 2 Axes>"
            ]
          },
          "metadata": {
            "needs_background": "light"
          },
          "output_type": "display_data"
        }
      ],
      "source": [
        "# Add `type` column to `red` with value 1\n",
        "red['type'] = 1\n",
        "\n",
        "# Add `type` column to `white` with value 0\n",
        "white['type'] = 0\n",
        "\n",
        "# Append `white` to `red`\n",
        "\n",
        "#wines = red.append(white, ignore_index=True)\n",
        "\n",
        "wines = pd.concat([red, white], ignore_index=True)\n",
        "\n",
        "import seaborn as sns\n",
        "\n",
        "corr = wines.corr()\n",
        "sns.heatmap(corr,\n",
        "            xticklabels=corr.columns.values,\n",
        "            yticklabels=corr.columns.values)\n",
        "#sns.plt.show()\n",
        "\n",
        "\n"
      ]
    },
    {
      "cell_type": "code",
      "execution_count": null,
      "metadata": {
        "id": "o_lvTpAe_t9U"
      },
      "outputs": [],
      "source": [
        "from sklearn.model_selection import train_test_split\n",
        "\n",
        "# Specify the data\n",
        "X=wines.iloc[:,0:11]\n",
        "\n",
        "# Specify the target labels and flatten the array\n",
        "y=np.ravel(wines.type)\n",
        "\n",
        "# Split the data up in train and test sets\n",
        "X_train, X_test, y_train, y_test = train_test_split(X, y, test_size=0.33, random_state=42)"
      ]
    },
    {
      "cell_type": "code",
      "execution_count": null,
      "metadata": {
        "id": "GYSEAhE5_t9W"
      },
      "outputs": [],
      "source": [
        "from sklearn.preprocessing import StandardScaler\n",
        "\n",
        "# Define the scaler\n",
        "scaler = StandardScaler().fit(X_train)\n",
        "\n",
        "# Scale the train set\n",
        "X_train = scaler.transform(X_train)\n",
        "\n",
        "# Scale the test set\n",
        "X_test = scaler.transform(X_test)"
      ]
    },
    {
      "cell_type": "code",
      "execution_count": null,
      "metadata": {
        "id": "cWMLCJKB_t9W"
      },
      "outputs": [],
      "source": [
        "# Import `Sequential` from `keras.models`\n",
        "from keras import Sequential\n",
        "\n",
        "# Import `Dense` from `keras.layers`\n",
        "from keras.layers import Dense\n",
        "\n",
        "\n",
        "# Initialize the constructor\n",
        "model = Sequential()\n",
        "# Add an input layer\n",
        "model.add(Dense(12, activation='relu', input_shape=(11,)))\n",
        "\n",
        "# Add one hidden layer\n",
        "model.add(Dense(8, activation='relu'))\n",
        "\n",
        "# Add an output layer\n",
        "model.add(Dense(1, activation='sigmoid'))\n",
        "\n"
      ]
    },
    {
      "cell_type": "code",
      "execution_count": null,
      "metadata": {
        "id": "-T7vqzFI_t9X",
        "outputId": "959bdea2-ba0d-4576-d0ee-60ea58fb1e3b"
      },
      "outputs": [
        {
          "data": {
            "text/plain": [
              "(None, 1)"
            ]
          },
          "execution_count": 17,
          "metadata": {},
          "output_type": "execute_result"
        }
      ],
      "source": [
        "# Model output shape\n",
        "model.output_shape"
      ]
    },
    {
      "cell_type": "code",
      "execution_count": null,
      "metadata": {
        "id": "YIYQbNa-ubEH",
        "outputId": "adfb9f3f-2c57-4016-c730-97b5aa71d025"
      },
      "outputs": [
        {
          "name": "stdout",
          "output_type": "stream",
          "text": [
            "Model: \"sequential\"\n",
            "_________________________________________________________________\n",
            " Layer (type)                Output Shape              Param #   \n",
            "=================================================================\n",
            " dense (Dense)               (None, 12)                144       \n",
            "                                                                 \n",
            " dense_1 (Dense)             (None, 8)                 104       \n",
            "                                                                 \n",
            " dense_2 (Dense)             (None, 1)                 9         \n",
            "                                                                 \n",
            "=================================================================\n",
            "Total params: 257\n",
            "Trainable params: 257\n",
            "Non-trainable params: 0\n",
            "_________________________________________________________________\n"
          ]
        }
      ],
      "source": [
        "# Model summary\n",
        "model.summary()"
      ]
    },
    {
      "cell_type": "code",
      "execution_count": null,
      "metadata": {
        "id": "VUWIFBhP_t9X",
        "outputId": "d11559dc-29e1-4ea7-dbc2-08a497a9d7f2"
      },
      "outputs": [
        {
          "data": {
            "text/plain": [
              "{'name': 'sequential',\n",
              " 'layers': [{'class_name': 'InputLayer',\n",
              "   'config': {'batch_input_shape': (None, 11),\n",
              "    'dtype': 'float32',\n",
              "    'sparse': False,\n",
              "    'ragged': False,\n",
              "    'name': 'dense_input'}},\n",
              "  {'class_name': 'Dense',\n",
              "   'config': {'name': 'dense',\n",
              "    'trainable': True,\n",
              "    'batch_input_shape': (None, 11),\n",
              "    'dtype': 'float32',\n",
              "    'units': 12,\n",
              "    'activation': 'relu',\n",
              "    'use_bias': True,\n",
              "    'kernel_initializer': {'class_name': 'GlorotUniform',\n",
              "     'config': {'seed': None}},\n",
              "    'bias_initializer': {'class_name': 'Zeros', 'config': {}},\n",
              "    'kernel_regularizer': None,\n",
              "    'bias_regularizer': None,\n",
              "    'activity_regularizer': None,\n",
              "    'kernel_constraint': None,\n",
              "    'bias_constraint': None}},\n",
              "  {'class_name': 'Dense',\n",
              "   'config': {'name': 'dense_1',\n",
              "    'trainable': True,\n",
              "    'dtype': 'float32',\n",
              "    'units': 8,\n",
              "    'activation': 'relu',\n",
              "    'use_bias': True,\n",
              "    'kernel_initializer': {'class_name': 'GlorotUniform',\n",
              "     'config': {'seed': None}},\n",
              "    'bias_initializer': {'class_name': 'Zeros', 'config': {}},\n",
              "    'kernel_regularizer': None,\n",
              "    'bias_regularizer': None,\n",
              "    'activity_regularizer': None,\n",
              "    'kernel_constraint': None,\n",
              "    'bias_constraint': None}},\n",
              "  {'class_name': 'Dense',\n",
              "   'config': {'name': 'dense_2',\n",
              "    'trainable': True,\n",
              "    'dtype': 'float32',\n",
              "    'units': 1,\n",
              "    'activation': 'sigmoid',\n",
              "    'use_bias': True,\n",
              "    'kernel_initializer': {'class_name': 'GlorotUniform',\n",
              "     'config': {'seed': None}},\n",
              "    'bias_initializer': {'class_name': 'Zeros', 'config': {}},\n",
              "    'kernel_regularizer': None,\n",
              "    'bias_regularizer': None,\n",
              "    'activity_regularizer': None,\n",
              "    'kernel_constraint': None,\n",
              "    'bias_constraint': None}}]}"
            ]
          },
          "execution_count": 19,
          "metadata": {},
          "output_type": "execute_result"
        }
      ],
      "source": [
        "# Model config\n",
        "model.get_config()"
      ]
    },
    {
      "cell_type": "code",
      "execution_count": null,
      "metadata": {
        "id": "4xIYckUY_t9Y",
        "outputId": "63c2dcac-2829-484a-fbc6-453f4e6bbc01",
        "scrolled": true
      },
      "outputs": [
        {
          "data": {
            "text/plain": [
              "[array([[ 1.3928932e-01,  3.4586883e-01,  4.6180218e-01, -3.0077732e-01,\n",
              "         -4.2408901e-01,  3.1406033e-01,  4.8616827e-01, -1.6360417e-01,\n",
              "          3.6889273e-01, -2.9198310e-01, -3.9688781e-01, -2.9607651e-01],\n",
              "        [ 2.7912235e-01,  1.0141134e-02,  1.2217641e-02, -1.1808872e-01,\n",
              "         -2.3462364e-01, -3.3359528e-02,  3.6135632e-01,  7.8873992e-02,\n",
              "         -4.4583845e-01,  1.6521060e-01, -9.6736401e-02, -1.2598535e-01],\n",
              "        [-4.8148718e-01, -3.7330106e-01, -4.8510179e-01,  4.6722621e-01,\n",
              "          3.3926964e-03, -9.8374248e-02,  1.6534573e-01, -4.1795275e-01,\n",
              "         -2.2735804e-01,  2.6911557e-01,  2.4159116e-01, -4.6921709e-01],\n",
              "        [-1.8905598e-01,  1.6896546e-02, -4.3027085e-01, -3.5506469e-01,\n",
              "         -5.0574845e-01, -1.3306671e-01,  1.8565232e-01, -3.5566854e-01,\n",
              "         -1.0895878e-01, -5.3555131e-02, -4.8107207e-01, -4.8358658e-01],\n",
              "        [-1.0412219e-01, -2.0421079e-01,  6.9338500e-02,  4.1915852e-01,\n",
              "          4.7227019e-01,  4.2944592e-01, -4.0477651e-01, -4.4580886e-01,\n",
              "         -4.1787383e-01, -7.4196666e-02, -8.9571625e-02, -3.6433792e-01],\n",
              "        [ 2.6685554e-01,  2.4865681e-01, -9.2924416e-02, -5.0099003e-01,\n",
              "          4.8002762e-01, -1.0074317e-02, -2.7644634e-04,  2.3102355e-01,\n",
              "          5.9642792e-02, -5.0006235e-01, -1.7496437e-01,  4.3629265e-01],\n",
              "        [-1.5439323e-01, -9.9616647e-03, -4.8024571e-01, -4.6735108e-02,\n",
              "          1.1049664e-01,  1.9602180e-02,  1.2572110e-02, -4.8229030e-01,\n",
              "         -9.0349048e-02, -4.3854547e-01, -3.6510012e-01,  2.1739858e-01],\n",
              "        [-4.7668654e-01, -2.9594064e-02,  4.6705741e-01,  2.0421809e-01,\n",
              "         -1.6150057e-02,  2.6248574e-01,  4.4597763e-01,  4.8815697e-01,\n",
              "         -2.3839802e-01,  2.6358157e-01, -3.7981629e-01,  1.2684119e-01],\n",
              "        [-6.2569380e-03,  4.4896644e-01, -4.3959332e-01, -1.3639927e-03,\n",
              "          3.7682724e-01,  4.3994486e-02, -2.0825097e-01,  3.9429194e-01,\n",
              "          1.5741003e-01, -4.2374635e-01, -2.1120384e-01, -3.0499285e-01],\n",
              "        [ 2.4290031e-01,  4.1730404e-01,  4.1343665e-01, -2.3508832e-01,\n",
              "         -3.6734807e-01, -2.5066033e-01, -2.8682917e-01,  2.3707885e-01,\n",
              "         -6.6975266e-02, -7.9951078e-02,  4.8499691e-01,  2.8202313e-01],\n",
              "        [-2.0281807e-01, -3.0139261e-01,  1.1748487e-01, -4.5972583e-01,\n",
              "          2.1187007e-01,  1.5868902e-02, -3.8832241e-01, -3.8660783e-01,\n",
              "          4.8488140e-01,  4.1591883e-02, -2.0470226e-01, -3.6551684e-02]],\n",
              "       dtype=float32),\n",
              " array([0., 0., 0., 0., 0., 0., 0., 0., 0., 0., 0., 0.], dtype=float32),\n",
              " array([[-0.39657348,  0.31306583, -0.22791523,  0.02769649, -0.07483003,\n",
              "         -0.48984188, -0.2670949 , -0.49426278],\n",
              "        [-0.0987224 ,  0.31826735, -0.5069028 ,  0.32125586,  0.2987699 ,\n",
              "          0.01072109, -0.00961006,  0.4208393 ],\n",
              "        [ 0.5240543 ,  0.1050474 , -0.2650665 , -0.03323013, -0.42529887,\n",
              "         -0.41892883,  0.5104574 ,  0.34342486],\n",
              "        [ 0.15227163,  0.17516935,  0.49479628, -0.2017565 , -0.3958329 ,\n",
              "         -0.15481314, -0.09468397, -0.47566715],\n",
              "        [ 0.16023666, -0.39498043,  0.05754495, -0.33060825, -0.21939832,\n",
              "          0.23204166, -0.422836  ,  0.1498453 ],\n",
              "        [-0.08430961, -0.15115759, -0.0650194 , -0.38174945, -0.03803533,\n",
              "         -0.3890471 , -0.05373365, -0.01387852],\n",
              "        [-0.13883579, -0.02847362, -0.2536644 , -0.12720528, -0.1982556 ,\n",
              "          0.06447351, -0.45148644, -0.2791916 ],\n",
              "        [ 0.11268294, -0.29602665, -0.33238122, -0.00457227, -0.3339501 ,\n",
              "          0.24917626, -0.3642829 , -0.5030914 ],\n",
              "        [-0.06789127,  0.16788048, -0.44249642,  0.5362189 ,  0.3792004 ,\n",
              "          0.41085654, -0.37968868, -0.03185076],\n",
              "        [-0.5202577 , -0.2043843 , -0.29452592, -0.32547027, -0.5275288 ,\n",
              "         -0.39672166, -0.3904685 ,  0.16964108],\n",
              "        [-0.07090378,  0.08665532, -0.36632413, -0.0144347 , -0.35311222,\n",
              "         -0.19580004, -0.3097033 ,  0.22957784],\n",
              "        [-0.08213493, -0.12471643,  0.34638268,  0.1222716 ,  0.03553712,\n",
              "          0.459275  ,  0.44016194, -0.4499749 ]], dtype=float32),\n",
              " array([0., 0., 0., 0., 0., 0., 0., 0.], dtype=float32),\n",
              " array([[ 0.6842222 ],\n",
              "        [-0.66989547],\n",
              "        [-0.53704745],\n",
              "        [-0.5606531 ],\n",
              "        [ 0.20778549],\n",
              "        [ 0.2994572 ],\n",
              "        [ 0.7430246 ],\n",
              "        [ 0.6379727 ]], dtype=float32),\n",
              " array([0.], dtype=float32)]"
            ]
          },
          "execution_count": 20,
          "metadata": {},
          "output_type": "execute_result"
        }
      ],
      "source": [
        "# List all weight tensors\n",
        "model.get_weights()"
      ]
    },
    {
      "cell_type": "code",
      "execution_count": null,
      "metadata": {
        "id": "1alwQBWU_t9Y"
      },
      "outputs": [],
      "source": [
        "model.compile(loss='binary_crossentropy',\n",
        "              optimizer='Adam',\n",
        "              metrics=['accuracy'])"
      ]
    },
    {
      "cell_type": "code",
      "execution_count": null,
      "metadata": {
        "id": "lQnFRiqh_t9Y",
        "outputId": "e19bdccf-0a26-4ce5-aab6-8a73c1eace88"
      },
      "outputs": [
        {
          "name": "stdout",
          "output_type": "stream",
          "text": [
            "Epoch 1/5\n",
            "4352/4352 [==============================] - 25s 5ms/step - loss: 0.0735 - accuracy: 0.9867\n",
            "Epoch 2/5\n",
            "4352/4352 [==============================] - 24s 5ms/step - loss: 0.0240 - accuracy: 0.9945\n",
            "Epoch 3/5\n",
            "4352/4352 [==============================] - 18s 4ms/step - loss: 0.0202 - accuracy: 0.9959\n",
            "Epoch 4/5\n",
            "4352/4352 [==============================] - 18s 4ms/step - loss: 0.0172 - accuracy: 0.9966\n",
            "Epoch 5/5\n",
            "4352/4352 [==============================] - 18s 4ms/step - loss: 0.0152 - accuracy: 0.9970\n"
          ]
        },
        {
          "data": {
            "text/plain": [
              "<keras.callbacks.History at 0x245e03ecfa0>"
            ]
          },
          "execution_count": 22,
          "metadata": {},
          "output_type": "execute_result"
        }
      ],
      "source": [
        "model.fit(X_train, y_train,epochs=5, batch_size=1, verbose=1)"
      ]
    },
    {
      "cell_type": "code",
      "execution_count": null,
      "metadata": {
        "id": "LTesWJ0c_t9Y",
        "outputId": "2af50152-3b7f-4d38-a2cc-24380f8dc762"
      },
      "outputs": [
        {
          "name": "stdout",
          "output_type": "stream",
          "text": [
            "68/68 [==============================] - 1s 3ms/step\n"
          ]
        }
      ],
      "source": [
        "y_pred = model.predict(X_test)\n",
        "y_pred=(y_pred>0.5)"
      ]
    },
    {
      "cell_type": "code",
      "execution_count": null,
      "metadata": {
        "id": "ns2SJrXn_t9Z",
        "outputId": "9c495d96-fb55-4397-a061-59b559a9c9bb"
      },
      "outputs": [
        {
          "data": {
            "text/plain": [
              "array([[False],\n",
              "       [ True],\n",
              "       [False],\n",
              "       [False],\n",
              "       [False]])"
            ]
          },
          "execution_count": 24,
          "metadata": {},
          "output_type": "execute_result"
        }
      ],
      "source": [
        "y_pred[:5]"
      ]
    },
    {
      "cell_type": "code",
      "execution_count": null,
      "metadata": {
        "id": "uMfoHPlc_t9Z",
        "outputId": "8016a554-d315-40e8-9caa-5228c402d097"
      },
      "outputs": [
        {
          "data": {
            "text/plain": [
              "array([0, 1, 0, 0, 0], dtype=int64)"
            ]
          },
          "execution_count": 25,
          "metadata": {},
          "output_type": "execute_result"
        }
      ],
      "source": [
        "y_test[:5]"
      ]
    },
    {
      "cell_type": "code",
      "execution_count": null,
      "metadata": {
        "id": "FloIn7Gn_t9Z",
        "outputId": "92891c0d-69bd-4f3e-93c4-d79ca4fe89c4",
        "scrolled": true
      },
      "outputs": [
        {
          "name": "stdout",
          "output_type": "stream",
          "text": [
            "68/68 [==============================] - 1s 3ms/step - loss: 0.0224 - accuracy: 0.9949\n",
            "[0.022425424307584763, 0.9948717951774597]\n"
          ]
        }
      ],
      "source": [
        "score = model.evaluate(X_test, y_test,verbose=1)\n",
        "\n",
        "print(score)"
      ]
    },
    {
      "cell_type": "code",
      "execution_count": null,
      "metadata": {
        "id": "t-fXLGO6_t9Z",
        "outputId": "bef85030-6caf-421d-9990-c9f71059cad6"
      },
      "outputs": [
        {
          "data": {
            "text/plain": [
              "array([[1586,    2],\n",
              "       [   9,  548]], dtype=int64)"
            ]
          },
          "execution_count": 27,
          "metadata": {},
          "output_type": "execute_result"
        }
      ],
      "source": [
        "# Import the modules from `sklearn.metrics`\n",
        "from sklearn.metrics import confusion_matrix, precision_score, recall_score, f1_score, cohen_kappa_score\n",
        "\n",
        "# Confusion matrix\n",
        "confusion_matrix(y_test, y_pred)"
      ]
    },
    {
      "cell_type": "code",
      "execution_count": null,
      "metadata": {
        "id": "2qGPQ7ue_t9Z",
        "outputId": "78e44051-d8dd-4e11-d72c-070fd41f4587"
      },
      "outputs": [
        {
          "data": {
            "text/plain": [
              "0.9963636363636363"
            ]
          },
          "execution_count": 28,
          "metadata": {},
          "output_type": "execute_result"
        }
      ],
      "source": [
        "# Precision\n",
        "precision_score(y_test, y_pred)"
      ]
    },
    {
      "cell_type": "code",
      "execution_count": null,
      "metadata": {
        "id": "bM-OMyPk_t9Z",
        "outputId": "a2b99617-9032-46f1-b330-b2c134dfa29f"
      },
      "outputs": [
        {
          "data": {
            "text/plain": [
              "0.9838420107719928"
            ]
          },
          "execution_count": 29,
          "metadata": {},
          "output_type": "execute_result"
        }
      ],
      "source": [
        "# Recall\n",
        "recall_score(y_test, y_pred)"
      ]
    },
    {
      "cell_type": "code",
      "execution_count": null,
      "metadata": {
        "id": "IXsTmkZS_t9a",
        "outputId": "4b862335-f637-4248-88ac-8663c1d5f9ac"
      },
      "outputs": [
        {
          "data": {
            "text/plain": [
              "0.990063233965673"
            ]
          },
          "execution_count": 30,
          "metadata": {},
          "output_type": "execute_result"
        }
      ],
      "source": [
        "# F1 score\n",
        "f1_score(y_test,y_pred)"
      ]
    },
    {
      "cell_type": "code",
      "execution_count": null,
      "metadata": {
        "id": "az8fo2g0_t9a",
        "outputId": "e5434978-a7a3-428f-85b6-41b2f9e15f6b"
      },
      "outputs": [
        {
          "data": {
            "text/plain": [
              "0.9866075609527675"
            ]
          },
          "execution_count": 31,
          "metadata": {},
          "output_type": "execute_result"
        }
      ],
      "source": [
        "# Cohen's kappa\n",
        "cohen_kappa_score(y_test, y_pred)"
      ]
    },
    {
      "cell_type": "code",
      "execution_count": null,
      "metadata": {
        "id": "9AoXlRnoubEV",
        "outputId": "3fbfe907-c973-4b5c-a87e-8ec33a075433"
      },
      "outputs": [
        {
          "name": "stdout",
          "output_type": "stream",
          "text": [
            "   Número de capas ocultas  Unidades ocultas por capa Tipo de capas  Épocas  \\\n",
            "0                        1                          8         Dense       5   \n",
            "\n",
            "   Batch size Función de activación  Precisión        F1    Recall  \\\n",
            "0           1                  ReLU   0.996364  0.990063  0.983842   \n",
            "\n",
            "   Coeficiente kappa  \n",
            "0           0.986608  \n"
          ]
        }
      ],
      "source": [
        "datos = {\n",
        "    'Número de capas ocultas': [1],\n",
        "    'Unidades ocultas por capa': [8],\n",
        "    'Tipo de capas': ['Dense'],\n",
        "    'Épocas': [5],\n",
        "    'Batch size': [1],\n",
        "    'Función de activación': \"ReLU\",\n",
        "    'Precisión': precision_score(y_test, y_pred),\n",
        "    'F1': f1_score(y_test,y_pred),\n",
        "    'Recall': recall_score(y_test, y_pred),\n",
        "    'Coeficiente kappa': cohen_kappa_score(y_test, y_pred)\n",
        "}\n",
        "\n",
        "\n",
        "df = pd.DataFrame(datos)\n",
        "print(df)"
      ]
    },
    {
      "cell_type": "markdown",
      "metadata": {
        "id": "5jYXnmSHubEW"
      },
      "source": [
        "# Algunas pruebas más"
      ]
    },
    {
      "cell_type": "markdown",
      "metadata": {
        "id": "s2RxBFUp_t9a"
      },
      "source": [
        "### Usa 2 o 3 capas ocultas. Recoge los datos en una tabla y comenta"
      ]
    },
    {
      "cell_type": "code",
      "execution_count": null,
      "metadata": {
        "id": "3188rz9nubEa",
        "outputId": "7507f4ed-89bd-4717-c729-d5a07ee26f89"
      },
      "outputs": [
        {
          "name": "stdout",
          "output_type": "stream",
          "text": [
            "Model: \"sequential_1\"\n",
            "_________________________________________________________________\n",
            " Layer (type)                Output Shape              Param #   \n",
            "=================================================================\n",
            " dense_3 (Dense)             (None, 12)                144       \n",
            "                                                                 \n",
            " dense_4 (Dense)             (None, 8)                 104       \n",
            "                                                                 \n",
            " dense_5 (Dense)             (None, 8)                 72        \n",
            "                                                                 \n",
            " dense_6 (Dense)             (None, 8)                 72        \n",
            "                                                                 \n",
            " dense_7 (Dense)             (None, 1)                 9         \n",
            "                                                                 \n",
            "=================================================================\n",
            "Total params: 401\n",
            "Trainable params: 401\n",
            "Non-trainable params: 0\n",
            "_________________________________________________________________\n",
            "Epoch 1/5\n",
            "4352/4352 [==============================] - 22s 5ms/step - loss: 0.1745 - accuracy: 0.9506\n",
            "Epoch 2/5\n",
            "4352/4352 [==============================] - 20s 5ms/step - loss: 0.0672 - accuracy: 0.9933\n",
            "Epoch 3/5\n",
            "4352/4352 [==============================] - 21s 5ms/step - loss: 0.0350 - accuracy: 0.9959\n",
            "Epoch 4/5\n",
            "4352/4352 [==============================] - 20s 5ms/step - loss: 0.0238 - accuracy: 0.9954\n",
            "Epoch 5/5\n",
            "4352/4352 [==============================] - 20s 5ms/step - loss: 0.0185 - accuracy: 0.9970\n",
            "68/68 [==============================] - 0s 3ms/step\n",
            "68/68 [==============================] - 1s 3ms/step - loss: 0.0266 - accuracy: 0.9939\n",
            "[0.02662266604602337, 0.9939393997192383]\n"
          ]
        }
      ],
      "source": [
        "model_1 = Sequential()\n",
        "\n",
        "model_1.add(Dense(12, activation='relu', input_shape=(11,)))\n",
        "\n",
        "model_1.add(Dense(8, activation='relu'))\n",
        "model_1.add(Dense(8, activation='relu'))\n",
        "model_1.add(Dense(8, activation='relu'))\n",
        "\n",
        "model_1.add(Dense(1, activation='sigmoid'))\n",
        "\n",
        "model_1.summary()\n",
        "\n",
        "model_1.compile(loss='binary_crossentropy',\n",
        "              optimizer='Adam',\n",
        "              metrics=['accuracy'])\n",
        "model_1.fit(X_train, y_train,epochs=5, batch_size=1, verbose=1)\n",
        "\n",
        "y_pred_1 = model_1.predict(X_test)\n",
        "y_pred_1=(y_pred_1>0.5)\n",
        "\n",
        "score = model_1.evaluate(X_test, y_test,verbose=1)\n",
        "\n",
        "print(score)"
      ]
    },
    {
      "cell_type": "code",
      "execution_count": null,
      "metadata": {
        "id": "CQku9zn4ubEb",
        "outputId": "9e891ea7-f9a5-461c-cbb5-f9668048b299"
      },
      "outputs": [
        {
          "name": "stdout",
          "output_type": "stream",
          "text": [
            "   Número de capas ocultas  Unidades ocultas por capa Tipo de capas  Épocas  \\\n",
            "0                        1                          8         Dense       5   \n",
            "1                        3                          8         Dense       5   \n",
            "\n",
            "   Batch size Función de activación  Precisión        F1    Recall  \\\n",
            "0           1                  ReLU   0.996364  0.990063  0.983842   \n",
            "1           1                  ReLU   0.996350  0.988235  0.980251   \n",
            "\n",
            "   Coeficiente kappa  \n",
            "0           0.986608  \n",
            "1           0.984154  \n"
          ]
        },
        {
          "name": "stderr",
          "output_type": "stream",
          "text": [
            "C:\\Users\\Usuario\\AppData\\Local\\Temp\\ipykernel_8764\\1754456256.py:16: FutureWarning: The frame.append method is deprecated and will be removed from pandas in a future version. Use pandas.concat instead.\n",
            "  df = df.append(datos_1, ignore_index=True)\n"
          ]
        }
      ],
      "source": [
        "datos_1 = {\n",
        "    'Número de capas ocultas': 3,\n",
        "    'Unidades ocultas por capa': 8,\n",
        "    'Tipo de capas': 'Dense',\n",
        "    'Unidades ocultas por capa': 8,\n",
        "    'Épocas': 5,\n",
        "    'Batch size': 1,\n",
        "    'Función de activación': 'ReLU',\n",
        "    'Precisión': precision_score(y_test, y_pred_1),\n",
        "    'F1': f1_score(y_test,y_pred_1),\n",
        "    'Recall': recall_score(y_test, y_pred_1),\n",
        "    'Coeficiente kappa': cohen_kappa_score(y_test, y_pred_1)\n",
        "}\n",
        "\n",
        "datos_1 = pd.DataFrame([datos_1])\n",
        "df = df.append(datos_1, ignore_index=True)\n",
        "print(df)"
      ]
    },
    {
      "cell_type": "markdown",
      "metadata": {
        "id": "RnLztW-TubEc"
      },
      "source": [
        "Los resultados son prácticamente idénticos entre la red neuronal con 3 capas ocultas y la red neuronal con 1 única capa oculta. La medida de recuperación es prácticamente igual en ambos casos, lo que indica que ambos modelos cubren el mismo número de casos distintos, por lo que no habría diferencias significativas a la hora de clasificar datos nuevos."
      ]
    },
    {
      "cell_type": "markdown",
      "metadata": {
        "scrolled": true,
        "id": "OWb7fT7PubEc"
      },
      "source": [
        "### Usa capas con más o menos unidades ocultas. Recoge los datos en una tabla y comenta"
      ]
    },
    {
      "cell_type": "code",
      "execution_count": null,
      "metadata": {
        "id": "LH_x-lEjubEd",
        "outputId": "b5833efd-19b8-4aa4-9016-da6a92d8c17a"
      },
      "outputs": [
        {
          "name": "stdout",
          "output_type": "stream",
          "text": [
            "Model: \"sequential_2\"\n",
            "_________________________________________________________________\n",
            " Layer (type)                Output Shape              Param #   \n",
            "=================================================================\n",
            " dense_8 (Dense)             (None, 12)                144       \n",
            "                                                                 \n",
            " dense_9 (Dense)             (None, 4)                 52        \n",
            "                                                                 \n",
            " dense_10 (Dense)            (None, 1)                 5         \n",
            "                                                                 \n",
            "=================================================================\n",
            "Total params: 201\n",
            "Trainable params: 201\n",
            "Non-trainable params: 0\n",
            "_________________________________________________________________\n",
            "Epoch 1/5\n",
            "4352/4352 [==============================] - 19s 4ms/step - loss: 0.1076 - accuracy: 0.9678\n",
            "Epoch 2/5\n",
            "4352/4352 [==============================] - 18s 4ms/step - loss: 0.0232 - accuracy: 0.9954\n",
            "Epoch 3/5\n",
            "4352/4352 [==============================] - 18s 4ms/step - loss: 0.0195 - accuracy: 0.9959\n",
            "Epoch 4/5\n",
            "4352/4352 [==============================] - 18s 4ms/step - loss: 0.0173 - accuracy: 0.9963\n",
            "Epoch 5/5\n",
            "4352/4352 [==============================] - 19s 4ms/step - loss: 0.0161 - accuracy: 0.9963\n",
            "68/68 [==============================] - 0s 4ms/step\n",
            "68/68 [==============================] - 1s 4ms/step - loss: 0.0265 - accuracy: 0.9949\n",
            "[0.026458341628313065, 0.9948717951774597]\n"
          ]
        }
      ],
      "source": [
        "model_2 = Sequential()\n",
        "\n",
        "model_2.add(Dense(12, activation='relu', input_shape=(11,)))\n",
        "\n",
        "model_2.add(Dense(4, activation='relu'))\n",
        "\n",
        "model_2.add(Dense(1, activation='sigmoid'))\n",
        "\n",
        "model_2.summary()\n",
        "\n",
        "model_2.compile(loss='binary_crossentropy',\n",
        "              optimizer='Adam',\n",
        "              metrics=['accuracy'])\n",
        "model_2.fit(X_train, y_train,epochs=5, batch_size=1, verbose=1)\n",
        "\n",
        "y_pred_2 = model_2.predict(X_test)\n",
        "y_pred_2=(y_pred_2>0.5)\n",
        "\n",
        "score = model_2.evaluate(X_test, y_test,verbose=1)\n",
        "\n",
        "print(score)"
      ]
    },
    {
      "cell_type": "code",
      "execution_count": null,
      "metadata": {
        "scrolled": true,
        "id": "CJC68mF6ubEg",
        "outputId": "82d9dd5c-64f5-44f4-812d-be00ea7456a7"
      },
      "outputs": [
        {
          "name": "stdout",
          "output_type": "stream",
          "text": [
            "   Número de capas ocultas  Unidades ocultas por capa Tipo de capas  Épocas  \\\n",
            "0                        1                          8         Dense       5   \n",
            "1                        3                          8         Dense       5   \n",
            "2                        1                          4         Dense       5   \n",
            "\n",
            "   Batch size Función de activación  Precisión        F1    Recall  \\\n",
            "0           1                  ReLU   0.996364  0.990063  0.983842   \n",
            "1           1                  ReLU   0.996350  0.988235  0.980251   \n",
            "2           1                  ReLU   0.994565  0.990081  0.985637   \n",
            "\n",
            "   Coeficiente kappa  \n",
            "0           0.986608  \n",
            "1           0.984154  \n",
            "2           0.986623  \n"
          ]
        },
        {
          "name": "stderr",
          "output_type": "stream",
          "text": [
            "C:\\Users\\Usuario\\AppData\\Local\\Temp\\ipykernel_8764\\306032373.py:15: FutureWarning: The frame.append method is deprecated and will be removed from pandas in a future version. Use pandas.concat instead.\n",
            "  df = df.append(datos_2, ignore_index=True)\n"
          ]
        }
      ],
      "source": [
        "datos_2 = {\n",
        "    'Número de capas ocultas': 1,\n",
        "    'Unidades ocultas por capa': 4,\n",
        "    'Tipo de capas': 'Dense',\n",
        "    'Épocas': 5,\n",
        "    'Batch size': 1,\n",
        "    'Función de activación': 'ReLU',\n",
        "    'Precisión': precision_score(y_test, y_pred_2),\n",
        "    'F1': f1_score(y_test,y_pred_2),\n",
        "    'Recall': recall_score(y_test, y_pred_2),\n",
        "    'Coeficiente kappa': cohen_kappa_score(y_test, y_pred_2)\n",
        "}\n",
        "\n",
        "datos_2 = pd.DataFrame([datos_2])\n",
        "df = df.append(datos_2, ignore_index=True)\n",
        "print(df)"
      ]
    },
    {
      "cell_type": "code",
      "execution_count": null,
      "metadata": {
        "id": "VKeikjruubEi",
        "outputId": "d3a9c8ac-7cb3-4dd5-f437-bbb5ac2bdfb8"
      },
      "outputs": [
        {
          "name": "stdout",
          "output_type": "stream",
          "text": [
            "Model: \"sequential_3\"\n",
            "_________________________________________________________________\n",
            " Layer (type)                Output Shape              Param #   \n",
            "=================================================================\n",
            " dense_11 (Dense)            (None, 12)                144       \n",
            "                                                                 \n",
            " dense_12 (Dense)            (None, 14)                182       \n",
            "                                                                 \n",
            " dense_13 (Dense)            (None, 1)                 15        \n",
            "                                                                 \n",
            "=================================================================\n",
            "Total params: 341\n",
            "Trainable params: 341\n",
            "Non-trainable params: 0\n",
            "_________________________________________________________________\n",
            "Epoch 1/5\n",
            "4352/4352 [==============================] - 19s 4ms/step - loss: 0.0612 - accuracy: 0.9825\n",
            "Epoch 2/5\n",
            "4352/4352 [==============================] - 19s 4ms/step - loss: 0.0216 - accuracy: 0.9954\n",
            "Epoch 3/5\n",
            "4352/4352 [==============================] - 18s 4ms/step - loss: 0.0186 - accuracy: 0.9959\n",
            "Epoch 4/5\n",
            "4352/4352 [==============================] - 18s 4ms/step - loss: 0.0168 - accuracy: 0.9970\n",
            "Epoch 5/5\n",
            "4352/4352 [==============================] - 19s 4ms/step - loss: 0.0160 - accuracy: 0.9970\n",
            "68/68 [==============================] - 0s 3ms/step\n",
            "68/68 [==============================] - 1s 3ms/step - loss: 0.0245 - accuracy: 0.9958\n",
            "[0.024470334872603416, 0.9958041906356812]\n"
          ]
        }
      ],
      "source": [
        "model_3 = Sequential()\n",
        "\n",
        "model_3.add(Dense(12, activation='relu', input_shape=(11,)))\n",
        "\n",
        "model_3.add(Dense(14, activation='relu'))\n",
        "\n",
        "model_3.add(Dense(1, activation='sigmoid'))\n",
        "\n",
        "model_3.summary()\n",
        "\n",
        "model_3.compile(loss='binary_crossentropy',\n",
        "              optimizer='Adam',\n",
        "              metrics=['accuracy'])\n",
        "model_3.fit(X_train, y_train,epochs=5, batch_size=1, verbose=1)\n",
        "\n",
        "y_pred_3 = model_3.predict(X_test)\n",
        "y_pred_3=(y_pred_3>0.5)\n",
        "\n",
        "score = model_3.evaluate(X_test, y_test,verbose=1)\n",
        "\n",
        "print(score)"
      ]
    },
    {
      "cell_type": "code",
      "execution_count": null,
      "metadata": {
        "scrolled": true,
        "id": "P69LNmOJubEj",
        "outputId": "42d986a4-0d88-47af-c0bf-52bd5ec4d4db"
      },
      "outputs": [
        {
          "name": "stdout",
          "output_type": "stream",
          "text": [
            "   Número de capas ocultas  Unidades ocultas por capa Tipo de capas  Épocas  \\\n",
            "0                        1                          8         Dense       5   \n",
            "1                        3                          8         Dense       5   \n",
            "2                        1                          4         Dense       5   \n",
            "3                        1                         14         Dense       5   \n",
            "\n",
            "   Batch size Función de activación  Precisión        F1    Recall  \\\n",
            "0           1                  ReLU   0.996364  0.990063  0.983842   \n",
            "1           1                  ReLU   0.996350  0.988235  0.980251   \n",
            "2           1                  ReLU   0.994565  0.990081  0.985637   \n",
            "3           1                  ReLU   1.000000  0.991855  0.983842   \n",
            "\n",
            "   Coeficiente kappa  \n",
            "0           0.986608  \n",
            "1           0.984154  \n",
            "2           0.986623  \n",
            "3           0.989030  \n"
          ]
        },
        {
          "name": "stderr",
          "output_type": "stream",
          "text": [
            "C:\\Users\\Usuario\\AppData\\Local\\Temp\\ipykernel_8764\\634951282.py:15: FutureWarning: The frame.append method is deprecated and will be removed from pandas in a future version. Use pandas.concat instead.\n",
            "  df = df.append(datos_3, ignore_index=True)\n"
          ]
        }
      ],
      "source": [
        "datos_3 = {\n",
        "    'Número de capas ocultas': 1,\n",
        "    'Unidades ocultas por capa': 14,\n",
        "    'Tipo de capas': 'Dense',\n",
        "    'Épocas': 5,\n",
        "    'Batch size': 1,\n",
        "    'Función de activación': 'ReLU',\n",
        "    'Precisión': precision_score(y_test, y_pred_3),\n",
        "    'F1': f1_score(y_test,y_pred_3),\n",
        "    'Recall': recall_score(y_test, y_pred_3),\n",
        "    'Coeficiente kappa': cohen_kappa_score(y_test, y_pred_3)\n",
        "}\n",
        "\n",
        "datos_3 = pd.DataFrame([datos_3])\n",
        "df = df.append(datos_3, ignore_index=True)\n",
        "print(df)"
      ]
    },
    {
      "cell_type": "markdown",
      "metadata": {
        "id": "H2ZcFJUGubEl"
      },
      "source": [
        "No ha habido diferencias significantes entre el uso de menos unidades ocultas y el uso de más unidades ocultas para este problema."
      ]
    },
    {
      "cell_type": "markdown",
      "metadata": {
        "id": "wzN9C807ubEm"
      },
      "source": [
        "### Cambia la función de activación en los casos anteriores. En lugar de relu, intente usar la tanh función de activación y vea cuál es el resultado. Recoge los resultados en las tablas anteriores y coméntalo.\n"
      ]
    },
    {
      "cell_type": "code",
      "execution_count": null,
      "metadata": {
        "id": "c7LMIgd4ubEm",
        "outputId": "5a394364-2688-4ec5-ef6f-fb46e5b1563a"
      },
      "outputs": [
        {
          "name": "stdout",
          "output_type": "stream",
          "text": [
            "Model: \"sequential_4\"\n",
            "_________________________________________________________________\n",
            " Layer (type)                Output Shape              Param #   \n",
            "=================================================================\n",
            " dense_14 (Dense)            (None, 12)                144       \n",
            "                                                                 \n",
            " dense_15 (Dense)            (None, 8)                 104       \n",
            "                                                                 \n",
            " dense_16 (Dense)            (None, 1)                 9         \n",
            "                                                                 \n",
            "=================================================================\n",
            "Total params: 257\n",
            "Trainable params: 257\n",
            "Non-trainable params: 0\n",
            "_________________________________________________________________\n",
            "Epoch 1/5\n",
            "4352/4352 [==============================] - 19s 4ms/step - loss: 0.0646 - accuracy: 0.9821\n",
            "Epoch 2/5\n",
            "4352/4352 [==============================] - 19s 4ms/step - loss: 0.0235 - accuracy: 0.9947\n",
            "Epoch 3/5\n",
            "4352/4352 [==============================] - 21s 5ms/step - loss: 0.0204 - accuracy: 0.9956\n",
            "Epoch 4/5\n",
            "4352/4352 [==============================] - 18s 4ms/step - loss: 0.0188 - accuracy: 0.9959\n",
            "Epoch 5/5\n",
            "4352/4352 [==============================] - 22s 5ms/step - loss: 0.0175 - accuracy: 0.9968\n",
            "68/68 [==============================] - 0s 3ms/step\n",
            "68/68 [==============================] - 1s 4ms/step - loss: 0.0301 - accuracy: 0.9939\n",
            "[0.030068201944231987, 0.9939393997192383]\n",
            "   Número de capas ocultas  Unidades ocultas por capa Tipo de capas  Épocas  \\\n",
            "0                        1                          8         Dense       5   \n",
            "1                        3                          8         Dense       5   \n",
            "2                        1                          4         Dense       5   \n",
            "3                        1                         14         Dense       5   \n",
            "4                        1                          8         Dense       5   \n",
            "\n",
            "   Batch size Función de activación  Precisión        F1    Recall  \\\n",
            "0           1                  ReLU   0.996364  0.990063  0.983842   \n",
            "1           1                  ReLU   0.996350  0.988235  0.980251   \n",
            "2           1                  ReLU   0.994565  0.990081  0.985637   \n",
            "3           1                  ReLU   1.000000  0.991855  0.983842   \n",
            "4           1                  TanH   0.996350  0.988235  0.980251   \n",
            "\n",
            "   Coeficiente kappa  \n",
            "0           0.986608  \n",
            "1           0.984154  \n",
            "2           0.986623  \n",
            "3           0.989030  \n",
            "4           0.984154  \n"
          ]
        },
        {
          "name": "stderr",
          "output_type": "stream",
          "text": [
            "C:\\Users\\Usuario\\AppData\\Local\\Temp\\ipykernel_8764\\1865803107.py:37: FutureWarning: The frame.append method is deprecated and will be removed from pandas in a future version. Use pandas.concat instead.\n",
            "  df = df.append(datos_4, ignore_index=True)\n"
          ]
        }
      ],
      "source": [
        "model_4 = Sequential()\n",
        "\n",
        "model_4.add(Dense(12, activation='tanh', input_shape=(11,)))\n",
        "\n",
        "model_4.add(Dense(8, activation='tanh'))\n",
        "\n",
        "model_4.add(Dense(1, activation='sigmoid'))\n",
        "\n",
        "model_4.summary()\n",
        "\n",
        "model_4.compile(loss='binary_crossentropy',\n",
        "              optimizer='Adam',\n",
        "              metrics=['accuracy'])\n",
        "model_4.fit(X_train, y_train,epochs=5, batch_size=1, verbose=1)\n",
        "\n",
        "y_pred_4 = model_4.predict(X_test)\n",
        "y_pred_4=(y_pred_4>0.5)\n",
        "\n",
        "score = model_4.evaluate(X_test, y_test,verbose=1)\n",
        "\n",
        "print(score)\n",
        "\n",
        "datos_4 = {\n",
        "    'Número de capas ocultas': 1,\n",
        "    'Unidades ocultas por capa': 8,\n",
        "    'Tipo de capas': 'Dense',\n",
        "    'Épocas': 5,\n",
        "    'Batch size': 1,\n",
        "    'Función de activación': 'TanH',\n",
        "    'Precisión': precision_score(y_test, y_pred_4),\n",
        "    'F1': f1_score(y_test,y_pred_4),\n",
        "    'Recall': recall_score(y_test, y_pred_4),\n",
        "    'Coeficiente kappa': cohen_kappa_score(y_test, y_pred_4)\n",
        "}\n",
        "\n",
        "datos_4 = pd.DataFrame([datos_4])\n",
        "df = df.append(datos_4, ignore_index=True)\n",
        "print(df)"
      ]
    },
    {
      "cell_type": "code",
      "execution_count": null,
      "metadata": {
        "id": "E9ED_--BubEn",
        "outputId": "48b24dd9-d992-4c57-97b3-00d9e634f7a8"
      },
      "outputs": [
        {
          "name": "stdout",
          "output_type": "stream",
          "text": [
            "Model: \"sequential_5\"\n",
            "_________________________________________________________________\n",
            " Layer (type)                Output Shape              Param #   \n",
            "=================================================================\n",
            " dense_17 (Dense)            (None, 12)                144       \n",
            "                                                                 \n",
            " dense_18 (Dense)            (None, 8)                 104       \n",
            "                                                                 \n",
            " dense_19 (Dense)            (None, 8)                 72        \n",
            "                                                                 \n",
            " dense_20 (Dense)            (None, 8)                 72        \n",
            "                                                                 \n",
            " dense_21 (Dense)            (None, 1)                 9         \n",
            "                                                                 \n",
            "=================================================================\n",
            "Total params: 401\n",
            "Trainable params: 401\n",
            "Non-trainable params: 0\n",
            "_________________________________________________________________\n",
            "Epoch 1/5\n",
            "4352/4352 [==============================] - 23s 5ms/step - loss: 0.0512 - accuracy: 0.9887\n",
            "Epoch 2/5\n",
            "4352/4352 [==============================] - 21s 5ms/step - loss: 0.0236 - accuracy: 0.9947\n",
            "Epoch 3/5\n",
            "4352/4352 [==============================] - 20s 5ms/step - loss: 0.0205 - accuracy: 0.9952\n",
            "Epoch 4/5\n",
            "4352/4352 [==============================] - 22s 5ms/step - loss: 0.0182 - accuracy: 0.9961\n",
            "Epoch 5/5\n",
            "4352/4352 [==============================] - 22s 5ms/step - loss: 0.0164 - accuracy: 0.9972\n",
            "68/68 [==============================] - 1s 4ms/step\n",
            "68/68 [==============================] - 1s 3ms/step - loss: 0.0362 - accuracy: 0.9935\n",
            "[0.0361662358045578, 0.9934731721878052]\n",
            "   Número de capas ocultas  Unidades ocultas por capa Tipo de capas  Épocas  \\\n",
            "0                        1                          8         Dense       5   \n",
            "1                        3                          8         Dense       5   \n",
            "2                        1                          4         Dense       5   \n",
            "3                        1                         14         Dense       5   \n",
            "4                        1                          8         Dense       5   \n",
            "5                        3                          8         Dense       5   \n",
            "\n",
            "   Batch size Función de activación  Precisión        F1    Recall  \\\n",
            "0           1                  ReLU   0.996364  0.990063  0.983842   \n",
            "1           1                  ReLU   0.996350  0.988235  0.980251   \n",
            "2           1                  ReLU   0.994565  0.990081  0.985637   \n",
            "3           1                  ReLU   1.000000  0.991855  0.983842   \n",
            "4           1                  TanH   0.996350  0.988235  0.980251   \n",
            "5           1                  TanH   0.994536  0.987342  0.980251   \n",
            "\n",
            "   Coeficiente kappa  \n",
            "0           0.986608  \n",
            "1           0.984154  \n",
            "2           0.986623  \n",
            "3           0.989030  \n",
            "4           0.984154  \n",
            "5           0.982945  \n"
          ]
        },
        {
          "name": "stderr",
          "output_type": "stream",
          "text": [
            "C:\\Users\\Usuario\\AppData\\Local\\Temp\\ipykernel_8764\\3750455973.py:39: FutureWarning: The frame.append method is deprecated and will be removed from pandas in a future version. Use pandas.concat instead.\n",
            "  df = df.append(datos_5, ignore_index=True)\n"
          ]
        }
      ],
      "source": [
        "model_5 = Sequential()\n",
        "\n",
        "model_5.add(Dense(12, activation='tanh', input_shape=(11,)))\n",
        "\n",
        "model_5.add(Dense(8, activation='tanh'))\n",
        "model_5.add(Dense(8, activation='tanh'))\n",
        "model_5.add(Dense(8, activation='tanh'))\n",
        "\n",
        "model_5.add(Dense(1, activation='sigmoid'))\n",
        "\n",
        "model_5.summary()\n",
        "\n",
        "model_5.compile(loss='binary_crossentropy',\n",
        "              optimizer='Adam',\n",
        "              metrics=['accuracy'])\n",
        "model_5.fit(X_train, y_train,epochs=5, batch_size=1, verbose=1)\n",
        "\n",
        "y_pred_5 = model_5.predict(X_test)\n",
        "y_pred_5=(y_pred_5>0.5)\n",
        "\n",
        "score = model_5.evaluate(X_test, y_test,verbose=1)\n",
        "\n",
        "print(score)\n",
        "\n",
        "datos_5 = {\n",
        "    'Número de capas ocultas': 3,\n",
        "    'Unidades ocultas por capa': 8,\n",
        "    'Tipo de capas': 'Dense',\n",
        "    'Épocas': 5,\n",
        "    'Batch size': 1,\n",
        "    'Función de activación': 'TanH',\n",
        "    'Precisión': precision_score(y_test, y_pred_5),\n",
        "    'F1': f1_score(y_test,y_pred_5),\n",
        "    'Recall': recall_score(y_test, y_pred_5),\n",
        "    'Coeficiente kappa': cohen_kappa_score(y_test, y_pred_5)\n",
        "}\n",
        "\n",
        "datos_5 = pd.DataFrame([datos_5])\n",
        "df = df.append(datos_5, ignore_index=True)\n",
        "print(df)"
      ]
    },
    {
      "cell_type": "code",
      "execution_count": null,
      "metadata": {
        "id": "ImLDFhvtubEp",
        "outputId": "1a8a764c-0d2e-4134-8d69-fa5a0bd657b4"
      },
      "outputs": [
        {
          "name": "stdout",
          "output_type": "stream",
          "text": [
            "Model: \"sequential_6\"\n",
            "_________________________________________________________________\n",
            " Layer (type)                Output Shape              Param #   \n",
            "=================================================================\n",
            " dense_22 (Dense)            (None, 12)                144       \n",
            "                                                                 \n",
            " dense_23 (Dense)            (None, 4)                 52        \n",
            "                                                                 \n",
            " dense_24 (Dense)            (None, 1)                 5         \n",
            "                                                                 \n",
            "=================================================================\n",
            "Total params: 201\n",
            "Trainable params: 201\n",
            "Non-trainable params: 0\n",
            "_________________________________________________________________\n",
            "Epoch 1/5\n",
            "4352/4352 [==============================] - 21s 4ms/step - loss: 0.0742 - accuracy: 0.9862\n",
            "Epoch 2/5\n",
            "4352/4352 [==============================] - 20s 5ms/step - loss: 0.0266 - accuracy: 0.9940\n",
            "Epoch 3/5\n",
            "4352/4352 [==============================] - 19s 4ms/step - loss: 0.0228 - accuracy: 0.9949\n",
            "Epoch 4/5\n",
            "4352/4352 [==============================] - 19s 4ms/step - loss: 0.0211 - accuracy: 0.9959\n",
            "Epoch 5/5\n",
            "4352/4352 [==============================] - 18s 4ms/step - loss: 0.0205 - accuracy: 0.9961\n",
            "68/68 [==============================] - 0s 3ms/step\n",
            "68/68 [==============================] - 1s 3ms/step - loss: 0.0320 - accuracy: 0.9935\n",
            "[0.03199154883623123, 0.9934731721878052]\n",
            "   Número de capas ocultas  Unidades ocultas por capa Tipo de capas  Épocas  \\\n",
            "0                        1                          8         Dense       5   \n",
            "1                        3                          8         Dense       5   \n",
            "2                        1                          4         Dense       5   \n",
            "3                        1                         14         Dense       5   \n",
            "4                        1                          8         Dense       5   \n",
            "5                        3                          8         Dense       5   \n",
            "6                        1                          4         Dense       5   \n",
            "\n",
            "   Batch size Función de activación  Precisión        F1    Recall  \\\n",
            "0           1                  ReLU   0.996364  0.990063  0.983842   \n",
            "1           1                  ReLU   0.996350  0.988235  0.980251   \n",
            "2           1                  ReLU   0.994565  0.990081  0.985637   \n",
            "3           1                  ReLU   1.000000  0.991855  0.983842   \n",
            "4           1                  TanH   0.996350  0.988235  0.980251   \n",
            "5           1                  TanH   0.994536  0.987342  0.980251   \n",
            "6           1                  TanH   0.992740  0.987365  0.982047   \n",
            "\n",
            "   Coeficiente kappa  \n",
            "0           0.986608  \n",
            "1           0.984154  \n",
            "2           0.986623  \n",
            "3           0.989030  \n",
            "4           0.984154  \n",
            "5           0.982945  \n",
            "6           0.982965  \n"
          ]
        },
        {
          "name": "stderr",
          "output_type": "stream",
          "text": [
            "C:\\Users\\Usuario\\AppData\\Local\\Temp\\ipykernel_8764\\265495540.py:37: FutureWarning: The frame.append method is deprecated and will be removed from pandas in a future version. Use pandas.concat instead.\n",
            "  df = df.append(datos_6, ignore_index=True)\n"
          ]
        }
      ],
      "source": [
        "model_6 = Sequential()\n",
        "\n",
        "model_6.add(Dense(12, activation='tanh', input_shape=(11,)))\n",
        "\n",
        "model_6.add(Dense(4, activation='tanh'))\n",
        "\n",
        "model_6.add(Dense(1, activation='sigmoid'))\n",
        "\n",
        "model_6.summary()\n",
        "\n",
        "model_6.compile(loss='binary_crossentropy',\n",
        "              optimizer='Adam',\n",
        "              metrics=['accuracy'])\n",
        "model_6.fit(X_train, y_train,epochs=5, batch_size=1, verbose=1)\n",
        "\n",
        "y_pred_6 = model_6.predict(X_test)\n",
        "y_pred_6=(y_pred_6>0.5)\n",
        "\n",
        "score = model_6.evaluate(X_test, y_test,verbose=1)\n",
        "\n",
        "print(score)\n",
        "\n",
        "datos_6 = {\n",
        "    'Número de capas ocultas': 1,\n",
        "    'Unidades ocultas por capa': 4,\n",
        "    'Tipo de capas': 'Dense',\n",
        "    'Épocas': 5,\n",
        "    'Batch size': 1,\n",
        "    'Función de activación': 'TanH',\n",
        "    'Precisión': precision_score(y_test, y_pred_6),\n",
        "    'F1': f1_score(y_test,y_pred_6),\n",
        "    'Recall': recall_score(y_test, y_pred_6),\n",
        "    'Coeficiente kappa': cohen_kappa_score(y_test, y_pred_6)\n",
        "}\n",
        "\n",
        "datos_6 = pd.DataFrame([datos_6])\n",
        "df = df.append(datos_6, ignore_index=True)\n",
        "print(df)"
      ]
    },
    {
      "cell_type": "code",
      "execution_count": null,
      "metadata": {
        "id": "Ow7df5yzubEq",
        "outputId": "e2dc2233-d594-4d84-a223-3ca568069849"
      },
      "outputs": [
        {
          "name": "stdout",
          "output_type": "stream",
          "text": [
            "Model: \"sequential_7\"\n",
            "_________________________________________________________________\n",
            " Layer (type)                Output Shape              Param #   \n",
            "=================================================================\n",
            " dense_25 (Dense)            (None, 12)                144       \n",
            "                                                                 \n",
            " dense_26 (Dense)            (None, 14)                182       \n",
            "                                                                 \n",
            " dense_27 (Dense)            (None, 1)                 15        \n",
            "                                                                 \n",
            "=================================================================\n",
            "Total params: 341\n",
            "Trainable params: 341\n",
            "Non-trainable params: 0\n",
            "_________________________________________________________________\n",
            "Epoch 1/5\n",
            "4352/4352 [==============================] - 22s 5ms/step - loss: 0.0599 - accuracy: 0.9832\n",
            "Epoch 2/5\n",
            "4352/4352 [==============================] - 19s 4ms/step - loss: 0.0231 - accuracy: 0.9956\n",
            "Epoch 3/5\n",
            "4352/4352 [==============================] - 18s 4ms/step - loss: 0.0214 - accuracy: 0.9959\n",
            "Epoch 4/5\n",
            "4352/4352 [==============================] - 18s 4ms/step - loss: 0.0187 - accuracy: 0.9963\n",
            "Epoch 5/5\n",
            "4352/4352 [==============================] - 18s 4ms/step - loss: 0.0175 - accuracy: 0.9972\n",
            "68/68 [==============================] - 0s 3ms/step\n",
            "68/68 [==============================] - 1s 8ms/step - loss: 0.0304 - accuracy: 0.9935\n",
            "[0.03035661019384861, 0.9934731721878052]\n",
            "   Número de capas ocultas  Unidades ocultas por capa Tipo de capas  Épocas  \\\n",
            "0                        1                          8         Dense       5   \n",
            "1                        3                          8         Dense       5   \n",
            "2                        1                          4         Dense       5   \n",
            "3                        1                         14         Dense       5   \n",
            "4                        1                          8         Dense       5   \n",
            "5                        3                          8         Dense       5   \n",
            "6                        1                          4         Dense       5   \n",
            "7                        1                         14         Dense       5   \n",
            "\n",
            "   Batch size Función de activación  Precisión        F1    Recall  \\\n",
            "0           1                  ReLU   0.996364  0.990063  0.983842   \n",
            "1           1                  ReLU   0.996350  0.988235  0.980251   \n",
            "2           1                  ReLU   0.994565  0.990081  0.985637   \n",
            "3           1                  ReLU   1.000000  0.991855  0.983842   \n",
            "4           1                  TanH   0.996350  0.988235  0.980251   \n",
            "5           1                  TanH   0.994536  0.987342  0.980251   \n",
            "6           1                  TanH   0.992740  0.987365  0.982047   \n",
            "7           1                  TanH   0.992740  0.987365  0.982047   \n",
            "\n",
            "   Coeficiente kappa  \n",
            "0           0.986608  \n",
            "1           0.984154  \n",
            "2           0.986623  \n",
            "3           0.989030  \n",
            "4           0.984154  \n",
            "5           0.982945  \n",
            "6           0.982965  \n",
            "7           0.982965  \n"
          ]
        },
        {
          "name": "stderr",
          "output_type": "stream",
          "text": [
            "C:\\Users\\Usuario\\AppData\\Local\\Temp\\ipykernel_8764\\541617440.py:37: FutureWarning: The frame.append method is deprecated and will be removed from pandas in a future version. Use pandas.concat instead.\n",
            "  df = df.append(datos_7, ignore_index=True)\n"
          ]
        }
      ],
      "source": [
        "model_7 = Sequential()\n",
        "\n",
        "model_7.add(Dense(12, activation='tanh', input_shape=(11,)))\n",
        "\n",
        "model_7.add(Dense(14, activation='tanh'))\n",
        "\n",
        "model_7.add(Dense(1, activation='sigmoid'))\n",
        "\n",
        "model_7.summary()\n",
        "\n",
        "model_7.compile(loss='binary_crossentropy',\n",
        "              optimizer='Adam',\n",
        "              metrics=['accuracy'])\n",
        "model_7.fit(X_train, y_train,epochs=5, batch_size=1, verbose=1)\n",
        "\n",
        "y_pred_7 = model_7.predict(X_test)\n",
        "y_pred_7=(y_pred_7>0.5)\n",
        "\n",
        "score = model_7.evaluate(X_test, y_test,verbose=1)\n",
        "\n",
        "print(score)\n",
        "\n",
        "datos_7 = {\n",
        "    'Número de capas ocultas': 1,\n",
        "    'Unidades ocultas por capa': 14,\n",
        "    'Tipo de capas': 'Dense',\n",
        "    'Épocas': 5,\n",
        "    'Batch size': 1,\n",
        "    'Función de activación': 'TanH',\n",
        "    'Precisión': precision_score(y_test, y_pred_7),\n",
        "    'F1': f1_score(y_test,y_pred_7),\n",
        "    'Recall': recall_score(y_test, y_pred_7),\n",
        "    'Coeficiente kappa': cohen_kappa_score(y_test, y_pred_7)\n",
        "}\n",
        "\n",
        "datos_7 = pd.DataFrame([datos_7])\n",
        "df = df.append(datos_7, ignore_index=True)\n",
        "print(df)"
      ]
    },
    {
      "cell_type": "markdown",
      "metadata": {
        "id": "yvVAA5wkubEr"
      },
      "source": [
        "Al cambiar la función de activación a una tangente hiperbólica los resultados no varían mucho pero las medidas de rendimiento en general son ligeramente peores en comparación con los modelos que utilizan ReLU."
      ]
    },
    {
      "cell_type": "markdown",
      "metadata": {
        "id": "o7n-2KekubEt"
      },
      "source": [
        "### Toma la columna quality como las etiqueta objetivo, transformando ahora el problema a un problema multiclase. Aplica lo aprendido y extrae resultados y conclusiones. Recoge resultados igual que en los casos anteriores\n"
      ]
    },
    {
      "cell_type": "code",
      "execution_count": null,
      "metadata": {
        "id": "MHp4RkgwubEt"
      },
      "outputs": [],
      "source": [
        "from keras.utils import to_categorical\n",
        "\n",
        "wines_q = wines.drop(columns=['quality'])\n",
        "X_q=wines_q.iloc[:,0:11]\n",
        "\n",
        "# Specify the target labels and flatten the array\n",
        "y_q=np.ravel(wines.quality)\n",
        "y_q = to_categorical(y_q, num_classes=10)\n",
        "\n",
        "# Split the data up in train and test sets\n",
        "X_q_train, X_q_test, y_q_train, y_q_test = train_test_split(X_q, y_q, test_size=0.33, random_state=42)\n",
        "\n",
        "X_q_train = scaler.transform(X_q_train)\n",
        "X_q_test = scaler.transform(X_q_test)"
      ]
    },
    {
      "cell_type": "code",
      "execution_count": null,
      "metadata": {
        "scrolled": true,
        "id": "uCqrLKaXubEu",
        "outputId": "b5b403ba-5251-46a3-a801-c2e0981f8da2"
      },
      "outputs": [
        {
          "name": "stdout",
          "output_type": "stream",
          "text": [
            "Model: \"sequential_9\"\n",
            "_________________________________________________________________\n",
            " Layer (type)                Output Shape              Param #   \n",
            "=================================================================\n",
            " dense_33 (Dense)            (None, 12)                144       \n",
            "                                                                 \n",
            " dense_34 (Dense)            (None, 4)                 52        \n",
            "                                                                 \n",
            " dense_35 (Dense)            (None, 4)                 20        \n",
            "                                                                 \n",
            " dense_36 (Dense)            (None, 4)                 20        \n",
            "                                                                 \n",
            " dense_37 (Dense)            (None, 10)                50        \n",
            "                                                                 \n",
            "=================================================================\n",
            "Total params: 286\n",
            "Trainable params: 286\n",
            "Non-trainable params: 0\n",
            "_________________________________________________________________\n",
            "Epoch 1/5\n",
            "4352/4352 [==============================] - 24s 5ms/step - loss: 1.3631 - accuracy: 0.4180\n",
            "Epoch 2/5\n",
            "4352/4352 [==============================] - 20s 5ms/step - loss: 1.2259 - accuracy: 0.4853\n",
            "Epoch 3/5\n",
            "4352/4352 [==============================] - 22s 5ms/step - loss: 1.1274 - accuracy: 0.5273\n",
            "Epoch 4/5\n",
            "4352/4352 [==============================] - 21s 5ms/step - loss: 1.0777 - accuracy: 0.5453\n",
            "Epoch 5/5\n",
            "4352/4352 [==============================] - 20s 4ms/step - loss: 1.0610 - accuracy: 0.5487\n",
            "68/68 [==============================] - 1s 4ms/step\n",
            "68/68 [==============================] - 1s 4ms/step - loss: 1.0804 - accuracy: 0.5231\n",
            "[1.0804095268249512, 0.5230769515037537]\n"
          ]
        }
      ],
      "source": [
        "import numpy as np\n",
        "model_8 = Sequential()\n",
        "\n",
        "model_8.add(Dense(12, activation='relu', input_shape=(11,)))\n",
        "\n",
        "model_8.add(Dense(4, activation='relu'))\n",
        "model_8.add(Dense(4, activation='relu'))\n",
        "model_8.add(Dense(4, activation='relu'))\n",
        "\n",
        "model_8.add(Dense(10, activation='softmax'))\n",
        "\n",
        "model_8.summary()\n",
        "\n",
        "model_8.compile(loss='categorical_crossentropy',\n",
        "              optimizer='Adam',\n",
        "              metrics=['accuracy'])\n",
        "model_8.fit(X_q_train, y_q_train, epochs=5, batch_size=1, verbose=1)\n",
        "\n",
        "y_pred_8 = model_8.predict(X_q_test)\n",
        "\n",
        "for i in range(len(y_pred_8)):\n",
        "    inner_array = y_pred_8[i]\n",
        "    max_index = np.argmax(inner_array)\n",
        "    result = np.zeros_like(inner_array)\n",
        "    result[max_index] = 1\n",
        "    y_pred_8[i] = result\n",
        "\n",
        "score = model_8.evaluate(X_q_test, y_q_test,verbose=1)\n",
        "\n",
        "print(score)"
      ]
    },
    {
      "cell_type": "code",
      "execution_count": null,
      "metadata": {
        "id": "wQe34rgYubEw",
        "outputId": "3f0c99b3-b97f-470d-e997-67c66a0ba291"
      },
      "outputs": [
        {
          "data": {
            "text/plain": [
              "array([[0., 0., 0., ..., 0., 1., 0.],\n",
              "       [0., 0., 0., ..., 0., 0., 0.],\n",
              "       [0., 0., 0., ..., 1., 0., 0.],\n",
              "       ...,\n",
              "       [0., 0., 0., ..., 0., 0., 0.],\n",
              "       [0., 0., 0., ..., 0., 0., 0.],\n",
              "       [0., 0., 0., ..., 1., 0., 0.]], dtype=float32)"
            ]
          },
          "execution_count": 52,
          "metadata": {},
          "output_type": "execute_result"
        }
      ],
      "source": [
        "y_q_test"
      ]
    },
    {
      "cell_type": "code",
      "execution_count": null,
      "metadata": {
        "id": "_XrYi7DpubEy",
        "outputId": "a1cff910-6c9a-42cd-a43e-727a7a5ec9a3"
      },
      "outputs": [
        {
          "name": "stdout",
          "output_type": "stream",
          "text": [
            "   Número de capas ocultas  Unidades ocultas por capa Tipo de capas  Épocas  \\\n",
            "0                        3                          4         Dense       5   \n",
            "\n",
            "   Batch size Función de activación  Precisión        F1    Recall  \n",
            "0           1                  ReLU   0.486399  0.500504  0.523077  \n"
          ]
        }
      ],
      "source": [
        "datos2 = {\n",
        "    'Número de capas ocultas': [3],\n",
        "    'Unidades ocultas por capa': [4],\n",
        "    'Tipo de capas': ['Dense'],\n",
        "    'Épocas': [5],\n",
        "    'Batch size': [1],\n",
        "    'Función de activación': \"ReLU\",\n",
        "    'Precisión': precision_score(y_q_test, y_pred_8, average = 'weighted', zero_division=0),\n",
        "    'F1': f1_score(y_q_test, y_pred_8, average = 'weighted', zero_division=0),\n",
        "    'Recall': recall_score(y_q_test, y_pred_8, average = 'weighted', zero_division=0)\n",
        "}\n",
        "\n",
        "\n",
        "df2 = pd.DataFrame(datos2)\n",
        "print(df2)"
      ]
    },
    {
      "cell_type": "markdown",
      "metadata": {
        "id": "OWJQBtNNubEy"
      },
      "source": [
        "Al ser un problema multiclase en vez de binario el rendimiento es bastante peor. Aún así, hemos podido predecir correctamente la mitad de los casos de test de una clase con 10 valores distintos utilizando un modelo de perceptrón multicapa relativamente simple."
      ]
    }
  ],
  "metadata": {
    "colab": {
      "provenance": []
    },
    "kernelspec": {
      "display_name": "Python 3 (ipykernel)",
      "language": "python",
      "name": "python3"
    },
    "language_info": {
      "codemirror_mode": {
        "name": "ipython",
        "version": 3
      },
      "file_extension": ".py",
      "mimetype": "text/x-python",
      "name": "python",
      "nbconvert_exporter": "python",
      "pygments_lexer": "ipython3",
      "version": "3.9.12"
    }
  },
  "nbformat": 4,
  "nbformat_minor": 0
}