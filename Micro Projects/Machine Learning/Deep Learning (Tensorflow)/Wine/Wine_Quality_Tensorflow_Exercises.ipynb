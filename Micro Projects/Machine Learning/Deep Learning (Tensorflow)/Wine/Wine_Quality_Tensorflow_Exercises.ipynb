{
  "cells": [
    {
      "cell_type": "code",
      "execution_count": null,
      "metadata": {
        "id": "nqPwHGWigmOp"
      },
      "outputs": [],
      "source": [
        "# Import pandas\n",
        "import pandas as pd\n",
        "\n",
        "# Read in white wine data\n",
        "white = pd.read_csv('C:/Users/Usuario/Downloads\\winequality-white.csv', sep=';')\n",
        "\n",
        "# Read in red wine data\n",
        "red = pd.read_csv('C:/Users/Usuario/Downloads\\winequality-red.csv', sep=';')"
      ]
    },
    {
      "cell_type": "code",
      "execution_count": null,
      "metadata": {
        "id": "OmrJ2UfygmOu"
      },
      "outputs": [],
      "source": [
        "# Add `type` column to `red` with value 1\n",
        "red['type'] = 1\n",
        "\n",
        "# Add `type` column to `white` with value 0\n",
        "white['type'] = 0\n",
        "\n",
        "# Append `white` to `red`\n",
        "#wines = red.append(white, ignore_index=True)\n",
        "wines = pd.concat([red, white], ignore_index=True)"
      ]
    },
    {
      "cell_type": "code",
      "execution_count": null,
      "metadata": {
        "scrolled": true,
        "id": "arDKyHBkgmOz",
        "outputId": "b0b5f2f3-0b86-495f-d548-51b6bf479b14"
      },
      "outputs": [
        {
          "data": {
            "text/html": [
              "<div>\n",
              "<style scoped>\n",
              "    .dataframe tbody tr th:only-of-type {\n",
              "        vertical-align: middle;\n",
              "    }\n",
              "\n",
              "    .dataframe tbody tr th {\n",
              "        vertical-align: top;\n",
              "    }\n",
              "\n",
              "    .dataframe thead th {\n",
              "        text-align: right;\n",
              "    }\n",
              "</style>\n",
              "<table border=\"1\" class=\"dataframe\">\n",
              "  <thead>\n",
              "    <tr style=\"text-align: right;\">\n",
              "      <th></th>\n",
              "      <th>fixed acidity</th>\n",
              "      <th>volatile acidity</th>\n",
              "      <th>citric acid</th>\n",
              "      <th>residual sugar</th>\n",
              "      <th>chlorides</th>\n",
              "      <th>free sulfur dioxide</th>\n",
              "      <th>total sulfur dioxide</th>\n",
              "      <th>density</th>\n",
              "      <th>pH</th>\n",
              "      <th>sulphates</th>\n",
              "      <th>alcohol</th>\n",
              "      <th>quality</th>\n",
              "      <th>type</th>\n",
              "    </tr>\n",
              "  </thead>\n",
              "  <tbody>\n",
              "    <tr>\n",
              "      <th>0</th>\n",
              "      <td>7.4</td>\n",
              "      <td>0.70</td>\n",
              "      <td>0.00</td>\n",
              "      <td>1.9</td>\n",
              "      <td>0.076</td>\n",
              "      <td>11.0</td>\n",
              "      <td>34.0</td>\n",
              "      <td>0.99780</td>\n",
              "      <td>3.51</td>\n",
              "      <td>0.56</td>\n",
              "      <td>9.4</td>\n",
              "      <td>5</td>\n",
              "      <td>1</td>\n",
              "    </tr>\n",
              "    <tr>\n",
              "      <th>1</th>\n",
              "      <td>7.8</td>\n",
              "      <td>0.88</td>\n",
              "      <td>0.00</td>\n",
              "      <td>2.6</td>\n",
              "      <td>0.098</td>\n",
              "      <td>25.0</td>\n",
              "      <td>67.0</td>\n",
              "      <td>0.99680</td>\n",
              "      <td>3.20</td>\n",
              "      <td>0.68</td>\n",
              "      <td>9.8</td>\n",
              "      <td>5</td>\n",
              "      <td>1</td>\n",
              "    </tr>\n",
              "    <tr>\n",
              "      <th>2</th>\n",
              "      <td>7.8</td>\n",
              "      <td>0.76</td>\n",
              "      <td>0.04</td>\n",
              "      <td>2.3</td>\n",
              "      <td>0.092</td>\n",
              "      <td>15.0</td>\n",
              "      <td>54.0</td>\n",
              "      <td>0.99700</td>\n",
              "      <td>3.26</td>\n",
              "      <td>0.65</td>\n",
              "      <td>9.8</td>\n",
              "      <td>5</td>\n",
              "      <td>1</td>\n",
              "    </tr>\n",
              "    <tr>\n",
              "      <th>3</th>\n",
              "      <td>11.2</td>\n",
              "      <td>0.28</td>\n",
              "      <td>0.56</td>\n",
              "      <td>1.9</td>\n",
              "      <td>0.075</td>\n",
              "      <td>17.0</td>\n",
              "      <td>60.0</td>\n",
              "      <td>0.99800</td>\n",
              "      <td>3.16</td>\n",
              "      <td>0.58</td>\n",
              "      <td>9.8</td>\n",
              "      <td>6</td>\n",
              "      <td>1</td>\n",
              "    </tr>\n",
              "    <tr>\n",
              "      <th>4</th>\n",
              "      <td>7.4</td>\n",
              "      <td>0.70</td>\n",
              "      <td>0.00</td>\n",
              "      <td>1.9</td>\n",
              "      <td>0.076</td>\n",
              "      <td>11.0</td>\n",
              "      <td>34.0</td>\n",
              "      <td>0.99780</td>\n",
              "      <td>3.51</td>\n",
              "      <td>0.56</td>\n",
              "      <td>9.4</td>\n",
              "      <td>5</td>\n",
              "      <td>1</td>\n",
              "    </tr>\n",
              "    <tr>\n",
              "      <th>...</th>\n",
              "      <td>...</td>\n",
              "      <td>...</td>\n",
              "      <td>...</td>\n",
              "      <td>...</td>\n",
              "      <td>...</td>\n",
              "      <td>...</td>\n",
              "      <td>...</td>\n",
              "      <td>...</td>\n",
              "      <td>...</td>\n",
              "      <td>...</td>\n",
              "      <td>...</td>\n",
              "      <td>...</td>\n",
              "      <td>...</td>\n",
              "    </tr>\n",
              "    <tr>\n",
              "      <th>6492</th>\n",
              "      <td>6.2</td>\n",
              "      <td>0.21</td>\n",
              "      <td>0.29</td>\n",
              "      <td>1.6</td>\n",
              "      <td>0.039</td>\n",
              "      <td>24.0</td>\n",
              "      <td>92.0</td>\n",
              "      <td>0.99114</td>\n",
              "      <td>3.27</td>\n",
              "      <td>0.50</td>\n",
              "      <td>11.2</td>\n",
              "      <td>6</td>\n",
              "      <td>0</td>\n",
              "    </tr>\n",
              "    <tr>\n",
              "      <th>6493</th>\n",
              "      <td>6.6</td>\n",
              "      <td>0.32</td>\n",
              "      <td>0.36</td>\n",
              "      <td>8.0</td>\n",
              "      <td>0.047</td>\n",
              "      <td>57.0</td>\n",
              "      <td>168.0</td>\n",
              "      <td>0.99490</td>\n",
              "      <td>3.15</td>\n",
              "      <td>0.46</td>\n",
              "      <td>9.6</td>\n",
              "      <td>5</td>\n",
              "      <td>0</td>\n",
              "    </tr>\n",
              "    <tr>\n",
              "      <th>6494</th>\n",
              "      <td>6.5</td>\n",
              "      <td>0.24</td>\n",
              "      <td>0.19</td>\n",
              "      <td>1.2</td>\n",
              "      <td>0.041</td>\n",
              "      <td>30.0</td>\n",
              "      <td>111.0</td>\n",
              "      <td>0.99254</td>\n",
              "      <td>2.99</td>\n",
              "      <td>0.46</td>\n",
              "      <td>9.4</td>\n",
              "      <td>6</td>\n",
              "      <td>0</td>\n",
              "    </tr>\n",
              "    <tr>\n",
              "      <th>6495</th>\n",
              "      <td>5.5</td>\n",
              "      <td>0.29</td>\n",
              "      <td>0.30</td>\n",
              "      <td>1.1</td>\n",
              "      <td>0.022</td>\n",
              "      <td>20.0</td>\n",
              "      <td>110.0</td>\n",
              "      <td>0.98869</td>\n",
              "      <td>3.34</td>\n",
              "      <td>0.38</td>\n",
              "      <td>12.8</td>\n",
              "      <td>7</td>\n",
              "      <td>0</td>\n",
              "    </tr>\n",
              "    <tr>\n",
              "      <th>6496</th>\n",
              "      <td>6.0</td>\n",
              "      <td>0.21</td>\n",
              "      <td>0.38</td>\n",
              "      <td>0.8</td>\n",
              "      <td>0.020</td>\n",
              "      <td>22.0</td>\n",
              "      <td>98.0</td>\n",
              "      <td>0.98941</td>\n",
              "      <td>3.26</td>\n",
              "      <td>0.32</td>\n",
              "      <td>11.8</td>\n",
              "      <td>6</td>\n",
              "      <td>0</td>\n",
              "    </tr>\n",
              "  </tbody>\n",
              "</table>\n",
              "<p>6497 rows × 13 columns</p>\n",
              "</div>"
            ],
            "text/plain": [
              "      fixed acidity  volatile acidity  citric acid  residual sugar  chlorides  \\\n",
              "0               7.4              0.70         0.00             1.9      0.076   \n",
              "1               7.8              0.88         0.00             2.6      0.098   \n",
              "2               7.8              0.76         0.04             2.3      0.092   \n",
              "3              11.2              0.28         0.56             1.9      0.075   \n",
              "4               7.4              0.70         0.00             1.9      0.076   \n",
              "...             ...               ...          ...             ...        ...   \n",
              "6492            6.2              0.21         0.29             1.6      0.039   \n",
              "6493            6.6              0.32         0.36             8.0      0.047   \n",
              "6494            6.5              0.24         0.19             1.2      0.041   \n",
              "6495            5.5              0.29         0.30             1.1      0.022   \n",
              "6496            6.0              0.21         0.38             0.8      0.020   \n",
              "\n",
              "      free sulfur dioxide  total sulfur dioxide  density    pH  sulphates  \\\n",
              "0                    11.0                  34.0  0.99780  3.51       0.56   \n",
              "1                    25.0                  67.0  0.99680  3.20       0.68   \n",
              "2                    15.0                  54.0  0.99700  3.26       0.65   \n",
              "3                    17.0                  60.0  0.99800  3.16       0.58   \n",
              "4                    11.0                  34.0  0.99780  3.51       0.56   \n",
              "...                   ...                   ...      ...   ...        ...   \n",
              "6492                 24.0                  92.0  0.99114  3.27       0.50   \n",
              "6493                 57.0                 168.0  0.99490  3.15       0.46   \n",
              "6494                 30.0                 111.0  0.99254  2.99       0.46   \n",
              "6495                 20.0                 110.0  0.98869  3.34       0.38   \n",
              "6496                 22.0                  98.0  0.98941  3.26       0.32   \n",
              "\n",
              "      alcohol  quality  type  \n",
              "0         9.4        5     1  \n",
              "1         9.8        5     1  \n",
              "2         9.8        5     1  \n",
              "3         9.8        6     1  \n",
              "4         9.4        5     1  \n",
              "...       ...      ...   ...  \n",
              "6492     11.2        6     0  \n",
              "6493      9.6        5     0  \n",
              "6494      9.4        6     0  \n",
              "6495     12.8        7     0  \n",
              "6496     11.8        6     0  \n",
              "\n",
              "[6497 rows x 13 columns]"
            ]
          },
          "execution_count": 3,
          "metadata": {},
          "output_type": "execute_result"
        }
      ],
      "source": [
        "wines"
      ]
    },
    {
      "cell_type": "code",
      "execution_count": null,
      "metadata": {
        "id": "PV1CakpEgmO1"
      },
      "outputs": [],
      "source": [
        "X=wines.iloc[:,0:12]"
      ]
    },
    {
      "cell_type": "code",
      "execution_count": null,
      "metadata": {
        "id": "JJzUGnicgmO3"
      },
      "outputs": [],
      "source": [
        "X=wines.drop('quality',axis=1)"
      ]
    },
    {
      "cell_type": "code",
      "execution_count": null,
      "metadata": {
        "id": "52x1k3mZgmO5"
      },
      "outputs": [],
      "source": [
        "# Isolate target labels\n",
        "#Y = wines.quality\n",
        "import numpy as np\n",
        "Y=np.ravel(wines.quality)"
      ]
    },
    {
      "cell_type": "code",
      "execution_count": null,
      "metadata": {
        "id": "u5Y5Avm6gmO6"
      },
      "outputs": [],
      "source": [
        "# Import `StandardScaler` from `sklearn.preprocessing`\n",
        "from sklearn.preprocessing import StandardScaler\n",
        "\n",
        "# Scale\n",
        "X_train=StandardScaler().fit_transform(X)"
      ]
    },
    {
      "cell_type": "code",
      "execution_count": null,
      "metadata": {
        "id": "SU_VUVnmgmO7",
        "outputId": "93f5afcc-a2bd-40a2-97d7-25cf0f2d382c"
      },
      "outputs": [
        {
          "name": "stdout",
          "output_type": "stream",
          "text": [
            "41/41 [==============================] - 0s 3ms/step\n",
            "Validation MSE: 0.51283\n",
            "Validation MAE: 0.55232\n",
            "Test MSE: 0.46977\n",
            "Test MAE: 0.52988\n"
          ]
        }
      ],
      "source": [
        "# Import `Sequential` from `keras.models`\n",
        "from keras.models import Sequential\n",
        "\n",
        "# Import `Dense` from `keras.layers`\n",
        "from keras.layers import Dense\n",
        "\n",
        "import numpy as np\n",
        "from sklearn.model_selection import StratifiedKFold\n",
        "\n",
        "seed = 7\n",
        "np.random.seed(seed)\n",
        "\n",
        "test = np.random.choice(X_train.shape[0], size=int(X_train.shape[0]*0.2), replace=False)\n",
        "mse_vals = []\n",
        "mae_vals = []\n",
        "\n",
        "kfold = StratifiedKFold(n_splits=5, shuffle=True, random_state=seed)\n",
        "for train, val in kfold.split(X, Y):\n",
        "    model = Sequential()\n",
        "    model.add(Dense(64, input_dim=12, activation='relu'))\n",
        "    model.add(Dense(1))\n",
        "    model.compile(optimizer='rmsprop', loss='mse', metrics=['mae'])\n",
        "    model.fit(X_train[train], Y[train], epochs=10,verbose=0)\n",
        "    mse_aux_value, mae_aux_value=model.evaluate(X_train[val], Y[val], verbose=0)\n",
        "    mse_vals.append(mse_aux_value)\n",
        "    mae_vals.append(mae_aux_value)\n",
        "\n",
        "mse_val_value = np.mean(mse_vals)\n",
        "mae_val_value = np.mean(mae_vals)\n",
        "\n",
        "#En caso de haber guardado un modelo...\n",
        "y_test_pred = model.predict(X_train[test])\n",
        "mse_test_value, mae_test_value=model.evaluate(X_train[test], Y[test], verbose=0)\n",
        "\n",
        "print(f'Validation MSE: {mse_val_value:.5f}')\n",
        "print(f'Validation MAE: {mae_val_value:.5f}')\n",
        "print(f'Test MSE: {mse_test_value:.5f}')\n",
        "print(f'Test MAE: {mae_test_value:.5f}')"
      ]
    },
    {
      "cell_type": "code",
      "execution_count": null,
      "metadata": {
        "id": "Latx40n-gmO9",
        "outputId": "b0595bb0-5d80-412d-f199-a0f3cb50f6a4"
      },
      "outputs": [
        {
          "data": {
            "text/plain": [
              "0.37186213149241143"
            ]
          },
          "execution_count": 9,
          "metadata": {},
          "output_type": "execute_result"
        }
      ],
      "source": [
        "from sklearn.metrics import r2_score\n",
        "r2_score(Y[test],y_test_pred)"
      ]
    },
    {
      "cell_type": "code",
      "execution_count": null,
      "metadata": {
        "scrolled": true,
        "id": "giz4TcemgmO_",
        "outputId": "6d6107bb-3c5f-49ed-a61c-a2699e3aafbb"
      },
      "outputs": [
        {
          "name": "stdout",
          "output_type": "stream",
          "text": [
            "  Tipo de capas  Tamaño capa de entrada  Épocas Función de activación  \\\n",
            "0         Dense                      64      10                  ReLU   \n",
            "\n",
            "        MSE       MAE        R2  \n",
            "0  0.469774  0.529881  0.371862  \n"
          ]
        }
      ],
      "source": [
        "datos = {\n",
        "    'Tipo de capas': ['Dense'],\n",
        "    'Tamaño capa de entrada': [64],\n",
        "    'Épocas': [10],\n",
        "    'Función de activación': \"ReLU\",\n",
        "    'MSE': mse_test_value,\n",
        "    'MAE': mae_test_value,\n",
        "    'R2': r2_score(Y[test],y_test_pred)\n",
        "}\n",
        "\n",
        "df = pd.DataFrame(datos)\n",
        "print(df)"
      ]
    },
    {
      "cell_type": "markdown",
      "metadata": {
        "id": "HXRwkXPrgmPB"
      },
      "source": [
        "### Pruebas con mayor número de épocas"
      ]
    },
    {
      "cell_type": "code",
      "execution_count": null,
      "metadata": {
        "scrolled": true,
        "id": "qqZUoyg0gmPD",
        "outputId": "649a333f-2254-4e51-d932-4c45806adbf3"
      },
      "outputs": [
        {
          "name": "stdout",
          "output_type": "stream",
          "text": [
            "41/41 [==============================] - 0s 3ms/step\n",
            "41/41 [==============================] - 0s 3ms/step\n",
            "41/41 [==============================] - 0s 3ms/step\n",
            "41/41 [==============================] - 0s 3ms/step\n",
            "  Tipo de capas  Tamaño capa de entrada  Épocas Función de activación  \\\n",
            "0         Dense                      64      10                  ReLU   \n",
            "1         Dense                      64      20                  ReLU   \n",
            "2         Dense                      64      30                  ReLU   \n",
            "3         Dense                      64      40                  ReLU   \n",
            "4         Dense                      64      50                  ReLU   \n",
            "\n",
            "        MSE       MAE        R2  \n",
            "0  0.469774  0.529881  0.371862  \n",
            "1  0.439342  0.516003  0.412554  \n",
            "2  0.448071  0.516015  0.400882  \n",
            "3  0.423551  0.502714  0.433667  \n",
            "4  0.445968  0.512089  0.403693  \n"
          ]
        }
      ],
      "source": [
        "kfold = StratifiedKFold(n_splits=5, shuffle=True, random_state=seed)\n",
        "\n",
        "epocas = [20, 30, 40, 50]\n",
        "\n",
        "for i in range(len(epocas)):\n",
        "    for train, val in kfold.split(X, Y):\n",
        "        model = Sequential()\n",
        "        model.add(Dense(64, input_dim=12, activation='relu'))\n",
        "        model.add(Dense(1))\n",
        "        model.compile(optimizer='rmsprop', loss='mse', metrics=['mae'])\n",
        "        model.fit(X_train[train], Y[train], epochs=epocas[i],verbose=0)\n",
        "        mse_aux_value, mae_aux_value=model.evaluate(X_train[val], Y[val], verbose=0)\n",
        "        mse_vals.append(mse_aux_value)\n",
        "        mae_vals.append(mae_aux_value)\n",
        "\n",
        "    mse_val_value = np.mean(mse_vals)\n",
        "    mae_val_value = np.mean(mae_vals)\n",
        "\n",
        "#En caso de haber guardado un modelo...\n",
        "    y_test_pred = model.predict(X_train[test])\n",
        "    mse_test_value, mae_test_value=model.evaluate(X_train[test], Y[test], verbose=0)\n",
        "\n",
        "    datos = {\n",
        "    'Tipo de capas': 'Dense',\n",
        "    'Tamaño capa de entrada': 64,\n",
        "    'Épocas': epocas[i],\n",
        "    'Función de activación': \"ReLU\",\n",
        "    'MSE': mse_test_value,\n",
        "    'MAE': mae_test_value,\n",
        "    'R2': r2_score(Y[test],y_test_pred)\n",
        "    }\n",
        "\n",
        "    datos = pd.DataFrame([datos])\n",
        "    df = pd.concat([df, datos], ignore_index=True)\n",
        "\n",
        "print(df)"
      ]
    },
    {
      "cell_type": "markdown",
      "metadata": {
        "id": "ATxYoIfngmPF"
      },
      "source": [
        "A mayor número de épocas se obtienen mejores resultados, el rendimiento aumenta considerablemente y así mismo los errores y pérdidas disminuyen. Aún así parece que el crecimiento no es ilimitado, parece ser que se alcanza una zona de convergencia en la que el rendimiento no aumenta más allá de las 50 épocas más o menos."
      ]
    },
    {
      "cell_type": "markdown",
      "metadata": {
        "id": "uXhZLMungmPG"
      },
      "source": [
        "### Pruebas con mayor número de capas"
      ]
    },
    {
      "cell_type": "code",
      "execution_count": null,
      "metadata": {
        "id": "LSzNiBbCgmPH",
        "outputId": "c38e1290-8d91-4fdd-f30c-0cb934671503"
      },
      "outputs": [
        {
          "name": "stdout",
          "output_type": "stream",
          "text": [
            "41/41 [==============================] - 0s 3ms/step\n",
            "Validation MSE: 0.54149\n",
            "Validation MAE: 0.57331\n",
            "Test MSE: 0.50935\n",
            "Test MAE: 0.57093\n",
            "R2 score: 0.31894\n"
          ]
        }
      ],
      "source": [
        "# Import `Sequential` from `keras.models`\n",
        "from keras import Sequential\n",
        "\n",
        "# Import `Dense` from `keras.layers`\n",
        "from keras.layers import Dense\n",
        "\n",
        "import numpy as np\n",
        "from sklearn.model_selection import StratifiedKFold\n",
        "\n",
        "seed = 7\n",
        "np.random.seed(seed)\n",
        "\n",
        "test = np.random.choice(X_train.shape[0], size=int(X_train.shape[0]*0.2), replace=False)\n",
        "mse_vals = []\n",
        "mae_vals = []\n",
        "\n",
        "kfold = StratifiedKFold(n_splits=5, shuffle=True, random_state=seed)\n",
        "for train, val in kfold.split(X, Y):\n",
        "    model = Sequential()\n",
        "    model.add(Dense(64, input_dim=12, activation='relu'))\n",
        "    model.add(Dense(64, activation='relu'))\n",
        "    model.add(Dense(1))\n",
        "    model.compile(optimizer='rmsprop', loss='mse', metrics=['mae'])\n",
        "    model.fit(X_train[train], Y[train], epochs=10,verbose=0)\n",
        "    mse_aux_value, mae_aux_value=model.evaluate(X_train[val], Y[val], verbose=0)\n",
        "    mse_vals.append(mse_aux_value)\n",
        "    mae_vals.append(mae_aux_value)\n",
        "\n",
        "mse_val_value = np.mean(mse_vals)\n",
        "mae_val_value = np.mean(mae_vals)\n",
        "\n",
        "#En caso de haber guardado un modelo...\n",
        "y_test_pred = model.predict(X_train[test])\n",
        "mse_test_value, mae_test_value=model.evaluate(X_train[test], Y[test], verbose=0)\n",
        "\n",
        "print(f'Validation MSE: {mse_val_value:.5f}')\n",
        "print(f'Validation MAE: {mae_val_value:.5f}')\n",
        "print(f'Test MSE: {mse_test_value:.5f}')\n",
        "print(f'Test MAE: {mae_test_value:.5f}')\n",
        "\n",
        "from sklearn.metrics import r2_score\n",
        "print(f'R2 score: {r2_score(Y[test],y_test_pred):.5f}')"
      ]
    },
    {
      "cell_type": "code",
      "execution_count": null,
      "metadata": {
        "id": "vz8OlT7jgmPK"
      },
      "outputs": [],
      "source": [
        "datos_2 = {\n",
        "    'Tipo de capas': ['Dense'],\n",
        "    'Tamaño capa de entrada': [64],\n",
        "    'Número de capas ocultas': [1],\n",
        "    'Función de activación': \"ReLU\",\n",
        "    'MSE': mse_test_value,\n",
        "    'MAE': mae_test_value,\n",
        "    'R2': r2_score(Y[test],y_test_pred)\n",
        "}\n",
        "\n",
        "df_2 = pd.DataFrame(datos_2)"
      ]
    },
    {
      "cell_type": "code",
      "execution_count": null,
      "metadata": {
        "id": "pbp0lr7_gmPL",
        "outputId": "6b907163-da73-4129-aead-4a974d5559a7"
      },
      "outputs": [
        {
          "name": "stdout",
          "output_type": "stream",
          "text": [
            "41/41 [==============================] - 0s 3ms/step\n"
          ]
        }
      ],
      "source": [
        "seed = 7\n",
        "np.random.seed(seed)\n",
        "\n",
        "test = np.random.choice(X_train.shape[0], size=int(X_train.shape[0]*0.2), replace=False)\n",
        "mse_vals = []\n",
        "mae_vals = []\n",
        "\n",
        "kfold = StratifiedKFold(n_splits=5, shuffle=True, random_state=seed)\n",
        "for train, val in kfold.split(X, Y):\n",
        "    model = Sequential()\n",
        "    model.add(Dense(64, input_dim=12, activation='relu'))\n",
        "    model.add(Dense(64, activation='relu'))\n",
        "    model.add(Dense(64, activation='relu'))\n",
        "    model.add(Dense(1))\n",
        "    model.compile(optimizer='rmsprop', loss='mse', metrics=['mae'])\n",
        "    model.fit(X_train[train], Y[train], epochs=10,verbose=0)\n",
        "    mse_aux_value, mae_aux_value=model.evaluate(X_train[val], Y[val], verbose=0)\n",
        "    mse_vals.append(mse_aux_value)\n",
        "    mae_vals.append(mae_aux_value)\n",
        "\n",
        "mse_val_value = np.mean(mse_vals)\n",
        "mae_val_value = np.mean(mae_vals)\n",
        "\n",
        "y_test_pred = model.predict(X_train[test])\n",
        "mse_test_value, mae_test_value=model.evaluate(X_train[test], Y[test], verbose=0)"
      ]
    },
    {
      "cell_type": "code",
      "execution_count": null,
      "metadata": {
        "id": "FpLKUJw_gmPM"
      },
      "outputs": [],
      "source": [
        "datos_2 = {\n",
        "    'Tipo de capas': 'Dense',\n",
        "    'Tamaño capa de entrada': 64,\n",
        "    'Número de capas ocultas': 2,\n",
        "    'Función de activación': \"ReLU\",\n",
        "    'MSE': mse_test_value,\n",
        "    'MAE': mae_test_value,\n",
        "    'R2': r2_score(Y[test],y_test_pred)\n",
        "}\n",
        "datos_2 = pd.DataFrame([datos_2])\n",
        "df_2 = pd.concat([df_2, datos_2], ignore_index=True)"
      ]
    },
    {
      "cell_type": "code",
      "execution_count": null,
      "metadata": {
        "id": "Eln8Os_FgmPN",
        "outputId": "fef29318-9b78-4d46-815d-3ea52fb5b17d"
      },
      "outputs": [
        {
          "name": "stdout",
          "output_type": "stream",
          "text": [
            "41/41 [==============================] - 0s 5ms/step\n"
          ]
        }
      ],
      "source": [
        "seed = 7\n",
        "np.random.seed(seed)\n",
        "\n",
        "test = np.random.choice(X_train.shape[0], size=int(X_train.shape[0]*0.2), replace=False)\n",
        "mse_vals = []\n",
        "mae_vals = []\n",
        "\n",
        "kfold = StratifiedKFold(n_splits=5, shuffle=True, random_state=seed)\n",
        "for train, val in kfold.split(X, Y):\n",
        "    model = Sequential()\n",
        "    model.add(Dense(64, input_dim=12, activation='relu'))\n",
        "    model.add(Dense(64, activation='relu'))\n",
        "    model.add(Dense(64, activation='relu'))\n",
        "    model.add(Dense(64, activation='relu'))\n",
        "    model.add(Dense(1))\n",
        "    model.compile(optimizer='rmsprop', loss='mse', metrics=['mae'])\n",
        "    model.fit(X_train[train], Y[train], epochs=10,verbose=0)\n",
        "    mse_aux_value, mae_aux_value=model.evaluate(X_train[val], Y[val], verbose=0)\n",
        "    mse_vals.append(mse_aux_value)\n",
        "    mae_vals.append(mae_aux_value)\n",
        "\n",
        "mse_val_value = np.mean(mse_vals)\n",
        "mae_val_value = np.mean(mae_vals)\n",
        "\n",
        "y_test_pred = model.predict(X_train[test])\n",
        "mse_test_value, mae_test_value=model.evaluate(X_train[test], Y[test], verbose=0)"
      ]
    },
    {
      "cell_type": "code",
      "execution_count": null,
      "metadata": {
        "id": "rLBOJuVngmPO"
      },
      "outputs": [],
      "source": [
        "datos_2 = {\n",
        "    'Tipo de capas': 'Dense',\n",
        "    'Tamaño capa de entrada': 64,\n",
        "    'Número de capas ocultas': 3,\n",
        "    'Función de activación': \"ReLU\",\n",
        "    'MSE': mse_test_value,\n",
        "    'MAE': mae_test_value,\n",
        "    'R2': r2_score(Y[test],y_test_pred)\n",
        "}\n",
        "datos_2 = pd.DataFrame([datos_2])\n",
        "df_2 = pd.concat([df_2, datos_2], ignore_index=True)"
      ]
    },
    {
      "cell_type": "code",
      "execution_count": null,
      "metadata": {
        "id": "VnTtAZ5CgmPP",
        "outputId": "fede5a88-e904-4b9a-b948-4eba5b789534"
      },
      "outputs": [
        {
          "name": "stdout",
          "output_type": "stream",
          "text": [
            "41/41 [==============================] - 0s 4ms/step\n"
          ]
        }
      ],
      "source": [
        "seed = 7\n",
        "np.random.seed(seed)\n",
        "\n",
        "test = np.random.choice(X_train.shape[0], size=int(X_train.shape[0]*0.2), replace=False)\n",
        "mse_vals = []\n",
        "mae_vals = []\n",
        "\n",
        "kfold = StratifiedKFold(n_splits=5, shuffle=True, random_state=seed)\n",
        "for train, val in kfold.split(X, Y):\n",
        "    model = Sequential()\n",
        "    model.add(Dense(64, input_dim=12, activation='relu'))\n",
        "    model.add(Dense(64, activation='relu'))\n",
        "    model.add(Dense(64, activation='relu'))\n",
        "    model.add(Dense(64, activation='relu'))\n",
        "    model.add(Dense(64, activation='relu'))\n",
        "    model.add(Dense(1))\n",
        "    model.compile(optimizer='rmsprop', loss='mse', metrics=['mae'])\n",
        "    model.fit(X_train[train], Y[train], epochs=10,verbose=0)\n",
        "    mse_aux_value, mae_aux_value=model.evaluate(X_train[val], Y[val], verbose=0)\n",
        "    mse_vals.append(mse_aux_value)\n",
        "    mae_vals.append(mae_aux_value)\n",
        "\n",
        "mse_val_value = np.mean(mse_vals)\n",
        "mae_val_value = np.mean(mae_vals)\n",
        "\n",
        "y_test_pred = model.predict(X_train[test])\n",
        "mse_test_value, mae_test_value=model.evaluate(X_train[test], Y[test], verbose=0)"
      ]
    },
    {
      "cell_type": "code",
      "execution_count": null,
      "metadata": {
        "scrolled": true,
        "id": "Oam3VwzKgmPP",
        "outputId": "acdfda62-c580-460b-8317-967739b3765b"
      },
      "outputs": [
        {
          "name": "stdout",
          "output_type": "stream",
          "text": [
            "  Tipo de capas  Tamaño capa de entrada  Número de capas ocultas  \\\n",
            "0         Dense                      64                        1   \n",
            "1         Dense                      64                        2   \n",
            "2         Dense                      64                        3   \n",
            "3         Dense                      64                        4   \n",
            "\n",
            "  Función de activación       MSE       MAE        R2  \n",
            "0                  ReLU  0.509352  0.570927  0.318943  \n",
            "1                  ReLU  0.467152  0.531323  0.375368  \n",
            "2                  ReLU  0.427917  0.508226  0.427830  \n",
            "3                  ReLU  0.431062  0.520329  0.423624  \n"
          ]
        }
      ],
      "source": [
        "datos_2 = {\n",
        "    'Tipo de capas': 'Dense',\n",
        "    'Tamaño capa de entrada': 64,\n",
        "    'Número de capas ocultas': 4,\n",
        "    'Función de activación': \"ReLU\",\n",
        "    'MSE': mse_test_value,\n",
        "    'MAE': mae_test_value,\n",
        "    'R2': r2_score(Y[test],y_test_pred)\n",
        "}\n",
        "datos_2 = pd.DataFrame([datos_2])\n",
        "df_2 = pd.concat([df_2, datos_2], ignore_index=True)\n",
        "print(df_2)"
      ]
    },
    {
      "cell_type": "markdown",
      "metadata": {
        "id": "mFsuYXzDgmPQ"
      },
      "source": [
        "De igual manera que en el caso de las épocas, a mayor número de capas ocultas el rendimiento mejora considerablemente, la métrica R2 aumenta, mientras que la función de pérdidas y el error absoluto medio disminuyen."
      ]
    },
    {
      "cell_type": "markdown",
      "metadata": {
        "id": "Bp08NpLJgmPR"
      },
      "source": [
        "### Pruebas con distinto número de neuronas"
      ]
    },
    {
      "cell_type": "code",
      "execution_count": null,
      "metadata": {
        "scrolled": true,
        "id": "EmeUfpgYgmPS",
        "outputId": "2806e4c0-0d51-4776-c585-81501a2a955c"
      },
      "outputs": [
        {
          "name": "stdout",
          "output_type": "stream",
          "text": [
            "41/41 [==============================] - 0s 3ms/step\n",
            "41/41 [==============================] - 0s 3ms/step\n",
            "41/41 [==============================] - 0s 3ms/step\n",
            "41/41 [==============================] - 0s 3ms/step\n",
            "41/41 [==============================] - 0s 3ms/step\n",
            "  Tipo de capas  Tamaño capa de entrada  Número de neuronas  \\\n",
            "0         Dense                      64                  64   \n",
            "1         Dense                      64                  76   \n",
            "2         Dense                      64                  88   \n",
            "3         Dense                      64                 100   \n",
            "4         Dense                      64                 128   \n",
            "\n",
            "  Función de activación       MSE       MAE        R2  \n",
            "0                  ReLU  0.473111  0.532757  0.367401  \n",
            "1                  ReLU  0.469998  0.528612  0.371563  \n",
            "2                  ReLU  0.469766  0.526443  0.371872  \n",
            "3                  ReLU  0.476765  0.526775  0.362515  \n",
            "4                  ReLU  0.460104  0.524475  0.384793  \n"
          ]
        }
      ],
      "source": [
        "seed = 7\n",
        "np.random.seed(seed)\n",
        "kfold = StratifiedKFold(n_splits=5, shuffle=True, random_state=seed)\n",
        "\n",
        "neuronas = [64, 76, 88, 100, 128]\n",
        "df_3 = pd.DataFrame(columns=[])\n",
        "\n",
        "for i in range(len(neuronas)):\n",
        "    for train, val in kfold.split(X, Y):\n",
        "        model = Sequential()\n",
        "        model.add(Dense(neuronas[i], input_dim=12, activation='relu'))\n",
        "        model.add(Dense(1))\n",
        "        model.compile(optimizer='rmsprop', loss='mse', metrics=['mae'])\n",
        "        model.fit(X_train[train], Y[train], epochs=10, verbose=0)\n",
        "        mse_aux_value, mae_aux_value=model.evaluate(X_train[val], Y[val], verbose=0)\n",
        "        mse_vals.append(mse_aux_value)\n",
        "        mae_vals.append(mae_aux_value)\n",
        "\n",
        "    mse_val_value = np.mean(mse_vals)\n",
        "    mae_val_value = np.mean(mae_vals)\n",
        "\n",
        "    y_test_pred = model.predict(X_train[test])\n",
        "    mse_test_value, mae_test_value=model.evaluate(X_train[test], Y[test], verbose=0)\n",
        "\n",
        "    datos_3 = {\n",
        "    'Tipo de capas': 'Dense',\n",
        "    'Tamaño capa de entrada': 64,\n",
        "    'Número de neuronas': neuronas[i],\n",
        "    'Función de activación': \"ReLU\",\n",
        "    'MSE': mse_test_value,\n",
        "    'MAE': mae_test_value,\n",
        "    'R2': r2_score(Y[test],y_test_pred)\n",
        "    }\n",
        "\n",
        "    datos_3 = pd.DataFrame([datos_3])\n",
        "    df_3 = pd.concat([df_3, datos_3], ignore_index=True)\n",
        "\n",
        "print(df_3)"
      ]
    },
    {
      "cell_type": "markdown",
      "metadata": {
        "id": "n-r3rfNmgmPT"
      },
      "source": [
        "Conforme se aumenta el número de neuronas el rendimiento aumenta igual que en las pruebas anteriores."
      ]
    },
    {
      "cell_type": "markdown",
      "metadata": {
        "id": "8jM8zfoCgmPU"
      },
      "source": [
        "##### Recordad que hay que tener en cuenta que las redes tengan el menor número de neuronas, por varios motivos, ¿Cuáles son estos motivos?, ¿Cuándo se considera que una red sobrepasa el tamaño adecuado y deja de ser conveniente?"
      ]
    },
    {
      "cell_type": "markdown",
      "metadata": {
        "id": "P5UtGNmLgmPV"
      },
      "source": [
        "Reducir el número de neuronas en una red neuronal es fundamental por varios motivos. El primero de ellos es mejorar la eficiencia computacional, luego también sirve para prevenir el sobreajuste y facilitar la interpretabilidad del modelo. Esto requiere un equilibrio entre la complejidad del problema y los recursos disponibles para así obtener un buen rendimiento y aprovechar los beneficios de los motivos mencionados anteriormente.\n",
        "\n",
        "En mi opinión, se considera que una red neuronal ha sobrepasado el tamaño adecuado y deja de ser conveniente cuando comienza a mostrar signos de sobreajuste o cuando su rendimiento no mejora significativamente con un aumento en el número de neuronas o capas."
      ]
    },
    {
      "cell_type": "markdown",
      "metadata": {
        "id": "0JbmNqlmgmPW"
      },
      "source": [
        "### Pruebas con diferentes parámetros de optimización"
      ]
    },
    {
      "cell_type": "code",
      "execution_count": null,
      "metadata": {
        "scrolled": true,
        "id": "hSdwCMX6gmPW",
        "outputId": "1c564ae4-12b5-4e5d-e7bf-5ec0b34febcf"
      },
      "outputs": [
        {
          "name": "stdout",
          "output_type": "stream",
          "text": [
            "41/41 [==============================] - 0s 4ms/step\n",
            "41/41 [==============================] - 0s 3ms/step\n",
            "41/41 [==============================] - 0s 3ms/step\n",
            "41/41 [==============================] - 0s 3ms/step\n",
            "41/41 [==============================] - 0s 3ms/step\n",
            "41/41 [==============================] - 0s 3ms/step\n",
            "  Tipo de capas  Tamaño capa de entrada Optimizador  Learning rate  \\\n",
            "0         Dense                     128     RMSprop        0.00001   \n",
            "1         Dense                     128     RMSprop        0.00010   \n",
            "2         Dense                     128     RMSprop        0.00100   \n",
            "3         Dense                     128     RMSprop        0.01000   \n",
            "4         Dense                     128     RMSprop        0.10000   \n",
            "5         Dense                     128     RMSprop        1.00000   \n",
            "\n",
            "  Función de activación        MSE       MAE         R2  \n",
            "0                  ReLU  27.736919  5.171472 -36.087203  \n",
            "1                  ReLU   1.336101  0.911541  -0.786508  \n",
            "2                  ReLU   0.456515  0.526572   0.389591  \n",
            "3                  ReLU   0.632622  0.618646   0.154117  \n",
            "4                  ReLU   0.562461  0.594587   0.247930  \n",
            "5                  ReLU   1.727011  1.123256  -1.309197  \n"
          ]
        }
      ],
      "source": [
        "from keras.optimizers import SGD, RMSprop\n",
        "\n",
        "seed = 7\n",
        "np.random.seed(seed)\n",
        "\n",
        "test = np.random.choice(X_train.shape[0], size=int(X_train.shape[0]*0.2), replace=False)\n",
        "mse_vals = []\n",
        "mae_vals = []\n",
        "kfold = StratifiedKFold(n_splits=5, shuffle=True, random_state=seed)\n",
        "df_4 = pd.DataFrame(columns=[])\n",
        "\n",
        "rms_values = [0.00001, 0.0001, 0.001, 0.01, 0.1, 1]\n",
        "\n",
        "for i in range(len(rms_values)):\n",
        "    rmsprop=RMSprop(learning_rate=rms_values[i])\n",
        "    for train, val in kfold.split(X, Y):\n",
        "        model = Sequential()\n",
        "        model.add(Dense(128, input_dim=12, activation='relu'))\n",
        "        model.add(Dense(1))\n",
        "        model.compile(optimizer = rmsprop, loss='mse', metrics=['mae'])\n",
        "        model.fit(X_train[train], Y[train], epochs=10,verbose=0)\n",
        "        mse_aux_value, mae_aux_value=model.evaluate(X_train[val], Y[val], verbose=0)\n",
        "        mse_vals.append(mse_aux_value)\n",
        "        mae_vals.append(mae_aux_value)\n",
        "\n",
        "    mse_val_value = np.mean(mse_vals)\n",
        "    mae_val_value = np.mean(mae_vals)\n",
        "\n",
        "    y_test_pred = model.predict(X_train[test])\n",
        "    mse_test_value, mae_test_value=model.evaluate(X_train[test], Y[test], verbose=0)\n",
        "\n",
        "    datos_4 = {\n",
        "    'Tipo de capas': 'Dense',\n",
        "    'Tamaño capa de entrada': 128,\n",
        "    'Optimizador': 'RMSprop',\n",
        "    'Learning rate': rms_values[i],\n",
        "    'Función de activación': \"ReLU\",\n",
        "    'MSE': mse_test_value,\n",
        "    'MAE': mae_test_value,\n",
        "    'R2': r2_score(Y[test],y_test_pred)\n",
        "    }\n",
        "\n",
        "    datos_4 = pd.DataFrame([datos_4])\n",
        "    df_4 = pd.concat([df_4, datos_4], ignore_index=True)\n",
        "\n",
        "print(df_4)"
      ]
    },
    {
      "cell_type": "markdown",
      "metadata": {
        "id": "jnSWwuU2gmPW"
      },
      "source": [
        "Vemos que por debajo de un learning rate de 0.001 la medida de rendimiento R2 sale negativa, lo mismo ocurre con learning rates mayores de 0.1. Lo óptimo sería usar valores por el rango de 0.001 a 0.1."
      ]
    },
    {
      "cell_type": "code",
      "execution_count": null,
      "metadata": {
        "id": "WRUqXUTtgmPX",
        "outputId": "c45bd848-7a2f-4a43-dfbc-f5598c490e9d"
      },
      "outputs": [
        {
          "name": "stdout",
          "output_type": "stream",
          "text": [
            "41/41 [==============================] - 0s 4ms/step\n",
            "41/41 [==============================] - 0s 3ms/step\n",
            "41/41 [==============================] - 0s 3ms/step\n",
            "41/41 [==============================] - 0s 4ms/step\n",
            "  Tipo de capas  Tamaño capa de entrada Optimizador  Learning rate  \\\n",
            "0         Dense                     128     RMSprop        0.00001   \n",
            "1         Dense                     128     RMSprop        0.00010   \n",
            "2         Dense                     128     RMSprop        0.00100   \n",
            "3         Dense                     128     RMSprop        0.01000   \n",
            "4         Dense                     128     RMSprop        0.10000   \n",
            "5         Dense                     128     RMSprop        1.00000   \n",
            "6         Dense                     128         SGD        0.00010   \n",
            "7         Dense                     128         SGD        0.00100   \n",
            "8         Dense                     128         SGD        0.01000   \n",
            "9         Dense                     128         SGD        0.10000   \n",
            "\n",
            "  Función de activación        MSE       MAE         R2  \n",
            "0                  ReLU  27.736919  5.171472 -36.087203  \n",
            "1                  ReLU   1.336101  0.911541  -0.786508  \n",
            "2                  ReLU   0.456515  0.526572   0.389591  \n",
            "3                  ReLU   0.632622  0.618646   0.154117  \n",
            "4                  ReLU   0.562461  0.594587   0.247930  \n",
            "5                  ReLU   1.727011  1.123256  -1.309197  \n",
            "6                  ReLU   1.878721  1.103449  -1.512049  \n",
            "7                  ReLU   0.761028  0.672461  -0.017576  \n",
            "8                  ReLU   0.460922  0.520999   0.383698  \n",
            "9                  ReLU   0.565862  0.571959   0.243382  \n"
          ]
        }
      ],
      "source": [
        "seed = 7\n",
        "np.random.seed(seed)\n",
        "\n",
        "test = np.random.choice(X_train.shape[0], size=int(X_train.shape[0]*0.2), replace=False)\n",
        "mse_vals = []\n",
        "mae_vals = []\n",
        "kfold = StratifiedKFold(n_splits=5, shuffle=True, random_state=seed)\n",
        "\n",
        "sgd_values = [0.0001, 0.001, 0.01, 0.1]\n",
        "\n",
        "for i in range(len(sgd_values)):\n",
        "    sgd=SGD(learning_rate=sgd_values[i])\n",
        "    for train, val in kfold.split(X, Y):\n",
        "        model = Sequential()\n",
        "        model.add(Dense(128, input_dim=12, activation='relu'))\n",
        "        model.add(Dense(1))\n",
        "        model.compile(optimizer= sgd, loss='mse', metrics=['mae'])\n",
        "        model.fit(X_train[train], Y[train], epochs=10,verbose=0)\n",
        "        mse_aux_value, mae_aux_value=model.evaluate(X_train[val], Y[val], verbose=0)\n",
        "        mse_vals.append(mse_aux_value)\n",
        "        mae_vals.append(mae_aux_value)\n",
        "\n",
        "    mse_val_value = np.mean(mse_vals)\n",
        "    mae_val_value = np.mean(mae_vals)\n",
        "\n",
        "    y_test_pred = model.predict(X_train[test])\n",
        "    mse_test_value, mae_test_value=model.evaluate(X_train[test], Y[test], verbose=0)\n",
        "\n",
        "    datos_4 = {\n",
        "    'Tipo de capas': 'Dense',\n",
        "    'Tamaño capa de entrada': 128,\n",
        "    'Optimizador': 'SGD',\n",
        "    'Learning rate': sgd_values[i],\n",
        "    'Función de activación': \"ReLU\",\n",
        "    'MSE': mse_test_value,\n",
        "    'MAE': mae_test_value,\n",
        "    'R2': r2_score(Y[test],y_test_pred)\n",
        "    }\n",
        "\n",
        "    datos_4 = pd.DataFrame([datos_4])\n",
        "    df_4 = pd.concat([df_4, datos_4], ignore_index=True)\n",
        "\n",
        "print(df_4)"
      ]
    },
    {
      "cell_type": "markdown",
      "metadata": {
        "id": "INtdqhE3gmPY"
      },
      "source": [
        "Similar al caso anterior, para este tipo de optimizador por debajo de learning rates de 0.01 la medida de rendimiento  R2 es negativa. La diferencia está en que este optimizador trabaja en learning rates hasta 10 veces mayores que el rmsprop."
      ]
    },
    {
      "cell_type": "markdown",
      "metadata": {
        "id": "5FFI4OgogmPZ"
      },
      "source": [
        "##### ¿Cuál sería para ti la mejor configuración del modelo que se adapta al problema? ¿Por qué?"
      ]
    },
    {
      "cell_type": "markdown",
      "metadata": {
        "id": "_olpLCyTgmPa"
      },
      "source": [
        "De todas las configuraciones que se han probado en este guión, la que mejor se adapta al problema es aquella que no tiene capas ocultas y cuya capa de entrada tiene 64 neuronas. Esta configuración usa el optimizador rmsprop con parámetros por defecto entranada durante 40 épocas."
      ]
    }
  ],
  "metadata": {
    "kernelspec": {
      "display_name": "Python 3 (ipykernel)",
      "language": "python",
      "name": "python3"
    },
    "language_info": {
      "codemirror_mode": {
        "name": "ipython",
        "version": 3
      },
      "file_extension": ".py",
      "mimetype": "text/x-python",
      "name": "python",
      "nbconvert_exporter": "python",
      "pygments_lexer": "ipython3",
      "version": "3.9.12"
    },
    "colab": {
      "provenance": []
    }
  },
  "nbformat": 4,
  "nbformat_minor": 0
}