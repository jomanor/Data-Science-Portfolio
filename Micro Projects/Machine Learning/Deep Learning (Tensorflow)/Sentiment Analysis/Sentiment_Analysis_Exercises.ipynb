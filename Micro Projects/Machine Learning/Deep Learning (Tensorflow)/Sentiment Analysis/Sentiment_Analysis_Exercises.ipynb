{
  "cells": [
    {
      "cell_type": "code",
      "execution_count": null,
      "metadata": {
        "id": "Tw6XBsjYiysw"
      },
      "outputs": [],
      "source": [
        "# Importando las librerias\n",
        "import numpy as np\n",
        "from keras.datasets import imdb\n",
        "import matplotlib.pyplot as plt"
      ]
    },
    {
      "cell_type": "code",
      "execution_count": null,
      "metadata": {
        "id": "STX3SD90iys4"
      },
      "outputs": [],
      "source": [
        "# Load the dataset\n",
        "(X_train, y_train), (X_test, y_test) = imdb.load_data()\n",
        "X = np.concatenate((X_train, X_test), axis=0)\n",
        "y = np.concatenate((y_train, y_test), axis=0)"
      ]
    },
    {
      "cell_type": "markdown",
      "metadata": {
        "id": "eK_TGA5piys6"
      },
      "source": [
        "Ahora podemos comenzar a explorar el conjunto de datos. Veamos de cuantos datos disponemos:"
      ]
    },
    {
      "cell_type": "code",
      "execution_count": null,
      "metadata": {
        "id": "qzLAJL65iys7",
        "outputId": "74df9265-387a-43b1-de48-37ffa227d1ce"
      },
      "outputs": [
        {
          "name": "stdout",
          "output_type": "stream",
          "text": [
            "dataset a entrenar: \n",
            "(50000,)\n",
            "(50000,)\n"
          ]
        }
      ],
      "source": [
        "# summarize size\n",
        "print(\"dataset a entrenar: \")\n",
        "print(X.shape)\n",
        "print(y.shape)"
      ]
    },
    {
      "cell_type": "markdown",
      "metadata": {
        "id": "hwJazODCiys_"
      },
      "source": [
        "Podemos observar que tenemos en total unos 50000 ejemplos.\n",
        "Podemos ver las clases que tenemos:"
      ]
    },
    {
      "cell_type": "code",
      "execution_count": null,
      "metadata": {
        "id": "tP32AnpsiytC",
        "outputId": "5c0674da-34dc-45e7-9528-b935ed6c1b81"
      },
      "outputs": [
        {
          "name": "stdout",
          "output_type": "stream",
          "text": [
            "Clases: \n",
            "[0 1]\n"
          ]
        }
      ],
      "source": [
        "# numero de clases\n",
        "print(\"Clases: \")\n",
        "print(np.unique(y))"
      ]
    },
    {
      "cell_type": "markdown",
      "metadata": {
        "id": "3wxecBZGiytD"
      },
      "source": [
        "Podemos ver en el resultado anterior que el conjunto de datos está etiquetado en dos categorías, 0 o 1, que representa el sentimiento de la revisión, bueno=1 y malo=0.\n",
        "\n",
        "El conjunto de datos completo contiene 88585 palabras y la extensión promedio de la revisión es de 234 palabras, con una desviación estándar de 173 palabras. Esto podemos verlo con el código siguiente:"
      ]
    },
    {
      "cell_type": "code",
      "execution_count": null,
      "metadata": {
        "id": "0Eq-sV-wiytF",
        "outputId": "e2d74609-5b5f-40be-c272-5044837e6832"
      },
      "outputs": [
        {
          "name": "stdout",
          "output_type": "stream",
          "text": [
            "número de palabras: \n",
            "88585\n"
          ]
        }
      ],
      "source": [
        "# palabras únicas del conjunto de datos\n",
        "print(\"número de palabras: \")\n",
        "print(len(np.unique(np.hstack(X))))"
      ]
    },
    {
      "cell_type": "markdown",
      "metadata": {
        "id": "nZPeYra4iytH"
      },
      "source": [
        "Con este código podemos ver la longitud media de las palabras:"
      ]
    },
    {
      "cell_type": "code",
      "execution_count": null,
      "metadata": {
        "id": "G0li6f_siytI",
        "outputId": "5a36400d-47a4-46f8-816d-42e55575d50c"
      },
      "outputs": [
        {
          "name": "stdout",
          "output_type": "stream",
          "text": [
            "Longitud: \n",
            "Media 234.76 palabras (172.911495)\n"
          ]
        }
      ],
      "source": [
        "# Longitud\n",
        "print(\"Longitud: \")\n",
        "result = [len(x) for x in X]\n",
        "print(\"Media %.2f palabras (%f)\" % (np.mean(result), np.std(result)))"
      ]
    },
    {
      "cell_type": "markdown",
      "metadata": {
        "id": "2f5oJv7AiytJ"
      },
      "source": [
        "Ahora pintaremos un grafico de cajas y bigotes y el histograma de longitudes de palabras. Si observamos el gráfico de cajas y bigotes y el histograma de las longitudes, podemos ver una distribución exponencial que puede cubrir la masa de la distribución con una longitud recortada de 400 a 500 palabras."
      ]
    },
    {
      "cell_type": "code",
      "execution_count": null,
      "metadata": {
        "id": "JXalc25BiytK",
        "outputId": "b0ad3d7e-0a33-48a7-c0a3-d57f4bd01ee9"
      },
      "outputs": [
        {
          "data": {
            "image/png": "[encoded data removed]",
            "text/plain": [
              "<Figure size 432x288 with 2 Axes>"
            ]
          },
          "metadata": {
            "needs_background": "light"
          },
          "output_type": "display_data"
        }
      ],
      "source": [
        "# ploteamos la Longitud un boxplot y el histograma\n",
        "plt.subplot(121)\n",
        "plt.boxplot(result)\n",
        "plt.subplot(122)\n",
        "plt.hist(result)\n",
        "plt.show()"
      ]
    },
    {
      "cell_type": "markdown",
      "metadata": {
        "id": "-L1cTbfEiytM"
      },
      "source": [
        "A continuación, vamos a ver qué aspecto tienen los ejemplos:"
      ]
    },
    {
      "cell_type": "code",
      "execution_count": null,
      "metadata": {
        "id": "XajKFXCYiytN",
        "outputId": "279ecaeb-8118-4c9e-a118-f1617ed70d06"
      },
      "outputs": [
        {
          "name": "stdout",
          "output_type": "stream",
          "text": [
            "Label: 1\n",
            "[1, 14, 22, 16, 43, 530, 973, 1622, 1385, 65, 458, 4468, 66, 3941, 4, 173, 36, 256, 5, 25, 100, 43, 838, 112, 50, 670, 22665, 9, 35, 480, 284, 5, 150, 4, 172, 112, 167, 21631, 336, 385, 39, 4, 172, 4536, 1111, 17, 546, 38, 13, 447, 4, 192, 50, 16, 6, 147, 2025, 19, 14, 22, 4, 1920, 4613, 469, 4, 22, 71, 87, 12, 16, 43, 530, 38, 76, 15, 13, 1247, 4, 22, 17, 515, 17, 12, 16, 626, 18, 19193, 5, 62, 386, 12, 8, 316, 8, 106, 5, 4, 2223, 5244, 16, 480, 66, 3785, 33, 4, 130, 12, 16, 38, 619, 5, 25, 124, 51, 36, 135, 48, 25, 1415, 33, 6, 22, 12, 215, 28, 77, 52, 5, 14, 407, 16, 82, 10311, 8, 4, 107, 117, 5952, 15, 256, 4, 31050, 7, 3766, 5, 723, 36, 71, 43, 530, 476, 26, 400, 317, 46, 7, 4, 12118, 1029, 13, 104, 88, 4, 381, 15, 297, 98, 32, 2071, 56, 26, 141, 6, 194, 7486, 18, 4, 226, 22, 21, 134, 476, 26, 480, 5, 144, 30, 5535, 18, 51, 36, 28, 224, 92, 25, 104, 4, 226, 65, 16, 38, 1334, 88, 12, 16, 283, 5, 16, 4472, 113, 103, 32, 15, 16, 5345, 19, 178, 32]\n"
          ]
        }
      ],
      "source": [
        "print(\"Label:\", y[0])\n",
        "\n",
        "print(X[0])"
      ]
    },
    {
      "cell_type": "markdown",
      "metadata": {
        "id": "zJZ89zDaiytO"
      },
      "source": [
        "Como podemos observar en la imagen, el primer ejemplo está etiquetado como positivo (1). El\n",
        "siguiente código recupera los índices de palabras de mapeo del diccionario en las palabras\n",
        "originales para que podamos leerlas. Reemplaza cada palabra desconocida con un \"#\". Hace esto usando la función _get_word_index()_."
      ]
    },
    {
      "cell_type": "code",
      "execution_count": null,
      "metadata": {
        "id": "neZZ_REPiytP",
        "outputId": "1c3a049f-9655-4a2f-ba61-5076ef883df5"
      },
      "outputs": [
        {
          "name": "stdout",
          "output_type": "stream",
          "text": [
            "# this film was just brilliant casting location scenery story direction everyone's really suited the part they played and you could just imagine being there robert redford's is an amazing actor and now the same being director norman's father came from the same scottish island as myself so i loved the fact there was a real connection with this film the witty remarks throughout the film were great it was just brilliant so much that i bought the film as soon as it was released for retail and would recommend it to everyone to watch and the fly fishing was amazing really cried at the end it was so sad and you know what they say if you cry at a film it must have been good and this definitely was also congratulations to the two little boy's that played the part's of norman and paul they were just brilliant children are often left out of the praising list i think because the stars that play them all grown up are such a big profile for the whole film but these children are amazing and should be praised for what they have done don't you think the whole story was so lovely because it was true and was someone's life after all that was shared with us all\n"
          ]
        }
      ],
      "source": [
        "index = imdb.get_word_index()\n",
        "reverse_index = dict([(value, key) for (key, value) in index.items()])\n",
        "decoded = \" \".join( [reverse_index.get(i - 3, \"#\") for i in X[0]])\n",
        "print(decoded)"
      ]
    },
    {
      "cell_type": "markdown",
      "metadata": {
        "id": "BoaRjPioiytQ"
      },
      "source": [
        "**¿COMO TRATARIAMOS ESTE PROBLEMA CON UNA RED FEEDFORWARD?**\n",
        "\n",
        "Comenzaremos por importar las clases y funciones necesarias para este modelo e inicializar el generador de números aleatorios a un valor constante para asegurarnos de que podemos reproducir fácilmente los resultados."
      ]
    },
    {
      "cell_type": "code",
      "execution_count": null,
      "metadata": {
        "id": "HLQz9uBviytR"
      },
      "outputs": [],
      "source": [
        "import numpy as np\n",
        "from keras.datasets import imdb\n",
        "from keras.models import Sequential\n",
        "from keras.layers import Dense, Flatten\n",
        "from keras.layers import Embedding\n",
        "from keras.preprocessing import sequence\n",
        "\n",
        "# semilla aleatoria de reproducibilidad\n",
        "seed = 7\n",
        "\n",
        "np.random.seed(seed)"
      ]
    },
    {
      "cell_type": "markdown",
      "metadata": {
        "id": "cKp2h5r9iytS"
      },
      "source": [
        "A continuación, cargaremos el conjunto de datos IMDB. Simplificaremos el conjunto de datos\n",
        "usando “incrustraciones” de palabras. Sólo cargaremos las 5.000 primeras palabras de cada reseña.\n",
        "\n",
        "Utilizaremos una división del 50%/50% del conjunto de datos para entrenamiento y test si utilizamos el código que a continuación se expone Si se desea utilizar otra distribución utilizar el código que se plantea en el apartado anterior para una distribución del 80/20.\n",
        "Limitaremos las reseñas a 500 palabras, truncando las revisiones más largas y completando con 0 las revisiones más cortas."
      ]
    },
    {
      "cell_type": "code",
      "execution_count": null,
      "metadata": {
        "id": "aiUyzVqViytT"
      },
      "outputs": [],
      "source": [
        "# carga del conjunto de datos pero sólo mantenemos las n palabras\n",
        "# principales, cero el resto\n",
        "top_words = 5000\n",
        "(X_train, y_train), (X_test, y_test) = imdb.load_data(num_words=top_words)"
      ]
    },
    {
      "cell_type": "code",
      "execution_count": null,
      "metadata": {
        "id": "PrZQg4uQiytV"
      },
      "outputs": [],
      "source": [
        "from keras.utils import pad_sequences\n",
        "max_words = 500\n",
        "X_train = pad_sequences(X_train, maxlen=max_words)\n",
        "X_test = pad_sequences(X_test, maxlen=max_words)"
      ]
    },
    {
      "cell_type": "markdown",
      "metadata": {
        "id": "tDxDTIQdiytW"
      },
      "source": [
        "Ahora podemos crear nuestro modelo. Usaremos una capa de embedding como capa de entrada,\n",
        "estableciendo el vocabulario en 5.000, el tamaño del vector de palabra con 32 dimensiones y la longitud de entrada (input_legth) de 500.\n",
        "\n",
        "\n",
        "Aplanaremos la salida de las capas de embedding a una dimensión, luego usaremos una capa oculta densa de 250 unidades con función de activación de relu. La capa de salida tiene una neurona y usará una activación sigmoide con valores de salida de 0 y 1 como predicciones. El modelo utiliza el error logarítmico y se optimiza mediante el procedimiento de optimización de ADAM."
      ]
    },
    {
      "cell_type": "code",
      "execution_count": null,
      "metadata": {
        "id": "riX83jrIiytW",
        "outputId": "60b87e8e-6eee-475d-ebf9-0eca815ea46b"
      },
      "outputs": [
        {
          "name": "stdout",
          "output_type": "stream",
          "text": [
            "Model: \"sequential\"\n",
            "_________________________________________________________________\n",
            " Layer (type)                Output Shape              Param #   \n",
            "=================================================================\n",
            " embedding (Embedding)       (None, 500, 32)           160000    \n",
            "                                                                 \n",
            " flatten (Flatten)           (None, 16000)             0         \n",
            "                                                                 \n",
            " dense (Dense)               (None, 250)               4000250   \n",
            "                                                                 \n",
            " dense_1 (Dense)             (None, 1)                 251       \n",
            "                                                                 \n",
            "=================================================================\n",
            "Total params: 4,160,501\n",
            "Trainable params: 4,160,501\n",
            "Non-trainable params: 0\n",
            "_________________________________________________________________\n",
            "None\n",
            "Epoch 1/10\n",
            "157/157 [==============================] - 22s 124ms/step - loss: 0.4902 - accuracy: 0.7354 - val_loss: 0.2996 - val_accuracy: 0.8784\n",
            "Epoch 2/10\n",
            "157/157 [==============================] - 18s 116ms/step - loss: 0.1670 - accuracy: 0.9373 - val_loss: 0.3230 - val_accuracy: 0.8692\n",
            "Epoch 3/10\n",
            "157/157 [==============================] - 19s 120ms/step - loss: 0.0469 - accuracy: 0.9893 - val_loss: 0.4180 - val_accuracy: 0.8610\n",
            "Epoch 4/10\n",
            "157/157 [==============================] - 19s 123ms/step - loss: 0.0082 - accuracy: 0.9991 - val_loss: 0.5105 - val_accuracy: 0.8582\n",
            "Epoch 5/10\n",
            "157/157 [==============================] - 22s 138ms/step - loss: 0.0019 - accuracy: 0.9999 - val_loss: 0.5454 - val_accuracy: 0.8622\n",
            "Epoch 6/10\n",
            "157/157 [==============================] - 19s 120ms/step - loss: 7.4150e-04 - accuracy: 1.0000 - val_loss: 0.5789 - val_accuracy: 0.8628\n",
            "Epoch 7/10\n",
            "157/157 [==============================] - 19s 120ms/step - loss: 4.3163e-04 - accuracy: 1.0000 - val_loss: 0.6029 - val_accuracy: 0.8626\n",
            "Epoch 8/10\n",
            "157/157 [==============================] - 19s 118ms/step - loss: 2.9164e-04 - accuracy: 1.0000 - val_loss: 0.6230 - val_accuracy: 0.8628\n",
            "Epoch 9/10\n",
            "157/157 [==============================] - 18s 116ms/step - loss: 2.0862e-04 - accuracy: 1.0000 - val_loss: 0.6422 - val_accuracy: 0.8634\n",
            "Epoch 10/10\n",
            "157/157 [==============================] - 16s 104ms/step - loss: 1.5572e-04 - accuracy: 1.0000 - val_loss: 0.6590 - val_accuracy: 0.8640\n"
          ]
        }
      ],
      "source": [
        "# creamos el modelo, recordad que:\n",
        "# el número máximo de palabras del lexicón que usaremos seran 5000\n",
        "# que la longitud máxima del parrafo es 500 y\n",
        "# la dimension del espacio  que se transforma cada palabra es 32\n",
        "# Estos son los parametros del Embedding y por tanto la entrada a la\n",
        "# red estará formada por 500*32\n",
        "\n",
        "\n",
        "model = Sequential()\n",
        "model.add(Embedding(top_words, 32, input_length=max_words))\n",
        "model.add(Flatten())\n",
        "model.add(Dense(250, activation='relu'))\n",
        "model.add(Dense(1, activation='sigmoid'))\n",
        "\n",
        "model.compile(loss='binary_crossentropy', optimizer='adam', metrics=['accuracy'])\n",
        "\n",
        "print(model.summary())\n",
        "\n",
        "history = model.fit(X_train, y_train, epochs=10, batch_size=128, validation_split=0.2)"
      ]
    },
    {
      "cell_type": "markdown",
      "metadata": {
        "id": "ushZDnyIiytY"
      },
      "source": [
        "Utilizaremos el conjunto test como validación durante el entrenamiento. Este modelo se\n",
        "sobreajusta muy rápidamente por lo que utilizaremos muy pocas épocas de entrenamiento, en este caso sólo 2. Hay muchos datos por lo que utilizaremos un tamaño de lote de 128. Después de que el modelo se ha entrenado, evaluaremos su precisión sobre el conjunto de test."
      ]
    },
    {
      "cell_type": "code",
      "execution_count": null,
      "metadata": {
        "id": "XQ1fSMT2iytZ",
        "outputId": "c89967c2-f50b-4cca-b21e-ed61b7d0f955"
      },
      "outputs": [
        {
          "name": "stdout",
          "output_type": "stream",
          "text": [
            "Epoch 1/2\n",
            "196/196 [==============================] - 27s 136ms/step - loss: 0.1336 - accuracy: 0.9574 - val_loss: 0.4189 - val_accuracy: 0.8607\n",
            "Epoch 2/2\n",
            "196/196 [==============================] - 27s 137ms/step - loss: 0.0136 - accuracy: 0.9961 - val_loss: 0.6019 - val_accuracy: 0.8558\n",
            "Precisión: 85.58%\n"
          ]
        }
      ],
      "source": [
        "# ajustamos el modelo\n",
        "model.fit(X_train, y_train, validation_data=(X_test, y_test), epochs=2, batch_size=128, verbose=1)\n",
        "\n",
        "# Evaluación final del modelo\n",
        "scores = model.evaluate(X_test, y_test, verbose=0)\n",
        "print(\"Precisión: %.2f%%\" % (scores[1]*100))"
      ]
    },
    {
      "cell_type": "markdown",
      "metadata": {
        "id": "CIAAYNQKiytb"
      },
      "source": [
        "A continuación, se presenta un código para poder representar gráficamente la evolución tanto del\n",
        "error y el tanto por ciento de aciertos del conjunto de entrenamiento y validación:"
      ]
    },
    {
      "cell_type": "code",
      "execution_count": null,
      "metadata": {
        "id": "3-V5BjLoiytc",
        "outputId": "bfc7be30-db99-4ae9-916c-10d9ac57b98e"
      },
      "outputs": [
        {
          "data": {
            "image/png": "[encoded data removed]",
            "text/plain": [
              "<Figure size 432x288 with 1 Axes>"
            ]
          },
          "metadata": {
            "needs_background": "light"
          },
          "output_type": "display_data"
        },
        {
          "data": {
            "image/png": "[encoded data removed]",
            "text/plain": [
              "<Figure size 432x288 with 1 Axes>"
            ]
          },
          "metadata": {
            "needs_background": "light"
          },
          "output_type": "display_data"
        }
      ],
      "source": [
        "import matplotlib.pyplot as plt\n",
        "acc = history.history['accuracy']\n",
        "val_acc = history.history['val_accuracy']\n",
        "loss = history.history['loss']\n",
        "val_loss = history.history['val_loss']\n",
        "epochs = range(1, len(acc) + 1)\n",
        "plt.plot(epochs, acc, 'bo', label='Training acc')\n",
        "plt.plot(epochs, val_acc, 'b', label='Validation acc')\n",
        "plt.title('Training and validation accuracy')\n",
        "plt.legend()\n",
        "plt.figure()\n",
        "plt.plot(epochs, loss, 'bo', label='Training loss')\n",
        "plt.plot(epochs, val_loss, 'b', label='Validation loss')\n",
        "plt.title('Training and validation loss')\n",
        "plt.legend()\n",
        "plt.show()"
      ]
    },
    {
      "cell_type": "markdown",
      "metadata": {
        "id": "pLW8phKsiytd"
      },
      "source": [
        "**¿COMO TRATARIAMOS ESTE PROBLEMA CON UNA RED RECURRENTE?**\n",
        "\n",
        "Únicamente habrá que sustituir la parte del código asociado a la red, el resto del código será el mismo.\n",
        "\n",
        "En esta parte diseñamos la red neuronal:"
      ]
    },
    {
      "cell_type": "code",
      "execution_count": null,
      "metadata": {
        "id": "zErNl3Boiyte",
        "outputId": "71405538-310a-4594-b85a-5ec832f89535"
      },
      "outputs": [
        {
          "name": "stdout",
          "output_type": "stream",
          "text": [
            "Epoch 1/10\n",
            "157/157 [==============================] - 60s 353ms/step - loss: 0.5984 - accuracy: 0.6640 - val_loss: 0.4192 - val_accuracy: 0.8212\n",
            "Epoch 2/10\n",
            "157/157 [==============================] - 55s 347ms/step - loss: 0.3780 - accuracy: 0.8417 - val_loss: 0.3867 - val_accuracy: 0.8346\n",
            "Epoch 3/10\n",
            "157/157 [==============================] - 54s 344ms/step - loss: 0.3054 - accuracy: 0.8748 - val_loss: 0.3734 - val_accuracy: 0.8380\n",
            "Epoch 4/10\n",
            "157/157 [==============================] - 57s 366ms/step - loss: 0.2663 - accuracy: 0.8942 - val_loss: 0.4162 - val_accuracy: 0.8188\n",
            "Epoch 5/10\n",
            "157/157 [==============================] - 54s 346ms/step - loss: 0.2119 - accuracy: 0.9204 - val_loss: 0.4368 - val_accuracy: 0.8064\n",
            "Epoch 6/10\n",
            "157/157 [==============================] - 56s 354ms/step - loss: 0.1677 - accuracy: 0.9360 - val_loss: 0.6466 - val_accuracy: 0.7354\n",
            "Epoch 7/10\n",
            "157/157 [==============================] - 54s 347ms/step - loss: 0.1292 - accuracy: 0.9517 - val_loss: 0.5051 - val_accuracy: 0.7988\n",
            "Epoch 8/10\n",
            "157/157 [==============================] - 54s 345ms/step - loss: 0.0930 - accuracy: 0.9673 - val_loss: 0.6618 - val_accuracy: 0.7732\n",
            "Epoch 9/10\n",
            "157/157 [==============================] - 54s 343ms/step - loss: 0.0755 - accuracy: 0.9748 - val_loss: 0.6881 - val_accuracy: 0.7368\n",
            "Epoch 10/10\n",
            "157/157 [==============================] - 54s 344ms/step - loss: 0.0672 - accuracy: 0.9797 - val_loss: 0.6040 - val_accuracy: 0.8342\n"
          ]
        }
      ],
      "source": [
        "from keras.layers import SimpleRNN\n",
        "# creamos el modelo\n",
        "model = Sequential()\n",
        "model.add(Embedding(top_words, 32, input_length=max_words))\n",
        "model.add(SimpleRNN(50))\n",
        "model.add(Dense(1, activation='sigmoid'))\n",
        "\n",
        "model.compile(loss='binary_crossentropy', optimizer='rmsprop', metrics=['accuracy'])\n",
        "\n",
        "history = model.fit(X_train, y_train, epochs=10, batch_size=128, validation_split=0.2)"
      ]
    },
    {
      "cell_type": "markdown",
      "metadata": {
        "id": "b6txW-B3iytg"
      },
      "source": [
        "A continuación, entrenamos la red y evaluamos con el conjunto test:"
      ]
    },
    {
      "cell_type": "code",
      "execution_count": null,
      "metadata": {
        "id": "HrKntKqAiytg",
        "outputId": "80f01200-b460-4542-82cc-2a9415f3ba34"
      },
      "outputs": [
        {
          "name": "stdout",
          "output_type": "stream",
          "text": [
            "Epoch 1/2\n",
            "196/196 [==============================] - 81s 415ms/step - loss: 0.1711 - accuracy: 0.9445 - val_loss: 0.5093 - val_accuracy: 0.8250\n",
            "Epoch 2/2\n",
            "196/196 [==============================] - 83s 426ms/step - loss: 0.1230 - accuracy: 0.9572 - val_loss: 0.5611 - val_accuracy: 0.8094\n",
            "Precisión: 80.94%\n"
          ]
        }
      ],
      "source": [
        "# ajustamos el modelo\n",
        "model.fit(X_train, y_train, validation_data=(X_test, y_test), epochs=2, batch_size=128, verbose=1)\n",
        "\n",
        "# Evaluación final del modelo\n",
        "scores = model.evaluate(X_test, y_test, verbose=0)\n",
        "print(\"Precisión: %.2f%%\" % (scores[1]*100))"
      ]
    },
    {
      "cell_type": "markdown",
      "metadata": {
        "id": "Ypdf3TZ0iyth"
      },
      "source": [
        "La visualización de los resultados, se haría de manera análoga al apartado anterior."
      ]
    },
    {
      "cell_type": "code",
      "execution_count": null,
      "metadata": {
        "id": "nbKG8YuViyti",
        "outputId": "abfbbb04-df2b-4e3d-95c6-59ce6c230fbe"
      },
      "outputs": [
        {
          "data": {
            "image/png": "[encoded data removed]",
            "text/plain": [
              "<Figure size 432x288 with 1 Axes>"
            ]
          },
          "metadata": {
            "needs_background": "light"
          },
          "output_type": "display_data"
        },
        {
          "data": {
            "image/png": "[encoded data removed]",
            "text/plain": [
              "<Figure size 432x288 with 1 Axes>"
            ]
          },
          "metadata": {
            "needs_background": "light"
          },
          "output_type": "display_data"
        }
      ],
      "source": [
        "import matplotlib.pyplot as plt\n",
        "acc = history.history['accuracy']\n",
        "val_acc = history.history['val_accuracy']\n",
        "loss = history.history['loss']\n",
        "val_loss = history.history['val_loss']\n",
        "epochs = range(1, len(acc) + 1)\n",
        "plt.plot(epochs, acc, 'bo', label='Training acc')\n",
        "plt.plot(epochs, val_acc, 'b', label='Validation acc')\n",
        "plt.title('Training and validation accuracy')\n",
        "plt.legend()\n",
        "plt.figure()\n",
        "plt.plot(epochs, loss, 'bo', label='Training loss')\n",
        "plt.plot(epochs, val_loss, 'b', label='Validation loss')\n",
        "plt.title('Training and validation loss')\n",
        "plt.legend()\n",
        "plt.show()"
      ]
    },
    {
      "cell_type": "markdown",
      "metadata": {
        "id": "KKMV6vIeiytj"
      },
      "source": [
        "**¿COMO TRATARIAMOS ESTE PROBLEMA CON UNA RED RECURRENTE LSTM?**\n",
        "\n",
        "Al igual que en el caso anterior con respecto al código, únicamente habrá que sustituir la parte del código asociado a la red, el resto del código será el mismo.\n",
        "\n",
        "En esta parte diseñamos la red LSTM:"
      ]
    },
    {
      "cell_type": "code",
      "execution_count": null,
      "metadata": {
        "id": "OpgOAPk-iytk",
        "outputId": "4b7a03a7-9e76-4cbb-ea46-116896b2a586"
      },
      "outputs": [
        {
          "name": "stdout",
          "output_type": "stream",
          "text": [
            "Epoch 1/10\n",
            "157/157 [==============================] - 129s 770ms/step - loss: 0.5107 - accuracy: 0.7527 - val_loss: 0.3353 - val_accuracy: 0.8620\n",
            "Epoch 2/10\n",
            "157/157 [==============================] - 124s 790ms/step - loss: 0.3209 - accuracy: 0.8688 - val_loss: 0.3059 - val_accuracy: 0.8766\n",
            "Epoch 3/10\n",
            "157/157 [==============================] - 120s 765ms/step - loss: 0.2648 - accuracy: 0.8953 - val_loss: 0.3837 - val_accuracy: 0.8400\n",
            "Epoch 4/10\n",
            "157/157 [==============================] - 120s 768ms/step - loss: 0.2435 - accuracy: 0.9069 - val_loss: 0.3153 - val_accuracy: 0.8814\n",
            "Epoch 5/10\n",
            "157/157 [==============================] - 124s 792ms/step - loss: 0.2242 - accuracy: 0.9141 - val_loss: 0.3238 - val_accuracy: 0.8762\n",
            "Epoch 6/10\n",
            "157/157 [==============================] - 119s 759ms/step - loss: 0.2123 - accuracy: 0.9204 - val_loss: 0.2964 - val_accuracy: 0.8808\n",
            "Epoch 7/10\n",
            "157/157 [==============================] - 121s 771ms/step - loss: 0.1952 - accuracy: 0.9272 - val_loss: 0.3567 - val_accuracy: 0.8726\n",
            "Epoch 8/10\n",
            "157/157 [==============================] - 125s 799ms/step - loss: 0.1863 - accuracy: 0.9301 - val_loss: 0.3263 - val_accuracy: 0.8806\n",
            "Epoch 9/10\n",
            "157/157 [==============================] - 127s 809ms/step - loss: 0.1812 - accuracy: 0.9299 - val_loss: 0.3132 - val_accuracy: 0.8742\n",
            "Epoch 10/10\n",
            "157/157 [==============================] - 141s 896ms/step - loss: 0.1692 - accuracy: 0.9395 - val_loss: 0.4480 - val_accuracy: 0.8654\n"
          ]
        }
      ],
      "source": [
        "from keras.layers import LSTM\n",
        "# creamos el modelo\n",
        "model = Sequential()\n",
        "model.add(Embedding(top_words, 32, input_length=max_words))\n",
        "model.add(LSTM(50))\n",
        "model.add(Dense(1, activation='sigmoid'))\n",
        "\n",
        "model.compile(loss='binary_crossentropy', optimizer='rmsprop', metrics=['accuracy'])\n",
        "\n",
        "history = model.fit(X_train, y_train, epochs=10, batch_size=128, validation_split=0.2)"
      ]
    },
    {
      "cell_type": "markdown",
      "metadata": {
        "id": "_xG00G2oiytl"
      },
      "source": [
        "A continuación, entrenamos la red LSTM y evaluamos con el conjunto test:"
      ]
    },
    {
      "cell_type": "code",
      "execution_count": null,
      "metadata": {
        "id": "AUujYB6yiytm",
        "outputId": "8c6fef84-ebfd-4b21-8884-516dc1a5a2c9"
      },
      "outputs": [
        {
          "name": "stdout",
          "output_type": "stream",
          "text": [
            "Epoch 1/2\n",
            "196/196 [==============================] - 209s 1s/step - loss: 0.1988 - accuracy: 0.9273 - val_loss: 0.5270 - val_accuracy: 0.8320\n",
            "Epoch 2/2\n",
            "196/196 [==============================] - 238s 1s/step - loss: 0.1894 - accuracy: 0.9296 - val_loss: 0.3170 - val_accuracy: 0.8726\n",
            "Precisión: 87.26%\n"
          ]
        }
      ],
      "source": [
        "# ajustamos el modelo\n",
        "model.fit(X_train, y_train, validation_data=(X_test, y_test), epochs=2, batch_size=128, verbose=1)\n",
        "\n",
        "# Evaluación final del modelo\n",
        "scores = model.evaluate(X_test, y_test, verbose=0)\n",
        "print(\"Precisión: %.2f%%\" % (scores[1]*100))"
      ]
    },
    {
      "cell_type": "markdown",
      "metadata": {
        "id": "tafB5rwUiytn"
      },
      "source": [
        "Realizados estos pasos, ya podemos visualizar los resultados haciéndolo de manera análoga a los\n",
        "casos anteriores."
      ]
    },
    {
      "cell_type": "code",
      "execution_count": null,
      "metadata": {
        "id": "5eRTqe0Oiyto",
        "outputId": "1f273daf-9d67-45c7-ce07-9ed8511526f6"
      },
      "outputs": [
        {
          "data": {
            "image/png": "[encoded data removed]",
            "text/plain": [
              "<Figure size 432x288 with 1 Axes>"
            ]
          },
          "metadata": {
            "needs_background": "light"
          },
          "output_type": "display_data"
        },
        {
          "data": {
            "image/png": "[encoded data removed]",
            "text/plain": [
              "<Figure size 432x288 with 1 Axes>"
            ]
          },
          "metadata": {
            "needs_background": "light"
          },
          "output_type": "display_data"
        }
      ],
      "source": [
        "import matplotlib.pyplot as plt\n",
        "acc = history.history['accuracy']\n",
        "val_acc = history.history['val_accuracy']\n",
        "loss = history.history['loss']\n",
        "val_loss = history.history['val_loss']\n",
        "epochs = range(1, len(acc) + 1)\n",
        "plt.plot(epochs, acc, 'bo', label='Training acc')\n",
        "plt.plot(epochs, val_acc, 'b', label='Validation acc')\n",
        "plt.title('Training and validation accuracy')\n",
        "plt.legend()\n",
        "plt.figure()\n",
        "plt.plot(epochs, loss, 'bo', label='Training loss')\n",
        "plt.plot(epochs, val_loss, 'b', label='Validation loss')\n",
        "plt.title('Training and validation loss')\n",
        "plt.legend()\n",
        "plt.show()"
      ]
    },
    {
      "cell_type": "markdown",
      "metadata": {
        "id": "RyiENdI2iytq"
      },
      "source": [
        "### Pruebas con red feedforward"
      ]
    },
    {
      "cell_type": "code",
      "execution_count": null,
      "metadata": {
        "id": "vZgVjKa0iytr",
        "outputId": "2e9d46d1-b99f-4035-8765-621a25d5553a"
      },
      "outputs": [
        {
          "name": "stdout",
          "output_type": "stream",
          "text": [
            "Exactitud: 86.64%\n",
            "782/782 [==============================] - 11s 14ms/step\n",
            "Exactitud: 86.18%\n",
            "782/782 [==============================] - 10s 13ms/step\n",
            "Exactitud: 86.50%\n",
            "782/782 [==============================] - 11s 13ms/step\n",
            "Exactitud: 86.52%\n",
            "782/782 [==============================] - 9s 12ms/step\n",
            "Exactitud: 86.35%\n",
            "782/782 [==============================] - 11s 13ms/step\n",
            "Exactitud: 86.61%\n",
            "782/782 [==============================] - 11s 13ms/step\n",
            "Exactitud: 86.39%\n",
            "782/782 [==============================] - 14s 17ms/step\n",
            "Exactitud: 86.24%\n",
            "782/782 [==============================] - 11s 14ms/step\n",
            "Exactitud: 86.65%\n",
            "782/782 [==============================] - 11s 13ms/step\n",
            "   Número de capas ocultas  Unidades ocultas en la(s) capa(s) oculta(s)  \\\n",
            "0                        1                                          250   \n",
            "1                        1                                          250   \n",
            "2                        1                                          250   \n",
            "3                        1                                          300   \n",
            "4                        1                                          300   \n",
            "5                        1                                          300   \n",
            "6                        1                                          350   \n",
            "7                        1                                          350   \n",
            "8                        1                                          350   \n",
            "\n",
            "  Tipo de capas  Iteraciones (Épocas)  Batch size Función de activación  \\\n",
            "0         Dense                     4         128                  ReLU   \n",
            "1         Dense                     6         128                  ReLU   \n",
            "2         Dense                     8         128                  ReLU   \n",
            "3         Dense                     4         128                  ReLU   \n",
            "4         Dense                     6         128                  ReLU   \n",
            "5         Dense                     8         128                  ReLU   \n",
            "6         Dense                     4         128                  ReLU   \n",
            "7         Dense                     6         128                  ReLU   \n",
            "8         Dense                     8         128                  ReLU   \n",
            "\n",
            "   Precisión        F1   Recall  Coeficiente kappa  \n",
            "0   0.868345  0.866046  0.86376            0.73280  \n",
            "1   0.860721  0.861959  0.86320            0.72352  \n",
            "2   0.866388  0.864791  0.86320            0.73008  \n",
            "3   0.863698  0.865525  0.86736            0.73048  \n",
            "4   0.861611  0.863879  0.86616            0.72704  \n",
            "5   0.862840  0.866722  0.87064            0.73224  \n",
            "6   0.871518  0.862466  0.85360            0.72776  \n",
            "7   0.860784  0.862708  0.86464            0.72480  \n",
            "8   0.863398  0.867044  0.87072            0.73296  \n"
          ]
        }
      ],
      "source": [
        "from sklearn.metrics import precision_score, recall_score, f1_score, cohen_kappa_score\n",
        "import pandas as pd\n",
        "\n",
        "df = pd.DataFrame(columns=[])\n",
        "\n",
        "epocas = [4, 6, 8]\n",
        "neuronas = [250, 300, 350]\n",
        "\n",
        "for i in range(len(neuronas)):\n",
        "    for j in range(len(epocas)):\n",
        "        model = Sequential()\n",
        "        model.add(Embedding(top_words, 32, input_length=max_words))\n",
        "        model.add(Flatten())\n",
        "        model.add(Dense(neuronas[i], activation='relu'))\n",
        "        model.add(Dense(1, activation='sigmoid'))\n",
        "\n",
        "        model.compile(loss='binary_crossentropy', optimizer='adam', metrics=['accuracy'])\n",
        "\n",
        "        model.fit(X_train, y_train, validation_data=(X_test, y_test), epochs=epocas[j], batch_size=128, verbose=0)\n",
        "\n",
        "        scores = model.evaluate(X_test, y_test, verbose=0)\n",
        "        print(\"Exactitud: %.2f%%\" % (scores[1]*100))\n",
        "\n",
        "        y_pred = model.predict(X_test)\n",
        "        y_pred=(y_pred>0.5)\n",
        "\n",
        "        datos = {\n",
        "            'Número de capas ocultas': 1,\n",
        "            'Unidades ocultas en la(s) capa(s) oculta(s)': neuronas[i],\n",
        "            'Tipo de capas': 'Dense',\n",
        "            'Iteraciones (Épocas)': epocas[j],\n",
        "            'Batch size': 128,\n",
        "            'Función de activación': \"ReLU\",\n",
        "            'Precisión': precision_score(y_test, y_pred),\n",
        "            'F1': f1_score(y_test,y_pred),\n",
        "            'Recall': recall_score(y_test, y_pred),\n",
        "            'Coeficiente kappa': cohen_kappa_score(y_test, y_pred)\n",
        "        }\n",
        "\n",
        "        datos = pd.DataFrame([datos])\n",
        "        df = pd.concat([df, datos], ignore_index=True)\n",
        "print(df)"
      ]
    },
    {
      "cell_type": "markdown",
      "metadata": {
        "id": "7Z5IaNsliyts"
      },
      "source": [
        "### Pruebas con red recurrente"
      ]
    },
    {
      "cell_type": "code",
      "execution_count": null,
      "metadata": {
        "id": "L4yWnh8Niytt",
        "outputId": "a7037e0c-55ab-4d70-a7ab-32cbb31baad6"
      },
      "outputs": [
        {
          "name": "stdout",
          "output_type": "stream",
          "text": [
            "Exactitud: 85.98%\n",
            "782/782 [==============================] - 40s 50ms/step\n",
            "Exactitud: 81.85%\n",
            "782/782 [==============================] - 41s 52ms/step\n",
            "Exactitud: 84.31%\n",
            "782/782 [==============================] - 42s 52ms/step\n",
            "Exactitud: 80.50%\n",
            "782/782 [==============================] - 54s 69ms/step\n",
            "Exactitud: 81.73%\n",
            "782/782 [==============================] - 56s 71ms/step\n",
            "Exactitud: 76.72%\n",
            "782/782 [==============================] - 56s 71ms/step\n",
            "Exactitud: 80.27%\n",
            "782/782 [==============================] - 69s 87ms/step\n",
            "Exactitud: 82.98%\n",
            "782/782 [==============================] - 68s 87ms/step\n",
            "Exactitud: 82.67%\n",
            "782/782 [==============================] - 69s 88ms/step\n",
            "   Número de capas ocultas  Unidades ocultas en la(s) capa(s) oculta(s)  \\\n",
            "0                        1                                           30   \n",
            "1                        1                                           30   \n",
            "2                        1                                           30   \n",
            "3                        1                                           50   \n",
            "4                        1                                           50   \n",
            "5                        1                                           50   \n",
            "6                        1                                          100   \n",
            "7                        1                                          100   \n",
            "8                        1                                          100   \n",
            "\n",
            "  Tipo de capas  Iteraciones (Épocas)  Batch size Función de activación  \\\n",
            "0         Dense                     6         128                  ReLU   \n",
            "1         Dense                    10         128                  ReLU   \n",
            "2         Dense                    12         128                  ReLU   \n",
            "3         Dense                     6         128                  ReLU   \n",
            "4         Dense                    10         128                  ReLU   \n",
            "5         Dense                    12         128                  ReLU   \n",
            "6         Dense                     6         128                  ReLU   \n",
            "7         Dense                    10         128                  ReLU   \n",
            "8         Dense                    12         128                  ReLU   \n",
            "\n",
            "   Precisión        F1   Recall  Coeficiente kappa  \n",
            "0   0.868689  0.858138  0.84784            0.71968  \n",
            "1   0.797415  0.824738  0.85400            0.63704  \n",
            "2   0.842026  0.843371  0.84472            0.68624  \n",
            "3   0.784510  0.811829  0.84112            0.61008  \n",
            "4   0.889511  0.798607  0.72456            0.63456  \n",
            "5   0.693314  0.804500  0.95816            0.53432  \n",
            "6   0.849580  0.788492  0.73560            0.60536  \n",
            "7   0.833738  0.828840  0.82400            0.65968  \n",
            "8   0.840377  0.823121  0.80656            0.65336  \n"
          ]
        }
      ],
      "source": [
        "epocas = [6, 10, 12]\n",
        "neuronas = [30, 50, 100]\n",
        "\n",
        "df_2 = pd.DataFrame(columns=[])\n",
        "\n",
        "for i in range(len(neuronas)):\n",
        "    for j in range(len(epocas)):\n",
        "        model = Sequential()\n",
        "        model.add(Embedding(top_words, 32, input_length=max_words))\n",
        "        model.add(SimpleRNN(neuronas[i]))\n",
        "        model.add(Dense(1, activation='sigmoid'))\n",
        "\n",
        "        model.compile(loss='binary_crossentropy', optimizer='rmsprop', metrics=['accuracy'])\n",
        "\n",
        "        model.fit(X_train, y_train, validation_data=(X_test, y_test), epochs=epocas[j], batch_size=128, verbose=0)\n",
        "\n",
        "        scores = model.evaluate(X_test, y_test, verbose=0)\n",
        "        print(\"Exactitud: %.2f%%\" % (scores[1]*100))\n",
        "\n",
        "        y_pred = model.predict(X_test)\n",
        "        y_pred=(y_pred>0.5)\n",
        "\n",
        "\n",
        "        datos_2 = {\n",
        "            'Número de capas ocultas': 1,\n",
        "            'Unidades ocultas en la(s) capa(s) oculta(s)': neuronas[i],\n",
        "            'Tipo de capas': 'Dense',\n",
        "            'Iteraciones (Épocas)': epocas[j],\n",
        "            'Batch size': 128,\n",
        "            'Función de activación': \"ReLU\",\n",
        "            'Precisión': precision_score(y_test, y_pred),\n",
        "            'F1': f1_score(y_test,y_pred),\n",
        "            'Recall': recall_score(y_test, y_pred),\n",
        "            'Coeficiente kappa': cohen_kappa_score(y_test, y_pred)\n",
        "        }\n",
        "\n",
        "        datos_2 = pd.DataFrame([datos_2])\n",
        "        df_2 = pd.concat([df_2, datos_2], ignore_index=True)\n",
        "print(df_2)"
      ]
    },
    {
      "cell_type": "markdown",
      "metadata": {
        "id": "TkCn6IpIiytu"
      },
      "source": [
        "### Pruebas con red recurrente tipo LSTM"
      ]
    },
    {
      "cell_type": "code",
      "execution_count": null,
      "metadata": {
        "id": "BH_h-K_Tiytw",
        "outputId": "a87368cd-998b-4c14-f519-1269a334c22e"
      },
      "outputs": [
        {
          "name": "stdout",
          "output_type": "stream",
          "text": [
            "Exactitud: 84.92%\n",
            "782/782 [==============================] - 70s 88ms/step\n",
            "Exactitud: 83.18%\n",
            "782/782 [==============================] - 68s 85ms/step\n",
            "Exactitud: 86.43%\n",
            "782/782 [==============================] - 70s 87ms/step\n",
            "Exactitud: 85.45%\n",
            "782/782 [==============================] - 88s 110ms/step\n",
            "Exactitud: 83.96%\n",
            "782/782 [==============================] - 88s 110ms/step\n",
            "Exactitud: 87.14%\n",
            "782/782 [==============================] - 88s 110ms/step\n",
            "Exactitud: 85.17%\n",
            "782/782 [==============================] - 130s 165ms/step\n",
            "Exactitud: 87.87%\n",
            "782/782 [==============================] - 133s 168ms/step\n",
            "Exactitud: 86.80%\n",
            "782/782 [==============================] - 132s 167ms/step\n",
            "   Número de capas ocultas  Unidades ocultas en la(s) capa(s) oculta(s)  \\\n",
            "0                        1                                           30   \n",
            "1                        1                                           30   \n",
            "2                        1                                           30   \n",
            "3                        1                                           50   \n",
            "4                        1                                           50   \n",
            "5                        1                                           50   \n",
            "6                        1                                          100   \n",
            "7                        1                                          100   \n",
            "8                        1                                          100   \n",
            "\n",
            "  Tipo de capas  Iteraciones (Épocas)  Batch size Función de activación  \\\n",
            "0         Dense                     6         128                  ReLU   \n",
            "1         Dense                    10         128                  ReLU   \n",
            "2         Dense                    12         128                  ReLU   \n",
            "3         Dense                     6         128                  ReLU   \n",
            "4         Dense                    10         128                  ReLU   \n",
            "5         Dense                    12         128                  ReLU   \n",
            "6         Dense                     6         128                  ReLU   \n",
            "7         Dense                    10         128                  ReLU   \n",
            "8         Dense                    12         128                  ReLU   \n",
            "\n",
            "   Precisión        F1   Recall  Coeficiente kappa  \n",
            "0   0.934063  0.832809  0.75136            0.69832  \n",
            "1   0.932798  0.809582  0.71512            0.66360  \n",
            "2   0.919098  0.854783  0.79888            0.72856  \n",
            "3   0.933568  0.839928  0.76336            0.70904  \n",
            "4   0.783856  0.853896  0.93768            0.67912  \n",
            "5   0.877725  0.870361  0.86312            0.74288  \n",
            "6   0.801068  0.863225  0.93584            0.70344  \n",
            "7   0.900025  0.875354  0.85200            0.75736  \n",
            "8   0.851574  0.871013  0.89136            0.73600  \n"
          ]
        }
      ],
      "source": [
        "epocas = [6, 10, 12]\n",
        "neuronas = [30, 50, 100]\n",
        "\n",
        "df_3 = pd.DataFrame(columns=[])\n",
        "\n",
        "for i in range(len(neuronas)):\n",
        "    for j in range(len(epocas)):\n",
        "        model = Sequential()\n",
        "        model.add(Embedding(top_words, 32, input_length=max_words))\n",
        "        model.add(LSTM(neuronas[i]))\n",
        "        model.add(Dense(1, activation='sigmoid'))\n",
        "\n",
        "        model.compile(loss='binary_crossentropy', optimizer='rmsprop', metrics=['accuracy'])\n",
        "\n",
        "        model.fit(X_train, y_train, validation_data=(X_test, y_test), epochs=epocas[j], batch_size=128, verbose=0)\n",
        "\n",
        "        scores = model.evaluate(X_test, y_test, verbose=0)\n",
        "        print(\"Exactitud: %.2f%%\" % (scores[1]*100))\n",
        "\n",
        "        y_pred = model.predict(X_test)\n",
        "        y_pred=(y_pred>0.5)\n",
        "\n",
        "\n",
        "        datos_3 = {\n",
        "            'Número de capas ocultas': 1,\n",
        "            'Unidades ocultas en la(s) capa(s) oculta(s)': neuronas[i],\n",
        "            'Tipo de capas': 'Dense',\n",
        "            'Iteraciones (Épocas)': epocas[j],\n",
        "            'Batch size': 128,\n",
        "            'Función de activación': \"ReLU\",\n",
        "            'Precisión': precision_score(y_test, y_pred),\n",
        "            'F1': f1_score(y_test,y_pred),\n",
        "            'Recall': recall_score(y_test, y_pred),\n",
        "            'Coeficiente kappa': cohen_kappa_score(y_test, y_pred)\n",
        "        }\n",
        "\n",
        "        datos_3 = pd.DataFrame([datos_3])\n",
        "        df_3 = pd.concat([df_3, datos_3], ignore_index=True)\n",
        "print(df_3)"
      ]
    },
    {
      "cell_type": "markdown",
      "metadata": {
        "id": "rLd78Ajciytx"
      },
      "source": [
        "Se han realizado pruebas con los distintos modelos presentados. El primer modelo se trata de una red feedforward. Este modelo se caracteriza por proporcionar resultados muy estables ya que su rendimiento no se ve gravemente afectado por el cambio en el número de neuronas o iteraciones. Es un buen modelo para este problema, ya que proporciona una alta precisión y recall sin tener que afinar excesivamente los parámetros de la red y se entrena en un corto periodo de tiempo. Por otro lado también se ha trabajado con una red neuronal recurrente. Este modelo ha tardado más en entrenarse y sus medidas de rendimiento son notablemente peores que las obtenidas por la red feedforward. Personalmente no utilizaría este modelo de red para este problema. Por último se ha entrenado una red neuronal recurrente tipo LSTM que aunque haya sido el modelo que más ha tardado en entrenarse sus resultados son mejores que las dos redes anteriormente implementadas. En algunos casos se ha obtenido un 90% de precisión con un un recall bastante alto, esto significa que el modelo se podría volver a implementar para otros conjuntos de datos nuevos y haría una buena predicción.\n",
        "Se ha intentado recoger datos para otros modelos de redes neuronales con más capas ocultas pero debido al tiempo que llevaba para entrenarse y el rendimiento que proporcionaban se ha optado por no incluirlas en este guión."
      ]
    }
  ],
  "metadata": {
    "kernelspec": {
      "display_name": "Python 3 (ipykernel)",
      "language": "python",
      "name": "python3"
    },
    "language_info": {
      "codemirror_mode": {
        "name": "ipython",
        "version": 3
      },
      "file_extension": ".py",
      "mimetype": "text/x-python",
      "name": "python",
      "nbconvert_exporter": "python",
      "pygments_lexer": "ipython3",
      "version": "3.9.12"
    },
    "colab": {
      "provenance": []
    }
  },
  "nbformat": 4,
  "nbformat_minor": 0
}