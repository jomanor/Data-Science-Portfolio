{
 "cells": [
  {
   "cell_type": "markdown",
   "id": "fc39ed5e",
   "metadata": {},
   "source": [
    "### Challenge Test 2"
   ]
  },
  {
   "cell_type": "markdown",
   "id": "b4694fc8",
   "metadata": {},
   "source": [
    "##### 1.Escribe una función contar_numeros_impares(numeros) que devuelva la cantidad de números impares que hay en una lista. Ten cuenta que hay que considerar casos como:\n",
    "\n",
    "    contar_numeros_impares([]) devuelve 0"
   ]
  },
  {
   "cell_type": "code",
   "execution_count": 1,
   "id": "57d20791",
   "metadata": {},
   "outputs": [
    {
     "name": "stdout",
     "output_type": "stream",
     "text": [
      "3\n",
      "3\n"
     ]
    }
   ],
   "source": [
    "#Opción 1\n",
    "def contar_numeros_impares(lista):\n",
    "    \n",
    "    contador=0\n",
    "    \n",
    "    for i in lista:\n",
    "        if isinstance(i, int) and i % 2 == 1:\n",
    "            contador += 1\n",
    "    \n",
    "    return contador\n",
    "\n",
    "#Opción 2 (Comprensión de listas)\n",
    "def contar_numeros_impares2(lista):\n",
    "    return sum(1 for i in lista if isinstance(i, int) and i % 2 != 0)\n",
    "\n",
    "print(contar_numeros_impares2([1,2,3,4,5, 'hola']))\n",
    "print(contar_numeros_impares([1,2,3,4,5, 'hola']))"
   ]
  },
  {
   "cell_type": "markdown",
   "id": "f2274c0e",
   "metadata": {},
   "source": [
    "##### Apuntes:\n",
    "La función isdigit() es para cadenas de caracteres, para comprobar en objetos (lista/tupla en este caso) si un elemento es de un tipo se utiliza isinstance(elemento, tipo) donde elemento y tipo pueden ser int, float, complex, list, tuple, range, str, bytes, bytearray, memoryview, set, frozenset, dict, bool, type, NoneType."
   ]
  },
  {
   "cell_type": "markdown",
   "id": "2eb8e4d8",
   "metadata": {},
   "source": [
    "##### 2.Escribe una función contar_letras(palabra) que tome una palabra como argumento y devuelva una lista de pares en la que aparece cada letra junto con el número de veces que aparece esa letra en la palabra. Por ejemplo, contar_letras('patata') devuelve [('a', 3), ('p', 1), ('t', 2)]."
   ]
  },
  {
   "cell_type": "code",
   "execution_count": 2,
   "id": "847c0fbb",
   "metadata": {},
   "outputs": [
    {
     "data": {
      "text/plain": [
       "[('p', 1), ('a', 3), ('t', 2)]"
      ]
     },
     "execution_count": 2,
     "metadata": {},
     "output_type": "execute_result"
    }
   ],
   "source": [
    "#Opción 1 (sin diccionario)\n",
    "def contar_letras(palabra):\n",
    "    \n",
    "    resultado = []\n",
    "    \n",
    "    for letra in palabra:\n",
    "        encontrado = False\n",
    "        # Buscar si la letra ya está en la lista resultado\n",
    "        for i, (l, count) in enumerate(resultado):\n",
    "            if l == letra:\n",
    "                # Incrementar el conteo si la letra ya está\n",
    "                resultado[i] = (l, count + 1)\n",
    "                encontrado = True\n",
    "        # Si la letra no está en la lista, añadirla con un conteo de 1\n",
    "        if not encontrado:\n",
    "            resultado.append((letra, 1))\n",
    "    \n",
    "    return resultado\n",
    "\n",
    "#Opción 2 (con diccionario, más adelante)\n",
    "def contar_letras2(palabra):\n",
    "    \n",
    "    contador = {}\n",
    "    \n",
    "    for letra in palabra:\n",
    "        if letra in contador:\n",
    "            contador[letra] += 1\n",
    "        else:\n",
    "            contador[letra] = 1\n",
    "    \n",
    "    # Convertir el diccionario en una lista de tuplas\n",
    "    lista_pares = [(letra, cuenta) for letra, cuenta in contador.items()]\n",
    "    \n",
    "    return lista_pares\n",
    "\n",
    "contar_letras('patata')  "
   ]
  },
  {
   "cell_type": "markdown",
   "id": "e3cf0759",
   "metadata": {},
   "source": [
    "###### Apuntes:\n",
    "Cuando se quiere hacer una función que asigne valores a caracteres, el uso de un diccionario es muy práctico ya que permite iterar arrays sobre caracteres (contador[letra])"
   ]
  },
  {
   "cell_type": "markdown",
   "id": "b401f344",
   "metadata": {},
   "source": [
    "##### 3.Escribe una función mezclar(la, lb) que dadas dos listas ordenadas devuelva una lista conteniendo los elementos de ambas listas ordenados de forma ascendente. No se puede usar ninguna función de ordenación. Por ejemplo, mezclar([1,5, 8], [2,4]) devuelve [1, 2, 4, 5, 8]"
   ]
  },
  {
   "cell_type": "code",
   "execution_count": 3,
   "id": "5f872eaf",
   "metadata": {},
   "outputs": [
    {
     "name": "stdout",
     "output_type": "stream",
     "text": [
      "[1, 2, 4, 5, 8]\n"
     ]
    }
   ],
   "source": [
    "def mezclar(la, lb):\n",
    "    \n",
    "    resultado = []\n",
    "    \n",
    "    i, j = 0, 0  # Índices para recorrer las listas la y lb\n",
    "    \n",
    "    # Mientras haya elementos en ambas listas\n",
    "    while i < len(la) and j < len(lb):\n",
    "        if la[i] <= lb[j]:\n",
    "            resultado.append(la[i])\n",
    "            i += 1\n",
    "        else:\n",
    "            resultado.append(lb[j])\n",
    "            j += 1\n",
    "    \n",
    "    # Agregar los elementos restantes de la lista la, si los hay\n",
    "    resultado.extend(la[i:])\n",
    "    \n",
    "    # Agregar los elementos restantes de la lista lb, si los hay\n",
    "    resultado.extend(lb[j:])\n",
    "    \n",
    "    return resultado\n",
    "\n",
    "print(mezclar([1, 5, 8], [2, 4]))"
   ]
  },
  {
   "cell_type": "markdown",
   "id": "309eca29",
   "metadata": {},
   "source": [
    "##### 4. La traspuesta de una matriz se obtiene intercambiado filas y columna. Escribe una función que devuelva la traspuesta de una matriz. Por ejemplo, traspuesta([[1,3], [2,5]]) devuelve [[1,2], [3,5]]"
   ]
  },
  {
   "cell_type": "code",
   "execution_count": 4,
   "id": "9029179a",
   "metadata": {},
   "outputs": [
    {
     "data": {
      "text/plain": [
       "[[1, 4, 7], [2, 5, 8], [3, 6, 9]]"
      ]
     },
     "execution_count": 4,
     "metadata": {},
     "output_type": "execute_result"
    }
   ],
   "source": [
    "def traspuesta(matriz):\n",
    "    \n",
    "    filas = len(matriz)\n",
    "    columnas = len(matriz[0])\n",
    "    \n",
    "    traspuesta = [[0 for j in range(columnas)]for i in range(filas)]\n",
    "    \n",
    "    for i in range(filas):\n",
    "        for j in range(columnas):\n",
    "            traspuesta[j][i] = matriz[i][j]\n",
    "    \n",
    "    return traspuesta\n",
    "\n",
    "traspuesta([[1,2,3],[4,5,6],[7,8,9]])"
   ]
  },
  {
   "cell_type": "markdown",
   "id": "ba415d0e",
   "metadata": {},
   "source": [
    "##### 5.Escribe una función eliminar(l1, l2) que dadas dos listas devuelva una lista en la que estén todos los elementos de l1 que no están en l2."
   ]
  },
  {
   "cell_type": "code",
   "execution_count": 5,
   "id": "c4d0351f",
   "metadata": {},
   "outputs": [
    {
     "data": {
      "text/plain": [
       "[3]"
      ]
     },
     "execution_count": 5,
     "metadata": {},
     "output_type": "execute_result"
    }
   ],
   "source": [
    "def eliminar(l1, l2):\n",
    "            \n",
    "    return list(i for i in l1 if i not in l2)\n",
    "\n",
    "eliminar([1,4,3],[4,5,1])"
   ]
  },
  {
   "cell_type": "markdown",
   "id": "7afcf703",
   "metadata": {},
   "source": [
    "##### Apuntes:\n",
    "Para retornar la lista despues de haber usado métodos de comprensión de listas hace falta utilizar los delimitadores [] en el argumento o simplemente convertir a lista el argumento usando list()."
   ]
  },
  {
   "cell_type": "markdown",
   "id": "76462f03",
   "metadata": {},
   "source": [
    "##### 6.Un vector disperso es aquel que tiene muchos elementos nulos. Para ese tipo de vectores, la representación más adecuada es guardar únicamente los elementos no nulos. Escribe una función dispersa(v) a la que se le pase una lista representando un vector disperso y que devuelva un par con una lista de pares (pos, elem) con cada una de las posiciones en las que hay un elemento no nulo y el elemento junto con el número de elementos del vector original. Ejemplo: disperso([1,0,0, 5, 4, 0, 0, 0]) sería ([(0,1), (3,5), (4,4)], 8)"
   ]
  },
  {
   "cell_type": "code",
   "execution_count": 6,
   "id": "07481614",
   "metadata": {},
   "outputs": [
    {
     "data": {
      "text/plain": [
       "([(0, 1), (3, 5), (4, 4)], 8)"
      ]
     },
     "execution_count": 6,
     "metadata": {},
     "output_type": "execute_result"
    }
   ],
   "source": [
    "def disperso(v):\n",
    "    \n",
    "    return (list((pos, elem) for pos, elem in enumerate(v) if elem !=0), len(v))\n",
    "\n",
    "disperso([1, 0, 0, 5, 4, 0, 0, 0])"
   ]
  },
  {
   "cell_type": "markdown",
   "id": "5f258db5",
   "metadata": {},
   "source": [
    "##### 7.Escribe una función a la que se le pase una lista en el formato del ejercicio anterior y que devuelva una lista que sería el vector original. Por ejemplo, no_disperso( ([(0,1), (3,5), (4,4)], 8)) devolvería (1,0,0, 5, 4, 0, 0, 0)"
   ]
  },
  {
   "cell_type": "code",
   "execution_count": 7,
   "id": "531c1b5f",
   "metadata": {},
   "outputs": [
    {
     "data": {
      "text/plain": [
       "[1, 0, 0, 5, 4, 0, 0, 0]"
      ]
     },
     "execution_count": 7,
     "metadata": {},
     "output_type": "execute_result"
    }
   ],
   "source": [
    "def no_disperso(disperso):\n",
    "    \n",
    "    elementos_no_nulos, longitud_original = disperso\n",
    "    \n",
    "    vector_ini= [0] * longitud_original\n",
    "    \n",
    "    for pos, elem in elementos_no_nulos:\n",
    "        vector_ini[pos] = elem\n",
    "    \n",
    "    return vector_ini\n",
    "\n",
    "no_disperso(([(0, 1), (3, 5), (4, 4)], 8))"
   ]
  }
 ],
 "metadata": {
  "kernelspec": {
   "display_name": "Python 3 (ipykernel)",
   "language": "python",
   "name": "python3"
  },
  "language_info": {
   "codemirror_mode": {
    "name": "ipython",
    "version": 3
   },
   "file_extension": ".py",
   "mimetype": "text/x-python",
   "name": "python",
   "nbconvert_exporter": "python",
   "pygments_lexer": "ipython3",
   "version": "3.9.12"
  }
 },
 "nbformat": 4,
 "nbformat_minor": 5
}
