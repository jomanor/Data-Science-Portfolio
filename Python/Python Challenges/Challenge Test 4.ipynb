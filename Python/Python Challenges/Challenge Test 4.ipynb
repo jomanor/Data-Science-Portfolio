{
 "cells": [
  {
   "cell_type": "markdown",
   "id": "047b89bb",
   "metadata": {},
   "source": [
    "### Challenge Test 4"
   ]
  },
  {
   "cell_type": "markdown",
   "id": "04875f68",
   "metadata": {},
   "source": [
    "##### 1. Escribe una función suma_columnas(v) que dado un ndarray de tamaño n x m devuelva un ndarray de tamaño m con la suma de sus columnas"
   ]
  },
  {
   "cell_type": "code",
   "execution_count": 6,
   "id": "7e443a9d",
   "metadata": {},
   "outputs": [
    {
     "name": "stdout",
     "output_type": "stream",
     "text": [
      "[128   7   9]\n",
      "[128   7   9]\n"
     ]
    }
   ],
   "source": [
    "import numpy as np\n",
    "\n",
    "\n",
    "def suma_columnas(v):\n",
    "    \n",
    "    g = np.zeros(v.shape[1], \"int64\")\n",
    "\n",
    "    for i in range(v.shape[0]):\n",
    "        \n",
    "        g += v[i]\n",
    "    \n",
    "    return g\n",
    "\n",
    "#O\n",
    "\n",
    "def suma_columnas2(v):\n",
    "    return np.sum(v, axis=0)\n",
    "\n",
    "a=np.array([[124,2,3],[4,5,6]])\n",
    "\n",
    "print(suma_columnas(a))\n",
    "print(suma_columnas2(a))"
   ]
  },
  {
   "cell_type": "markdown",
   "id": "9d55f138",
   "metadata": {},
   "source": [
    "##### Apuntes:\n",
    "\n",
    "En NumPy, no es recomendable inicializar un ndarray como un array vacío cuando planeas agregar elementos a él en un bucle, especialmente si el tamaño final del array es conocido de antemano. Esto se debe a que la adición de elementos a un array en un bucle no es eficiente y puede llevar a errores si no se hace correctamente. En este caso es mejor inicializarlo con ceros.\n"
   ]
  },
  {
   "cell_type": "markdown",
   "id": "0230dedb",
   "metadata": {},
   "source": [
    "##### 2. Escribe una función filtro(v, x) que dado un ndarray v y un número x, devuelva un ndarray con los valores de v que sean mayores que x"
   ]
  },
  {
   "cell_type": "code",
   "execution_count": 2,
   "id": "0925de5f",
   "metadata": {},
   "outputs": [
    {
     "data": {
      "text/plain": [
       "array([124,   4,   5,   6])"
      ]
     },
     "execution_count": 2,
     "metadata": {},
     "output_type": "execute_result"
    }
   ],
   "source": [
    "def filtro(v,x):\n",
    "    \n",
    "    return v[v>x]\n",
    "\n",
    "a=np.array([[124,2,3],[4,5,6]])\n",
    "filtro(a, 3)"
   ]
  },
  {
   "cell_type": "markdown",
   "id": "7dcd025d",
   "metadata": {},
   "source": [
    "##### 3. Calcula la mediana, la moda y la desviación estándar de un conjunto de datos representado como un ndarray"
   ]
  },
  {
   "cell_type": "code",
   "execution_count": 32,
   "id": "6cd30343",
   "metadata": {},
   "outputs": [
    {
     "name": "stdout",
     "output_type": "stream",
     "text": [
      "La mediana es 5.0, la moda es 5 y la desviación estándar es 1.8856180831641267\n"
     ]
    }
   ],
   "source": [
    "import numpy as np\n",
    "from scipy.stats import mode\n",
    "\n",
    "a = np.array([[1, 2, 3], [4, 5, 6], [5, 6, 7]])\n",
    "\n",
    "mediana = np.median(a)\n",
    "moda = mode(a.flatten())[0][0]\n",
    "desviacion_estandar = np.std(a)\n",
    "\n",
    "print(f\"La mediana es {mediana}, la moda es {moda} y la desviación estándar es {desviacion_estandar}\")"
   ]
  },
  {
   "cell_type": "markdown",
   "id": "501782fe",
   "metadata": {},
   "source": [
    "##### Apuntes:\n",
    "Para usar la moda debe importarse la función mode del paquete scipy.stats, y utilizar la función np.flatten() para que recoja un vector unidimensional. mode() proporciona dos valores, la moda y el número de veces que se ha contado dicha moda, por ello cogemos el primer elemento mode()[0]."
   ]
  },
  {
   "cell_type": "markdown",
   "id": "be151fd8",
   "metadata": {},
   "source": [
    "##### 4. Dado un ndarray v de dimensiones n x m y valor x, calcula un ndarray con los valores -1, 0, 1 en cada posición i,j dependiendo de si el valor v[i,j] es, respectivamente, menor, igual o mayor que el valor de v[x,j]\n",
    "Por ejemplo:\n",
    "con x = 2\n",
    "\n",
    "v:\n",
    "\n",
    "[[0.46073859 0.63000055 0.4527522 ]\n",
    "\n",
    "[0.90487794 0.81662706 0.08923395]\n",
    "\n",
    "[0.11465189 0.76878634 0.41317721]\n",
    "\n",
    "[0.84451333 0.51610403 0.4688711 ]]\n",
    "\n",
    "Resultado:\n",
    "\n",
    "[[ 1 -1 1]\n",
    "\n",
    "[ 1 1 -1]\n",
    "\n",
    "[ 0 0 0]\n",
    "\n",
    "[ 1 -1 1]]"
   ]
  },
  {
   "cell_type": "code",
   "execution_count": 4,
   "id": "4f6b90c9",
   "metadata": {},
   "outputs": [
    {
     "data": {
      "text/plain": [
       "array([[ 1, -1,  1],\n",
       "       [ 1,  1, -1],\n",
       "       [ 0,  0,  0],\n",
       "       [ 1, -1,  1]])"
      ]
     },
     "execution_count": 4,
     "metadata": {},
     "output_type": "execute_result"
    }
   ],
   "source": [
    "def arraymod(v, x):\n",
    "    \n",
    "    n, m = v.shape\n",
    "    a = np.zeros((n, m), dtype = int)\n",
    "    \n",
    "    for j in range(m):\n",
    "        valor_referencia = v[x, j]\n",
    "        for i in range(n):\n",
    "            if v[i, j] < valor_referencia:\n",
    "                a[i, j] = -1\n",
    "            elif v[i, j] > valor_referencia:\n",
    "                a[i, j] = 1\n",
    "            #else:\n",
    "            #a[i,j] = 0 pero no hace falta ya que he inicializado el vector con 0s\n",
    "    return a\n",
    "\n",
    "\n",
    "\n",
    "b = np.array([[0.46073859,0.63000055,0.4527522],\n",
    "[0.90487794,0.81662706,0.08923395],\n",
    "[0.11465189,0.76878634,0.41317721],\n",
    "[0.84451333,0.51610403,0.4688711]])\n",
    "\n",
    "arraymod(b, 2)"
   ]
  },
  {
   "cell_type": "markdown",
   "id": "5e0d005b",
   "metadata": {},
   "source": [
    "##### 5. La criba de Eratóstenes permite determinar los número primeros menores que un determinado valor. El procedimiento a seguir es:\n",
    "\n",
    "-Generar los valores entre 1 y N. En nuestro caso, por ejemplo, 10 millones\n",
    "\n",
    "-Eliminar los valores de 2 en 2, luego de 3 en 3, y así sucesivamente. Mientras sea posible.\n",
    "\n",
    "Los que queden serán los números primeros menores que N\n",
    "\n",
    "Implementa una función que realice la criba y pruébalo con N= 10 millones"
   ]
  },
  {
   "cell_type": "code",
   "execution_count": 5,
   "id": "ab710a27",
   "metadata": {},
   "outputs": [
    {
     "name": "stdout",
     "output_type": "stream",
     "text": [
      "Se encontraron 664579 números primos menores que 10000000\n",
      "Algunos de los números primos encontrados: [ 2  3  5  7 11 13 17 19 23 29]\n"
     ]
    }
   ],
   "source": [
    "#Opción 1 (Enfoque poco eficaz pero intuitivo)\n",
    "\n",
    "def criba_eratostenes(n):\n",
    "    \n",
    "    numeros = np.arange(0, n + 1)\n",
    "    mascara = np.ones(n+1, dtype=bool)\n",
    "    mascara[0:2] = 0  #0 y 1 no son primos\n",
    "    \n",
    "    # Empezar desde el primer número primo, que es 2\n",
    "    for i in range(2, int(n)+1):\n",
    "        if mascara[i] == 1:\n",
    "            # 2*i porque queremos que i se quede como 1\n",
    "            mascara[2*i:n+1:i] = 0\n",
    "    \n",
    "    return numeros[mascara]\n",
    "\n",
    "#Opción 2 (Enfoque eficaz)\n",
    "\n",
    "def criba_eratostenes2(n):\n",
    "    #n+1 para que los indices coincidan con los números\n",
    "    primos = np.ones(n+1, dtype=bool)\n",
    "    primos[0:2] = 0 # 0 y 1 no son primos\n",
    "    \n",
    "    #vale la gracia de esto es que todos los números compuestos en n \n",
    "    #deben tener al menos un factor menor o igual a la raíz cuadrada de n\n",
    "    \n",
    "    for i in range(2, int(np.sqrt(n)) + 1):#range(i,j) va de i a j-1, por eso el +1\n",
    "        if primos[i]==1:\n",
    "            #Comenzamos a marcar desde i*i porque cualquier múltiplo menor de i \n",
    "            #ya habrá sido marcado por números primos menores que i\n",
    "            primos[i*i:n+1:i] = 0\n",
    "            \n",
    "    return np.nonzero(primos)[0]#el primer elemento es el array en sí\n",
    "\n",
    "a = 10000000\n",
    "primos = criba_eratostenes(a)\n",
    "\n",
    "print(f\"Se encontraron {len(primos)} números primos menores que {a}\")\n",
    "print(\"Algunos de los números primos encontrados:\", primos[:10])  "
   ]
  },
  {
   "cell_type": "markdown",
   "id": "923a0854",
   "metadata": {},
   "source": [
    "##### 6. Escribe un script que compare la eficiencia de usar vectorización respecto a aplicar directamente la función a cada elemento. Para ello genera una matriz aleatoria suficientemente grande. Programa una función que, para un valor v[i,j] calcule la media de los valores que tiene a la izquierda, a la derecha, arriba y abajo (aquellos que existan)"
   ]
  },
  {
   "cell_type": "code",
   "execution_count": 6,
   "id": "d787ea38",
   "metadata": {},
   "outputs": [
    {
     "name": "stdout",
     "output_type": "stream",
     "text": [
      "[[0.45923616 0.7160506  0.61784643 ... 0.62399572 0.74395383 0.10318657]\n",
      " [0.76717082 0.70638916 0.65720836 ... 0.61381949 0.3628495  0.91293889]\n",
      " [0.76296927 0.73621977 0.62439735 ... 0.48680554 0.82479703 0.32589507]\n",
      " ...\n",
      " [0.50798458 0.32022996 0.43348298 ... 0.34444737 0.14417502 0.27234716]\n",
      " [0.44334156 0.5294749  0.64724514 ... 0.23784238 0.20013425 0.22026183]\n",
      " [0.74146567 0.62733008 0.53944943 ... 0.1709031  0.40267883 0.05697438]]\n",
      "[[0.45923616 0.7160506  0.61784643 ... 0.62399572 0.74395383 0.10318657]\n",
      " [0.76717082 0.70638916 0.65720836 ... 0.61381949 0.3628495  0.91293889]\n",
      " [0.76296927 0.73621977 0.62439735 ... 0.48680554 0.82479703 0.32589507]\n",
      " ...\n",
      " [0.50798458 0.32022996 0.43348298 ... 0.34444737 0.14417502 0.27234716]\n",
      " [0.44334156 0.5294749  0.64724514 ... 0.23784238 0.20013425 0.22026183]\n",
      " [0.74146567 0.62733008 0.53944943 ... 0.1709031  0.40267883 0.05697438]]\n",
      "Tiempo usando bucle sobre elementos:\n",
      "Tiempo: 3.5412 segundos\n",
      "\n",
      "Tiempo usando vectorización:\n",
      "Tiempo: 0.0263 segundos\n"
     ]
    }
   ],
   "source": [
    "from numpy import random\n",
    "import timeit\n",
    "def mediavecinos(matriz, i, j):\n",
    "    \n",
    "    suma = 0\n",
    "    count = 0\n",
    "    \n",
    "    # Vecino izquierdo\n",
    "    if j > 0:\n",
    "        suma += matriz[i, j-1]\n",
    "        count += 1\n",
    "    # Vecino derecho\n",
    "    if j < matriz.shape[1] - 1:\n",
    "        suma += matriz[i, j+1]\n",
    "        count += 1\n",
    "    # Vecino superior\n",
    "    if i > 0:\n",
    "        suma += matriz[i-1, j]\n",
    "        count += 1\n",
    "    # Vecino inferior\n",
    "    if i < matriz.shape[0] - 1:\n",
    "        suma += matriz[i+1, j]\n",
    "        count += 1\n",
    "    \n",
    "    # Calcular la media si hay vecinos válidos\n",
    "    if count > 0:\n",
    "        return suma / count\n",
    "    else:\n",
    "        return 0\n",
    "    \n",
    "n = 1000\n",
    "m = 1000\n",
    "matriz = random.rand(n,m)\n",
    "matriz\n",
    "\n",
    "def calcular_media_elemento(matriz):\n",
    "    resultado = np.zeros(matriz.shape, dtype=float)\n",
    "    for i in range(matriz.shape[0]):\n",
    "        for j in range(matriz.shape[1]):\n",
    "            resultado[i, j] = mediavecinos(matriz, i, j)\n",
    "    return resultado\n",
    "\n",
    "print(calcular_media_elemento(matriz))\n",
    "\n",
    "def calcular_media_vectorizada(matriz):\n",
    "    \n",
    "    resultado = np.zeros(matriz.shape, dtype=float)\n",
    "    \n",
    "    # Sumar los vecinos izquierdos (si existen)\n",
    "    resultado[:, :-1] += matriz[:, 1:]\n",
    "    \n",
    "    # Sumar los vecinos derechos (si existen)\n",
    "    resultado[:, 1:] += matriz[:, :-1]\n",
    "    \n",
    "    # Sumar los vecinos superiores (si existen)\n",
    "    resultado[:-1, :] += matriz[1:, :]\n",
    "    \n",
    "    # Sumar los vecinos inferiores (si existen)\n",
    "    resultado[1:, :] += matriz[:-1, :]\n",
    "    \n",
    "     # Ajustar divisiones para bordes y esquinas\n",
    "    # Esquina superior izquierda\n",
    "    resultado[0, 0] /= 2\n",
    "    \n",
    "    # Esquina superior derecha\n",
    "    resultado[0, -1] /= 2\n",
    "    \n",
    "    # Esquina inferior izquierda\n",
    "    resultado[-1, 0] /= 2\n",
    "    \n",
    "    # Esquina inferior derecha\n",
    "    resultado[-1, -1] /= 2\n",
    "    \n",
    "    # Borde superior (excluyendo esquinas)\n",
    "    resultado[0, 1:-1] /= 3\n",
    "    \n",
    "    # Borde inferior (excluyendo esquinas)\n",
    "    resultado[-1, 1:-1] /= 3\n",
    "    \n",
    "    # Borde izquierdo (excluyendo esquinas)\n",
    "    resultado[1:-1, 0] /= 3\n",
    "    \n",
    "    # Borde derecho (excluyendo esquinas)\n",
    "    resultado[1:-1, -1] /= 3\n",
    "    \n",
    "    # Dividir por 4 para obtener la media para los elementos internos\n",
    "    resultado[1:-1, 1:-1] /= 4\n",
    "    \n",
    "    return resultado\n",
    "\n",
    "print(calcular_media_vectorizada(matriz))\n",
    "\n",
    "print(\"Tiempo usando bucle sobre elementos:\")\n",
    "time_elemento = timeit.timeit(lambda: calcular_media_elemento(matriz), number=1)\n",
    "print(f\"Tiempo: {time_elemento:.4f} segundos\")\n",
    "\n",
    "print(\"\\nTiempo usando vectorización:\")\n",
    "time_vectorizado = timeit.timeit(lambda: calcular_media_vectorizada(matriz), number=1)\n",
    "print(f\"Tiempo: {time_vectorizado:.4f} segundos\")"
   ]
  },
  {
   "cell_type": "markdown",
   "id": "541609fb",
   "metadata": {},
   "source": [
    "##### 7. Usando scipy.optimize.fsolve escribe el código para resolver el sistema de ecuaciones:\n",
    "\n",
    "    x**2 + y**2 = 10\n",
    "\n",
    "    x * math.exp(y) = 1"
   ]
  },
  {
   "cell_type": "code",
   "execution_count": 7,
   "id": "199453e9",
   "metadata": {
    "scrolled": true
   },
   "outputs": [
    {
     "name": "stdout",
     "output_type": "stream",
     "text": [
      "[ 2.96912066 -1.08826583]\n",
      "[-9.112710586123285e-13, -3.571032358706816e-12]\n"
     ]
    }
   ],
   "source": [
    "from scipy.optimize import fsolve\n",
    "from math import exp\n",
    "\n",
    "def nonlin(v):\n",
    "    x,y = v\n",
    "    return[x**2 + y**2 -10,\n",
    "          x * exp(y) - 1]\n",
    "root = fsolve(nonlin,[1,1])\n",
    "\n",
    "print(root)\n",
    "print(nonlin(root))"
   ]
  }
 ],
 "metadata": {
  "kernelspec": {
   "display_name": "Python 3 (ipykernel)",
   "language": "python",
   "name": "python3"
  },
  "language_info": {
   "codemirror_mode": {
    "name": "ipython",
    "version": 3
   },
   "file_extension": ".py",
   "mimetype": "text/x-python",
   "name": "python",
   "nbconvert_exporter": "python",
   "pygments_lexer": "ipython3",
   "version": "3.9.12"
  }
 },
 "nbformat": 4,
 "nbformat_minor": 5
}
