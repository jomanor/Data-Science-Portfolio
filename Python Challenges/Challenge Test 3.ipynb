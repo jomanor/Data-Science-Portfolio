{
 "cells": [
  {
   "cell_type": "markdown",
   "id": "75fc6d63",
   "metadata": {},
   "source": [
    "### Challenge Test 3"
   ]
  },
  {
   "cell_type": "markdown",
   "id": "2071b9db",
   "metadata": {},
   "source": [
    "##### 1. Escribe una función suma_columnas(nom_fichero) que dado un archivo formado por un entero en cada línea lea todos los números y los sume."
   ]
  },
  {
   "cell_type": "code",
   "execution_count": 1,
   "id": "f640311e",
   "metadata": {},
   "outputs": [
    {
     "data": {
      "text/plain": [
       "55"
      ]
     },
     "execution_count": 1,
     "metadata": {},
     "output_type": "execute_result"
    }
   ],
   "source": [
    "def suma_columnas(nom_fichero):\n",
    "    \n",
    "    suma = 0\n",
    "    with open(nom_fichero, 'r') as f:\n",
    "        for linea in f:\n",
    "            suma += int(linea.strip())\n",
    "            \n",
    "    return suma\n",
    "\n",
    "nombre_fichero = r\"C:\\Users\\Usuario\\Desktop\\datos.txt\"\n",
    "suma_columnas(nombre_fichero)"
   ]
  },
  {
   "cell_type": "markdown",
   "id": "8724d75c",
   "metadata": {},
   "source": [
    "##### 2. Escribe una función leer_columna(nom_fichero, col) que dado un archivo con varias columnas de datos, devuelva una lista formada por los elementos de la columna col."
   ]
  },
  {
   "cell_type": "code",
   "execution_count": 2,
   "id": "671c0f46",
   "metadata": {},
   "outputs": [
    {
     "data": {
      "text/plain": [
       "['1.5', '2.5', '3.5', '4.5', '5.5', '6.5', '7.5', '8.5', '9.5', '10.5']"
      ]
     },
     "execution_count": 2,
     "metadata": {},
     "output_type": "execute_result"
    }
   ],
   "source": [
    "def leer_columna(nom_fichero, col):\n",
    "    \n",
    "    columna = []\n",
    "    \n",
    "    with open(nom_fichero, 'r') as f:\n",
    "        for linea in f:\n",
    "            valores = linea.strip().split(\"\\t\") # Aquí puede ser cualquier delimitador\n",
    "            if len(valores) > col:  # Verificar que la columna exista\n",
    "                columna.append(valores[col])  # Añadir valores a columna\n",
    "    \n",
    "    return columna\n",
    "\n",
    "nombre_fichero = r\"C:\\Users\\Usuario\\Desktop\\datos.txt\"\n",
    "leer_columna(nombre_fichero, 1)"
   ]
  },
  {
   "cell_type": "markdown",
   "id": "3b75759d",
   "metadata": {},
   "source": [
    "##### 3. Escribe una función contar_palabra(nom_fichero, palabra) que cuente el número de veces que aparece palabra en el fichero."
   ]
  },
  {
   "cell_type": "code",
   "execution_count": 7,
   "id": "8854c35f",
   "metadata": {},
   "outputs": [
    {
     "data": {
      "text/plain": [
       "1"
      ]
     },
     "execution_count": 7,
     "metadata": {},
     "output_type": "execute_result"
    }
   ],
   "source": [
    "def contar_palabra(nom_fichero, palabra):\n",
    "    \n",
    "    contador = 0\n",
    "    \n",
    "    with open(nom_fichero, 'r') as f:\n",
    "        for linea in f:\n",
    "            palabras = linea.strip().split()\n",
    "            for pal in palabras:\n",
    "                if pal == palabra:\n",
    "                    contador += 1\n",
    "                    \n",
    "    return contador\n",
    "\n",
    "nombre_fichero = r\"C:\\Users\\Usuario\\Desktop\\datos.txt\"\n",
    "contar_palabra(nombre_fichero, 'rojo')"
   ]
  },
  {
   "cell_type": "markdown",
   "id": "370d1c8b",
   "metadata": {},
   "source": [
    "##### 4. Escribe una función copiar(nombre1, nombre2) que copie línea a línea un fichero con nombre nombre1 en otro con nombre nombre2"
   ]
  },
  {
   "cell_type": "code",
   "execution_count": 8,
   "id": "7de2ad08",
   "metadata": {},
   "outputs": [],
   "source": [
    "def copiar(nombre1, nombre2):\n",
    "    \n",
    "    with open(nombre1, 'r') as f:\n",
    "        with open(nombre2, 'w') as g:\n",
    "          for linea in f:\n",
    "                g.write(linea)\n",
    "\n",
    "nombre_fichero = r\"C:\\Users\\Usuario\\Desktop\\datos.txt\"\n",
    "nombre_fichero2 = r\"C:\\Users\\Usuario\\Desktop\\datos2.txt\"\n",
    "copiar(nombre_fichero, nombre_fichero2)"
   ]
  },
  {
   "cell_type": "markdown",
   "id": "f02073af",
   "metadata": {},
   "source": [
    "##### 5. Escribe un programa que dado un fichero de texto cree un nuevo fichero de texto que tenga cada línea del primero precedido por el número de línea (empezando por uno)."
   ]
  },
  {
   "cell_type": "code",
   "execution_count": 9,
   "id": "b90e6679",
   "metadata": {},
   "outputs": [],
   "source": [
    "nombre_fichero = r\"C:\\Users\\Usuario\\Desktop\\datos.txt\"\n",
    "nombre_fichero2 = r\"C:\\Users\\Usuario\\Desktop\\nuevofichero.txt\"\n",
    "\n",
    "def numerar_linea(nombre1, nombre2):\n",
    "    \n",
    "    with open(nombre1, 'r') as f:\n",
    "        num_linea = 1\n",
    "        with open(nombre2, 'w') as g:\n",
    "            for linea in f:\n",
    "                g.write(f\"{num_linea} {linea}\")\n",
    "                num_linea += 1\n",
    "                \n",
    "numerar_linea(nombre_fichero, nombre_fichero2)"
   ]
  },
  {
   "cell_type": "markdown",
   "id": "bff62856",
   "metadata": {},
   "source": [
    "##### 6. Escribe una función buscar(nom_fichero, texto) que escriba por pantalla el número de línea seguido de la línea completa para cada una de las líneas en las que aparezca el texto."
   ]
  },
  {
   "cell_type": "code",
   "execution_count": 10,
   "id": "2789c7af",
   "metadata": {},
   "outputs": [
    {
     "name": "stdout",
     "output_type": "stream",
     "text": [
      "1 hola\n",
      "\n",
      "3 hola\n",
      "\n",
      "5 hola\n",
      "\n",
      "7 hola\n"
     ]
    }
   ],
   "source": [
    "def buscar(nom_fichero, texto):\n",
    "    \n",
    "    with open(nom_fichero, 'r') as f:\n",
    "        num_linea = 1\n",
    "        for linea in f:\n",
    "            if texto in linea:\n",
    "                print(f\"{num_linea} {linea}\")\n",
    "            num_linea += 1\n",
    "\n",
    "nombre_fichero = r\"C:\\Users\\Usuario\\Desktop\\datos.txt\"\n",
    "buscar(nombre_fichero, 'hola')"
   ]
  },
  {
   "cell_type": "markdown",
   "id": "66535fcd",
   "metadata": {},
   "source": [
    "##### 7. Escribe una función contar_palabras(nom_fichero) que cuente el número de veces que aparece cada palabra en el fichero y devuelva una lista con (palabra, número de apariciones de palabra)\n"
   ]
  },
  {
   "cell_type": "code",
   "execution_count": 11,
   "id": "182d1895",
   "metadata": {},
   "outputs": [
    {
     "data": {
      "text/plain": [
       "[('hola', 4), ('adios', 3)]"
      ]
     },
     "execution_count": 11,
     "metadata": {},
     "output_type": "execute_result"
    }
   ],
   "source": [
    "def contar_palabras(nom_fichero):\n",
    "    \n",
    "    dic = {}\n",
    "    \n",
    "    with open(nom_fichero, 'r') as f:\n",
    "        for linea in f:\n",
    "            palabras = linea.strip().split()\n",
    "            for palabra in palabras:\n",
    "                if palabra in dic:\n",
    "                    dic[palabra] += 1\n",
    "                else:\n",
    "                    dic[palabra] = 1\n",
    "\n",
    "    return list(dic.items()) #o  [(palabra, dic[palabra]) for palabra in dic]\n",
    "\n",
    "nombre_fichero = r\"C:\\Users\\Usuario\\Desktop\\datos.txt\"\n",
    "contar_palabras(nombre_fichero)"
   ]
  },
  {
   "cell_type": "markdown",
   "id": "6730d3a7",
   "metadata": {},
   "source": [
    "##### Apuntes:\n",
    "Cuando convertimos un diccionario en lista tenemos que convertirlo usando dic.items(), si lo convertimos unicamente usando dic obtendremos una lista con las claves únicamente (sin los valores)."
   ]
  }
 ],
 "metadata": {
  "kernelspec": {
   "display_name": "Python 3 (ipykernel)",
   "language": "python",
   "name": "python3"
  },
  "language_info": {
   "codemirror_mode": {
    "name": "ipython",
    "version": 3
   },
   "file_extension": ".py",
   "mimetype": "text/x-python",
   "name": "python",
   "nbconvert_exporter": "python",
   "pygments_lexer": "ipython3",
   "version": "3.9.12"
  }
 },
 "nbformat": 4,
 "nbformat_minor": 5
}
